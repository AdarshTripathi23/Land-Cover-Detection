{
 "cells": [
  {
   "cell_type": "markdown",
   "metadata": {},
   "source": [
    "# Land Cover Classification of Satellite Images"
   ]
  },
  {
   "cell_type": "markdown",
   "metadata": {},
   "source": [
    "**Aidan O'Keefe**"
   ]
  },
  {
   "cell_type": "markdown",
   "metadata": {},
   "source": [
    "IMAGE GOES HERE"
   ]
  },
  {
   "cell_type": "markdown",
   "metadata": {},
   "source": [
    "## Overview"
   ]
  },
  {
   "cell_type": "markdown",
   "metadata": {},
   "source": [
    "A deep learning (neural network) land cover classification project using satellite images (remote sensing)."
   ]
  },
  {
   "cell_type": "markdown",
   "metadata": {},
   "source": [
    "## Business Understanding"
   ]
  },
  {
   "cell_type": "code",
   "execution_count": null,
   "metadata": {},
   "outputs": [],
   "source": []
  },
  {
   "cell_type": "markdown",
   "metadata": {},
   "source": [
    "## Data Understanding"
   ]
  },
  {
   "cell_type": "code",
   "execution_count": 33,
   "metadata": {},
   "outputs": [],
   "source": [
    "#Import needed libraries\n",
    "import os, shutil\n",
    "from PIL import Image, ImageOps\n",
    "\n",
    "#Standard Libraries\n",
    "import numpy as np\n",
    "import pandas as pd\n",
    "\n",
    "# Visualizations\n",
    "from matplotlib import pyplot as plt\n",
    "import seaborn as sns\n",
    "\n",
    "#TensorFlow\n",
    "import tensorflow as tf\n",
    "from tensorflow.keras.preprocessing.image import ImageDataGenerator, array_to_img\n",
    "from keras import models, layers, optimizers, regularizers\n",
    "\n",
    "from tensorflow.data.experimental import cardinality\n",
    "from tensorflow.keras.utils import to_categorical \n",
    "from tensorflow.keras.models import Sequential\n",
    "from tensorflow.keras.layers import Dense # creates densely connected layer object\n",
    "from tensorflow.keras.layers import Flatten # takes 2D input and turns into 1D array\n",
    "from tensorflow.keras.layers import Conv2D # convolution layer\n",
    "from tensorflow.keras.layers import MaxPooling2D # max pooling layer\n",
    "from tensorflow.keras.callbacks import EarlyStopping, ModelCheckpoint"
   ]
  },
  {
   "cell_type": "markdown",
   "metadata": {},
   "source": [
    "### Import Data and Train/Validation/Test Split"
   ]
  },
  {
   "cell_type": "code",
   "execution_count": 2,
   "metadata": {},
   "outputs": [],
   "source": [
    "#Split Images into Train and Test folders using OS and Shutil"
   ]
  },
  {
   "cell_type": "code",
   "execution_count": 3,
   "metadata": {},
   "outputs": [],
   "source": [
    "#List image path for all categories\n",
    "data_AnnualCrop = '/Users/Aidan/Documents/Flatiron/Phase_5/EuroSAT_RGB/AnnualCrop'\n",
    "data_Forest = '/Users/Aidan/Documents/Flatiron/Phase_5/EuroSAT_RGB/Forest'\n",
    "data_HerbaceousVegetation = '/Users/Aidan/Documents/Flatiron/Phase_5/EuroSAT_RGB/HerbaceousVegetation'\n",
    "data_Highway = '/Users/Aidan/Documents/Flatiron/Phase_5/EuroSAT_RGB/Highway'\n",
    "data_Industrial = '/Users/Aidan/Documents/Flatiron/Phase_5/EuroSAT_RGB/Industrial'\n",
    "data_Pasture = '/Users/Aidan/Documents/Flatiron/Phase_5/EuroSAT_RGB/Pasture'\n",
    "data_PermanentCrop = '/Users/Aidan/Documents/Flatiron/Phase_5/EuroSAT_RGB/PermanentCrop'\n",
    "data_Residential = '/Users/Aidan/Documents/Flatiron/Phase_5/EuroSAT_RGB/Residential'\n",
    "data_River = '/Users/Aidan/Documents/Flatiron/Phase_5/EuroSAT_RGB/River'\n",
    "data_SeaLake = '/Users/Aidan/Documents/Flatiron/Phase_5/EuroSAT_RGB/SeaLake'\n",
    "\n",
    "\n",
    "new_dir = 'data/split/'"
   ]
  },
  {
   "cell_type": "code",
   "execution_count": 4,
   "metadata": {},
   "outputs": [],
   "source": [
    "#Create objects that store all the relevant image names.\n",
    "imgs_AnnualCrop = [file for file in os.listdir(data_AnnualCrop) if file.endswith('.jpg')]\n",
    "imgs_Forest = [file for file in os.listdir(data_Forest) if file.endswith('.jpg')]\n",
    "imgs_HerbaceousVegetation = [file for file in os.listdir(data_HerbaceousVegetation) if file.endswith('.jpg')]\n",
    "imgs_Highway = [file for file in os.listdir(data_Highway) if file.endswith('.jpg')]\n",
    "imgs_Industrial = [file for file in os.listdir(data_Industrial) if file.endswith('.jpg')]\n",
    "imgs_Pasture = [file for file in os.listdir(data_Pasture) if file.endswith('.jpg')]\n",
    "imgs_PermanentCrop = [file for file in os.listdir(data_PermanentCrop) if file.endswith('.jpg')]\n",
    "imgs_Residential = [file for file in os.listdir(data_Residential) if file.endswith('.jpg')]\n",
    "imgs_River = [file for file in os.listdir(data_River) if file.endswith('.jpg')]\n",
    "imgs_SeaLake = [file for file in os.listdir(data_SeaLake) if file.endswith('.jpg')]"
   ]
  },
  {
   "cell_type": "code",
   "execution_count": 6,
   "metadata": {},
   "outputs": [],
   "source": [
    "# Make new split folder\n",
    "os.mkdir(new_dir)"
   ]
  },
  {
   "cell_type": "code",
   "execution_count": 7,
   "metadata": {},
   "outputs": [],
   "source": [
    "#Set up the Train folder and subfolders\n",
    "train_folder = os.path.join(new_dir, 'train')\n",
    "train_AnnualCrop = os.path.join(train_folder, 'AnnualCrop')\n",
    "train_Forest = os.path.join(train_folder, 'Forest')\n",
    "train_HerbaceousVegetation = os.path.join(train_folder, 'HerbaceousVegetation')\n",
    "train_Highway = os.path.join(train_folder, 'Highway')\n",
    "train_Industrial = os.path.join(train_folder, 'Industrial')\n",
    "train_Pasture = os.path.join(train_folder, 'Pasture')\n",
    "train_PermanentCrop = os.path.join(train_folder, 'PermanentCrop')\n",
    "train_Residential = os.path.join(train_folder, 'Residential')\n",
    "train_River = os.path.join(train_folder, 'River')\n",
    "train_SeaLake = os.path.join(train_folder, 'SeaLake')\n"
   ]
  },
  {
   "cell_type": "code",
   "execution_count": 8,
   "metadata": {},
   "outputs": [],
   "source": [
    "#Set up the Test folder and subfolders\n",
    "test_folder = os.path.join(new_dir, 'test')\n",
    "test_AnnualCrop = os.path.join(test_folder, 'AnnualCrop')\n",
    "test_Forest = os.path.join(test_folder, 'Forest')\n",
    "test_HerbaceousVegetation = os.path.join(test_folder, 'HerbaceousVegetation')\n",
    "test_Highway = os.path.join(test_folder, 'Highway')\n",
    "test_Industrial = os.path.join(test_folder, 'Industrial')\n",
    "test_Pasture = os.path.join(test_folder, 'Pasture')\n",
    "test_PermanentCrop = os.path.join(test_folder, 'PermanentCrop')\n",
    "test_Residential = os.path.join(test_folder, 'Residential')\n",
    "test_River = os.path.join(test_folder, 'River')\n",
    "test_SeaLake = os.path.join(test_folder, 'SeaLake')"
   ]
  },
  {
   "cell_type": "code",
   "execution_count": 9,
   "metadata": {},
   "outputs": [],
   "source": [
    "# Make the Train directories(folders)\n",
    "os.mkdir(train_folder)\n",
    "os.mkdir(train_AnnualCrop)\n",
    "os.mkdir(train_Forest)\n",
    "os.mkdir(train_HerbaceousVegetation)\n",
    "os.mkdir(train_Highway)\n",
    "os.mkdir(train_Industrial)\n",
    "os.mkdir(train_Pasture)\n",
    "os.mkdir(train_PermanentCrop)\n",
    "os.mkdir(train_Residential)\n",
    "os.mkdir(train_River)\n",
    "os.mkdir(train_SeaLake)\n",
    "\n",
    "# Make the Test directories(folders)\n",
    "os.mkdir(test_folder)\n",
    "os.mkdir(test_AnnualCrop)\n",
    "os.mkdir(test_Forest)\n",
    "os.mkdir(test_HerbaceousVegetation)\n",
    "os.mkdir(test_Highway)\n",
    "os.mkdir(test_Industrial)\n",
    "os.mkdir(test_Pasture)\n",
    "os.mkdir(test_PermanentCrop)\n",
    "os.mkdir(test_Residential)\n",
    "os.mkdir(test_River)\n",
    "os.mkdir(test_SeaLake)"
   ]
  },
  {
   "cell_type": "code",
   "execution_count": 10,
   "metadata": {},
   "outputs": [],
   "source": [
    "# Compile 80% of images into folders- Train\n",
    "imgs = imgs_AnnualCrop[:2400]\n",
    "for img in imgs:\n",
    "    origin = os.path.join(data_AnnualCrop, img)\n",
    "    destination = os.path.join(train_AnnualCrop, img)\n",
    "    shutil.copyfile(origin, destination)\n",
    "    \n",
    "imgs = imgs_Forest[:2400]\n",
    "for img in imgs:\n",
    "    origin = os.path.join(data_Forest, img)\n",
    "    destination = os.path.join(train_Forest, img)\n",
    "    shutil.copyfile(origin, destination)\n",
    "\n",
    "imgs = imgs_HerbaceousVegetation[:2400]\n",
    "for img in imgs:\n",
    "    origin = os.path.join(data_HerbaceousVegetation, img)\n",
    "    destination = os.path.join(train_HerbaceousVegetation, img)\n",
    "    shutil.copyfile(origin, destination)\n",
    "    \n",
    "imgs = imgs_Highway[:2000]\n",
    "for img in imgs:\n",
    "    origin = os.path.join(data_Highway, img)\n",
    "    destination = os.path.join(train_Highway, img)\n",
    "    shutil.copyfile(origin, destination)\n",
    "    \n",
    "imgs = imgs_Industrial[:2000]\n",
    "for img in imgs:\n",
    "    origin = os.path.join(data_Industrial, img)\n",
    "    destination = os.path.join(train_Industrial, img)\n",
    "    shutil.copyfile(origin, destination)\n",
    "    \n",
    "imgs = imgs_Pasture[:1600]\n",
    "for img in imgs:\n",
    "    origin = os.path.join(data_Pasture, img)\n",
    "    destination = os.path.join(train_Pasture, img)\n",
    "    shutil.copyfile(origin, destination)\n",
    "    \n",
    "imgs = imgs_PermanentCrop[:2000]\n",
    "for img in imgs:\n",
    "    origin = os.path.join(data_PermanentCrop, img)\n",
    "    destination = os.path.join(train_PermanentCrop, img)\n",
    "    shutil.copyfile(origin, destination)\n",
    "    \n",
    "imgs = imgs_Residential[:2400]\n",
    "for img in imgs:\n",
    "    origin = os.path.join(data_Residential, img)\n",
    "    destination = os.path.join(train_Residential, img)\n",
    "    shutil.copyfile(origin, destination)\n",
    "    \n",
    "imgs = imgs_River[:2000]\n",
    "for img in imgs:\n",
    "    origin = os.path.join(data_River, img)\n",
    "    destination = os.path.join(train_River, img)\n",
    "    shutil.copyfile(origin, destination)\n",
    "    \n",
    "imgs = imgs_SeaLake[:2400]\n",
    "for img in imgs:\n",
    "    origin = os.path.join(data_SeaLake, img)\n",
    "    destination = os.path.join(train_SeaLake, img)\n",
    "    shutil.copyfile(origin, destination)"
   ]
  },
  {
   "cell_type": "code",
   "execution_count": 11,
   "metadata": {},
   "outputs": [],
   "source": [
    "# Compile other 20% of images into folders- Test\n",
    "imgs = imgs_AnnualCrop[2400:] #600\n",
    "for img in imgs:\n",
    "    origin = os.path.join(data_AnnualCrop, img)\n",
    "    destination = os.path.join(test_AnnualCrop, img)\n",
    "    shutil.copyfile(origin, destination)\n",
    "    \n",
    "imgs = imgs_Forest[2400:] #600\n",
    "for img in imgs:\n",
    "    origin = os.path.join(data_Forest, img)\n",
    "    destination = os.path.join(test_Forest, img)\n",
    "    shutil.copyfile(origin, destination)\n",
    "\n",
    "imgs = imgs_HerbaceousVegetation[2400:] #600\n",
    "for img in imgs:\n",
    "    origin = os.path.join(data_HerbaceousVegetation, img)\n",
    "    destination = os.path.join(test_HerbaceousVegetation, img)\n",
    "    shutil.copyfile(origin, destination)\n",
    "    \n",
    "imgs = imgs_Highway[2000:] #500\n",
    "for img in imgs:\n",
    "    origin = os.path.join(data_Highway, img)\n",
    "    destination = os.path.join(test_Highway, img)\n",
    "    shutil.copyfile(origin, destination)\n",
    "    \n",
    "imgs = imgs_Industrial[2000:] #500\n",
    "for img in imgs:\n",
    "    origin = os.path.join(data_Industrial, img)\n",
    "    destination = os.path.join(test_Industrial, img)\n",
    "    shutil.copyfile(origin, destination)\n",
    "    \n",
    "imgs = imgs_Pasture[1600:] #400\n",
    "for img in imgs:\n",
    "    origin = os.path.join(data_Pasture, img)\n",
    "    destination = os.path.join(test_Pasture, img)\n",
    "    shutil.copyfile(origin, destination)\n",
    "    \n",
    "imgs = imgs_PermanentCrop[2000:] #500\n",
    "for img in imgs:\n",
    "    origin = os.path.join(data_PermanentCrop, img)\n",
    "    destination = os.path.join(test_PermanentCrop, img)\n",
    "    shutil.copyfile(origin, destination)\n",
    "    \n",
    "imgs = imgs_Residential[2400:] #600\n",
    "for img in imgs:\n",
    "    origin = os.path.join(data_Residential, img)\n",
    "    destination = os.path.join(test_Residential, img)\n",
    "    shutil.copyfile(origin, destination)\n",
    "    \n",
    "imgs = imgs_River[2000:] #500\n",
    "for img in imgs:\n",
    "    origin = os.path.join(data_River, img)\n",
    "    destination = os.path.join(test_River, img)\n",
    "    shutil.copyfile(origin, destination)\n",
    "    \n",
    "imgs = imgs_SeaLake[2400:] #600\n",
    "for img in imgs:\n",
    "    origin = os.path.join(data_SeaLake, img)\n",
    "    destination = os.path.join(test_SeaLake, img)\n",
    "    shutil.copyfile(origin, destination)"
   ]
  },
  {
   "cell_type": "code",
   "execution_count": 12,
   "metadata": {},
   "outputs": [
    {
     "name": "stdout",
     "output_type": "stream",
     "text": [
      "Found 18900 images belonging to 10 classes.\n",
      "Found 2700 images belonging to 10 classes.\n",
      "Found 5400 images belonging to 10 classes.\n"
     ]
    }
   ],
   "source": [
    "train_folder = 'data/split/train'\n",
    "test_folder = 'data/split/test'\n",
    "\n",
    "# Normalize images\n",
    "train_gen = ImageDataGenerator(rescale=1./255, validation_split = 0.125)\n",
    "test_gen = ImageDataGenerator(rescale=1./255)\n",
    "\n",
    "#Import data as 70% Train (10% Validation of orginal data set) and 20% Test\n",
    "train_generator = train_gen.flow_from_directory(train_folder,\n",
    "                                                class_mode = 'categorical', \n",
    "                                                subset ='training', \n",
    "                                                batch_size=128,\n",
    "                                                shuffle=True,\n",
    "                                                seed=42)\n",
    "                                               \n",
    "val_generator= train_gen.flow_from_directory(train_folder,\n",
    "                                             class_mode= 'categorical',\n",
    "                                             subset = \"validation\",\n",
    "                                             batch_size=128,\n",
    "                                             shuffle=True,\n",
    "                                             seed=42)\n",
    "\n",
    "test_generator= test_gen.flow_from_directory(test_folder,\n",
    "                                              class_mode= 'categorical',\n",
    "                                              batch_size=128,\n",
    "                                              shuffle=True,\n",
    "                                              seed=42)"
   ]
  },
  {
   "cell_type": "code",
   "execution_count": 13,
   "metadata": {},
   "outputs": [],
   "source": [
    "# create the data sets\n",
    "train_images, train_labels = next(train_generator)\n",
    "test_images, test_labels = next(test_generator)\n",
    "val_images, val_labels = next(val_generator)"
   ]
  },
  {
   "cell_type": "code",
   "execution_count": null,
   "metadata": {},
   "outputs": [],
   "source": []
  },
  {
   "cell_type": "markdown",
   "metadata": {},
   "source": [
    "### Explore Data"
   ]
  },
  {
   "cell_type": "code",
   "execution_count": 15,
   "metadata": {},
   "outputs": [
    {
     "name": "stdout",
     "output_type": "stream",
     "text": [
      "Train ~ [(0, 2100), (1, 2100), (2, 2100), (3, 1750), (4, 1750), (5, 1400), (6, 1750), (7, 2100), (8, 1750), (9, 2100)]\n",
      "Validation ~ [(0, 300), (1, 300), (2, 300), (3, 250), (4, 250), (5, 200), (6, 250), (7, 300), (8, 250), (9, 300)]\n",
      "Test ~ [(0, 600), (1, 600), (2, 600), (3, 500), (4, 500), (5, 400), (6, 500), (7, 600), (8, 500), (9, 600)]\n"
     ]
    }
   ],
   "source": [
    "#Confirm class balance for train and test\n",
    "train_classes = train_generator.classes\n",
    "val_classes = val_generator.classes\n",
    "test_classes = test_generator.classes\n",
    "\n",
    "train_class, train_count = np.unique(train_classes, return_counts=True)\n",
    "val_class, val_count = np.unique(val_classes, return_counts=True)\n",
    "test_class, test_count = np.unique(test_classes, return_counts=True)\n",
    "\n",
    "print('Train ~ {}'.format(list(zip(train_class, train_count))))\n",
    "print('Validation ~ {}'.format(list(zip(val_class, val_count))))\n",
    "print('Test ~ {}'.format(list(zip(test_class, test_count))))"
   ]
  },
  {
   "cell_type": "code",
   "execution_count": 16,
   "metadata": {
    "scrolled": false
   },
   "outputs": [
    {
     "name": "stdout",
     "output_type": "stream",
     "text": [
      "Train: {'AnnualCrop': 0, 'Forest': 1, 'HerbaceousVegetation': 2, 'Highway': 3, 'Industrial': 4, 'Pasture': 5, 'PermanentCrop': 6, 'Residential': 7, 'River': 8, 'SeaLake': 9}\n",
      "Validation: {'AnnualCrop': 0, 'Forest': 1, 'HerbaceousVegetation': 2, 'Highway': 3, 'Industrial': 4, 'Pasture': 5, 'PermanentCrop': 6, 'Residential': 7, 'River': 8, 'SeaLake': 9}\n",
      "Train: {'AnnualCrop': 0, 'Forest': 1, 'HerbaceousVegetation': 2, 'Highway': 3, 'Industrial': 4, 'Pasture': 5, 'PermanentCrop': 6, 'Residential': 7, 'River': 8, 'SeaLake': 9}\n"
     ]
    }
   ],
   "source": [
    "#Checking the classes in our train data \n",
    "train_class_names = train_generator.class_indices\n",
    "print('Train:', train_class_names)\n",
    "\n",
    "#Checking the classes in our validation data\n",
    "val_class_names = val_generator.class_indices\n",
    "print('Validation:', val_class_names)\n",
    "\n",
    "#Checking the classes in our test data\n",
    "test_class_names = test_generator.class_indices\n",
    "print('Train:', test_class_names)"
   ]
  },
  {
   "cell_type": "code",
   "execution_count": 17,
   "metadata": {},
   "outputs": [
    {
     "name": "stdout",
     "output_type": "stream",
     "text": [
      "Train\n",
      "(128, 256, 256, 3)\n",
      "(128, 10)\n",
      "Validation\n",
      "(128, 256, 256, 3)\n",
      "(128, 10)\n",
      "Test\n",
      "(128, 256, 256, 3)\n",
      "(128, 10)\n"
     ]
    }
   ],
   "source": [
    "# Preview the shape of both the images and labels for both the train and test sets (6 objects total)\n",
    "print(\"Train\")\n",
    "print(np.shape(train_images))\n",
    "print(np.shape(train_labels))\n",
    "print(\"Validation\")\n",
    "print(np.shape(val_images))\n",
    "print(np.shape(val_labels))\n",
    "print(\"Test\")\n",
    "print(np.shape(test_images))\n",
    "print(np.shape(test_labels))"
   ]
  },
  {
   "cell_type": "code",
   "execution_count": 18,
   "metadata": {},
   "outputs": [
    {
     "name": "stdout",
     "output_type": "stream",
     "text": [
      "[0. 0. 0. 0. 0. 0. 0. 0. 0. 1.]\n"
     ]
    },
    {
     "data": {
      "image/png": "[encoded data removed]",
      "text/plain": [
       "<PIL.Image.Image image mode=RGB size=256x256 at 0x7FF692526610>"
      ]
     },
     "execution_count": 18,
     "metadata": {},
     "output_type": "execute_result"
    }
   ],
   "source": [
    "# Preview an train data image\n",
    "print(train_labels[0])\n",
    "array_to_img(train_images[0])"
   ]
  },
  {
   "cell_type": "code",
   "execution_count": 19,
   "metadata": {},
   "outputs": [
    {
     "name": "stdout",
     "output_type": "stream",
     "text": [
      "[0. 0. 0. 0. 1. 0. 0. 0. 0. 0.]\n"
     ]
    },
    {
     "data": {
      "image/png": "[encoded data removed]",
      "text/plain": [
       "<PIL.Image.Image image mode=RGB size=256x256 at 0x7FF689F5DA00>"
      ]
     },
     "execution_count": 19,
     "metadata": {},
     "output_type": "execute_result"
    }
   ],
   "source": [
    "# Preview a test data image\n",
    "print(test_labels[0])\n",
    "array_to_img(test_images[0])"
   ]
  },
  {
   "cell_type": "markdown",
   "metadata": {},
   "source": [
    "## Modeling"
   ]
  },
  {
   "cell_type": "code",
   "execution_count": 96,
   "metadata": {},
   "outputs": [],
   "source": [
    "# m_train = train_images.shape[0]\n",
    "# num_px = train_images.shape[1]\n",
    "# m_test = test_images.shape[0]\n",
    "# # m_val = val_images.shape[0]\n",
    "\n",
    "# print (\"Number of training samples: \" + str(m_train))\n",
    "# print (\"Number of testing samples: \" + str(m_test))\n",
    "# # print (\"Number of validation samples: \" + str(m_val))\n",
    "# print (\"train_images shape: \" + str(train_images.shape))\n",
    "# print (\"train_labels shape: \" + str(train_labels.shape))\n",
    "# print (\"test_images shape: \" + str(test_images.shape))\n",
    "# print (\"test_labels shape: \" + str(test_labels.shape))\n",
    "# # print (\"val_images shape: \" + str(val_images.shape))\n",
    "# # print (\"val_labels shape: \" + str(val_labels.shape))"
   ]
  },
  {
   "cell_type": "code",
   "execution_count": 97,
   "metadata": {},
   "outputs": [],
   "source": [
    "# train_img = train_images.reshape(train_images.shape[0], -1)\n",
    "# test_img = test_images.reshape(test_images.shape[0], -1)\n",
    "# # val_img = val_images.reshape(val_images.shape[0], -1)\n",
    "\n",
    "# print(train_img.shape)\n",
    "# print(test_img.shape)\n",
    "# # print(val_img.shape)"
   ]
  },
  {
   "cell_type": "code",
   "execution_count": 93,
   "metadata": {},
   "outputs": [],
   "source": [
    "# train_y = np.reshape(train_labels[:,0], (128,1))\n",
    "# test_y = np.reshape(test_labels[:,0], (128,1))\n",
    "# # val_y = np.reshape(val_labels[:,0], (200,1))"
   ]
  },
  {
   "cell_type": "markdown",
   "metadata": {},
   "source": [
    "### Baseline Model"
   ]
  },
  {
   "cell_type": "code",
   "execution_count": 20,
   "metadata": {},
   "outputs": [
    {
     "name": "stdout",
     "output_type": "stream",
     "text": [
      "Model: \"sequential\"\n",
      "_________________________________________________________________\n",
      "Layer (type)                 Output Shape              Param #   \n",
      "=================================================================\n",
      "conv2d (Conv2D)              (None, 254, 254, 32)      896       \n",
      "_________________________________________________________________\n",
      "max_pooling2d (MaxPooling2D) (None, 127, 127, 32)      0         \n",
      "_________________________________________________________________\n",
      "flatten (Flatten)            (None, 516128)            0         \n",
      "_________________________________________________________________\n",
      "dense (Dense)                (None, 64)                33032256  \n",
      "_________________________________________________________________\n",
      "dense_1 (Dense)              (None, 10)                650       \n",
      "=================================================================\n",
      "Total params: 33,033,802\n",
      "Trainable params: 33,033,802\n",
      "Non-trainable params: 0\n",
      "_________________________________________________________________\n"
     ]
    }
   ],
   "source": [
    "#Instantiate a Sequential model\n",
    "baseline_model = Sequential()\n",
    "\n",
    "\n",
    "# Input Layer- Convolution\n",
    "baseline_model.add(Conv2D(filters=32,\n",
    "                          kernel_size=(3, 3),\n",
    "                          activation='relu',\n",
    "                          input_shape= (256, 256, 3)))\n",
    "\n",
    "\n",
    "# Layer 1- max pool in 2x2 window\n",
    "baseline_model.add(MaxPooling2D(pool_size=(2, 2)))\n",
    "\n",
    "# Layer 2- connect all nodes with dense layer\n",
    "baseline_model.add(Flatten())\n",
    "baseline_model.add(Dense(64, activation='relu'))\n",
    "\n",
    "# Output Layer- softmax activiation for multi-categorical with 10 classes\n",
    "baseline_model.add(Dense(10, activation='softmax'))\n",
    "\n",
    "#Compile the sequential CNN model- adam optimizer, \n",
    "# categorical_crossentropy loss, and set our metric to accuracy\n",
    "baseline_model.compile(optimizer='adam', \n",
    "                       loss='categorical_crossentropy',  \n",
    "                       metrics=['accuracy'])\n",
    "\n",
    "# print model summary\n",
    "baseline_model.summary()"
   ]
  },
  {
   "cell_type": "code",
   "execution_count": 21,
   "metadata": {},
   "outputs": [
    {
     "name": "stdout",
     "output_type": "stream",
     "text": [
      "Epoch 1/5\n",
      "148/148 [==============================] - 299s 2s/step - loss: 3.1271 - accuracy: 0.2569 - val_loss: 1.6714 - val_accuracy: 0.3674\n",
      "Epoch 2/5\n",
      "148/148 [==============================] - 287s 2s/step - loss: 1.5236 - accuracy: 0.4086 - val_loss: 1.4423 - val_accuracy: 0.4456\n",
      "Epoch 3/5\n",
      "148/148 [==============================] - 289s 2s/step - loss: 1.3551 - accuracy: 0.4741 - val_loss: 1.3214 - val_accuracy: 0.4785\n",
      "Epoch 4/5\n",
      "148/148 [==============================] - 288s 2s/step - loss: 1.2343 - accuracy: 0.5362 - val_loss: 1.1967 - val_accuracy: 0.5615\n",
      "Epoch 5/5\n",
      "148/148 [==============================] - 289s 2s/step - loss: 1.1562 - accuracy: 0.5709 - val_loss: 1.1298 - val_accuracy: 0.5796\n"
     ]
    }
   ],
   "source": [
    "#Fit the model \n",
    "baseline_history = baseline_model.fit(train_generator, \n",
    "                                      epochs = 20, \n",
    "                                      batch_size= 128, \n",
    "                                      verbose = 1, \n",
    "                                      validation_data = val_generator)"
   ]
  },
  {
   "cell_type": "code",
   "execution_count": 22,
   "metadata": {},
   "outputs": [
    {
     "name": "stdout",
     "output_type": "stream",
     "text": [
      "43/43 [==============================] - 25s 586ms/step - loss: 1.1399 - accuracy: 0.5715\n",
      "Test loss:  1.1399195194244385\n",
      "Test accuracy:  0.571481466293335\n"
     ]
    }
   ],
   "source": [
    "#Check loss and accuracy on test data\n",
    "test_loss, test_acc = baseline_model.evaluate(test_generator, verbose = 1)\n",
    "\n",
    "print('Test loss: ', test_loss)\n",
    "print('Test accuracy: ', test_acc)"
   ]
  },
  {
   "cell_type": "markdown",
   "metadata": {},
   "source": [
    "It looks like after 5 Epochs our baseline model has an train and test accuracy of about 57%. "
   ]
  },
  {
   "cell_type": "code",
   "execution_count": null,
   "metadata": {},
   "outputs": [],
   "source": []
  },
  {
   "cell_type": "markdown",
   "metadata": {},
   "source": [
    "### First Model"
   ]
  },
  {
   "cell_type": "markdown",
   "metadata": {},
   "source": [
    "Let's make our CNN \"deeper\" and add additonal convolution and max pooling layers."
   ]
  },
  {
   "cell_type": "code",
   "execution_count": 25,
   "metadata": {},
   "outputs": [
    {
     "name": "stdout",
     "output_type": "stream",
     "text": [
      "Model: \"sequential_3\"\n",
      "_________________________________________________________________\n",
      "Layer (type)                 Output Shape              Param #   \n",
      "=================================================================\n",
      "conv2d_4 (Conv2D)            (None, 254, 254, 32)      896       \n",
      "_________________________________________________________________\n",
      "max_pooling2d_4 (MaxPooling2 (None, 127, 127, 32)      0         \n",
      "_________________________________________________________________\n",
      "conv2d_5 (Conv2D)            (None, 124, 124, 32)      16416     \n",
      "_________________________________________________________________\n",
      "max_pooling2d_5 (MaxPooling2 (None, 62, 62, 32)        0         \n",
      "_________________________________________________________________\n",
      "flatten_2 (Flatten)          (None, 123008)            0         \n",
      "_________________________________________________________________\n",
      "dense_2 (Dense)              (None, 64)                7872576   \n",
      "_________________________________________________________________\n",
      "dense_3 (Dense)              (None, 10)                650       \n",
      "=================================================================\n",
      "Total params: 7,890,538\n",
      "Trainable params: 7,890,538\n",
      "Non-trainable params: 0\n",
      "_________________________________________________________________\n"
     ]
    }
   ],
   "source": [
    "#Instantiate a Sequential model\n",
    "model_one = Sequential()\n",
    "\n",
    "\n",
    "# Input Layer- Convolution\n",
    "model_one.add(Conv2D(filters=32,\n",
    "                          kernel_size=(3, 3),\n",
    "                          activation='relu',\n",
    "                          input_shape= (256, 256, 3)))\n",
    "\n",
    "\n",
    "# Layer 1- max pool in 2x2 window\n",
    "model_one.add(MaxPooling2D(pool_size=(2, 2)))\n",
    "\n",
    "# Layer 2- another convolution layer \n",
    "model_one.add(layers.Conv2D(32, (4, 4), activation='relu'))\n",
    "\n",
    "# Layer 3- another max pool layer\n",
    "model_one.add(layers.MaxPooling2D((2, 2)))\n",
    "\n",
    "# Layer 4- connect all nodes with dense layer\n",
    "model_one.add(Flatten())\n",
    "model_one.add(Dense(64, activation='relu'))\n",
    "\n",
    "# Output Layer- softmax activiation for multi-categorical with 10 classes\n",
    "model_one.add(Dense(10, activation='softmax'))\n",
    "\n",
    "#Compile the sequential CNN model- adam optimizer, \n",
    "# categorical_crossentropy loss, and set our metric to accuracy\n",
    "model_one.compile(optimizer='adam', \n",
    "                       loss='categorical_crossentropy',  \n",
    "                       metrics=['accuracy'])\n",
    "\n",
    "# print model summary\n",
    "model_one.summary()"
   ]
  },
  {
   "cell_type": "markdown",
   "metadata": {},
   "source": [
    "Let's also add a stopping criteria as we will be running our models for more epochs."
   ]
  },
  {
   "cell_type": "code",
   "execution_count": 30,
   "metadata": {},
   "outputs": [
    {
     "name": "stdout",
     "output_type": "stream",
     "text": [
      "Epoch 1/20\n",
      "148/148 [==============================] - 536s 4s/step - loss: 1.9524 - accuracy: 0.2476 - val_loss: 1.7115 - val_accuracy: 0.3044\n",
      "Epoch 2/20\n",
      "148/148 [==============================] - 528s 4s/step - loss: 1.6564 - accuracy: 0.3626 - val_loss: 1.5844 - val_accuracy: 0.3937\n",
      "Epoch 3/20\n",
      "148/148 [==============================] - 528s 4s/step - loss: 1.5618 - accuracy: 0.4071 - val_loss: 1.5368 - val_accuracy: 0.4019\n",
      "Epoch 4/20\n",
      "148/148 [==============================] - 524s 4s/step - loss: 1.5130 - accuracy: 0.4306 - val_loss: 1.4690 - val_accuracy: 0.4641\n",
      "Epoch 5/20\n",
      "148/148 [==============================] - 526s 4s/step - loss: 1.3927 - accuracy: 0.4829 - val_loss: 1.3521 - val_accuracy: 0.4941\n",
      "Epoch 6/20\n",
      "148/148 [==============================] - 528s 4s/step - loss: 1.1429 - accuracy: 0.5815 - val_loss: 1.4810 - val_accuracy: 0.4415\n",
      "Epoch 7/20\n",
      "148/148 [==============================] - 527s 4s/step - loss: 1.0788 - accuracy: 0.6037 - val_loss: 1.1528 - val_accuracy: 0.5700\n",
      "Epoch 8/20\n",
      "148/148 [==============================] - 528s 4s/step - loss: 0.9122 - accuracy: 0.6759 - val_loss: 1.1891 - val_accuracy: 0.5907\n",
      "Epoch 9/20\n",
      "148/148 [==============================] - 527s 4s/step - loss: 0.8263 - accuracy: 0.7072 - val_loss: 1.1081 - val_accuracy: 0.6337\n",
      "Epoch 10/20\n",
      "148/148 [==============================] - 525s 4s/step - loss: 0.6983 - accuracy: 0.7565 - val_loss: 1.0155 - val_accuracy: 0.6563\n",
      "Epoch 11/20\n",
      "148/148 [==============================] - 526s 4s/step - loss: 0.6571 - accuracy: 0.7733 - val_loss: 1.0042 - val_accuracy: 0.6537\n",
      "Epoch 12/20\n",
      "148/148 [==============================] - 525s 4s/step - loss: 0.5504 - accuracy: 0.8158 - val_loss: 1.0047 - val_accuracy: 0.6711\n",
      "Epoch 13/20\n",
      "148/148 [==============================] - 527s 4s/step - loss: 0.4573 - accuracy: 0.8521 - val_loss: 1.1646 - val_accuracy: 0.6370\n",
      "Epoch 00013: early stopping\n"
     ]
    }
   ],
   "source": [
    "# Define Stopping Criteria \n",
    "valcallback = EarlyStopping(monitor='val_loss', mode='min', verbose = 1, patience = 2)\n",
    "\n",
    "\n",
    "# Fit the model\n",
    "model_one_history = model_one.fit(train_generator, \n",
    "                                  epochs= 20, \n",
    "                                  validation_data = val_generator, \n",
    "                                  callbacks= valcallback, \n",
    "                                  batch_size=128, \n",
    "                                  verbose = 1)"
   ]
  },
  {
   "cell_type": "code",
   "execution_count": 31,
   "metadata": {},
   "outputs": [
    {
     "name": "stdout",
     "output_type": "stream",
     "text": [
      "43/43 [==============================] - 41s 956ms/step - loss: 1.1719 - accuracy: 0.6444\n",
      "Test loss:  1.1719359159469604\n",
      "Test accuracy:  0.644444465637207\n"
     ]
    }
   ],
   "source": [
    "#Check loss and accuracy on test data\n",
    "test_loss, test_acc = model_one.evaluate(test_generator, verbose = 1)\n",
    "\n",
    "print('Test loss: ', test_loss)\n",
    "print('Test accuracy: ', test_acc)"
   ]
  },
  {
   "cell_type": "code",
   "execution_count": null,
   "metadata": {},
   "outputs": [],
   "source": []
  },
  {
   "cell_type": "code",
   "execution_count": null,
   "metadata": {},
   "outputs": [],
   "source": [
    "# # probability for each class\n",
    "# y_proba = model_images.predict(x_test)\n",
    "# y_proba"
   ]
  },
  {
   "cell_type": "code",
   "execution_count": null,
   "metadata": {},
   "outputs": [],
   "source": [
    "# # argmax axis = -1 gets the column index of maximum probability for each row.\n",
    "# # column index corresponds to digit classes (numbers 0 -9)\n",
    "# predicted = np.argmax(y_proba, axis=-1)\n",
    "# predicted"
   ]
  },
  {
   "cell_type": "code",
   "execution_count": null,
   "metadata": {},
   "outputs": [],
   "source": [
    "# #View confusion matrix of test predictions\n",
    "# cm_digits = confusion_matrix(y_test, predicted)\n",
    "# disp = ConfusionMatrixDisplay(\n",
    "#     confusion_matrix=cm_digits)\n",
    "\n",
    "# disp.plot(cmap=plt.cm.Blues)\n",
    "# plt.show()"
   ]
  },
  {
   "cell_type": "code",
   "execution_count": null,
   "metadata": {},
   "outputs": [],
   "source": []
  },
  {
   "cell_type": "markdown",
   "metadata": {},
   "source": [
    "### Adding Regularization"
   ]
  },
  {
   "cell_type": "markdown",
   "metadata": {},
   "source": [
    "#### Model 2- L1 Regularization"
   ]
  },
  {
   "cell_type": "code",
   "execution_count": 42,
   "metadata": {},
   "outputs": [
    {
     "name": "stdout",
     "output_type": "stream",
     "text": [
      "Model: \"sequential_9\"\n",
      "_________________________________________________________________\n",
      "Layer (type)                 Output Shape              Param #   \n",
      "=================================================================\n",
      "conv2d_14 (Conv2D)           (None, 254, 254, 32)      896       \n",
      "_________________________________________________________________\n",
      "max_pooling2d_14 (MaxPooling (None, 127, 127, 32)      0         \n",
      "_________________________________________________________________\n",
      "conv2d_15 (Conv2D)           (None, 124, 124, 32)      16416     \n",
      "_________________________________________________________________\n",
      "max_pooling2d_15 (MaxPooling (None, 62, 62, 32)        0         \n",
      "_________________________________________________________________\n",
      "flatten_7 (Flatten)          (None, 123008)            0         \n",
      "_________________________________________________________________\n",
      "dense_12 (Dense)             (None, 64)                7872576   \n",
      "_________________________________________________________________\n",
      "dense_13 (Dense)             (None, 10)                650       \n",
      "=================================================================\n",
      "Total params: 7,890,538\n",
      "Trainable params: 7,890,538\n",
      "Non-trainable params: 0\n",
      "_________________________________________________________________\n"
     ]
    }
   ],
   "source": [
    "#Instantiate a Sequential model\n",
    "model_l1 = Sequential()\n",
    "\n",
    "\n",
    "# Input Layer- Convolution\n",
    "model_l1.add(Conv2D(filters=32,\n",
    "                          kernel_size=(3, 3),\n",
    "                          activation='relu',\n",
    "                          input_shape= (256, 256, 3),\n",
    "                     kernel_regularizer=regularizers.l1(0.005)))\n",
    "\n",
    "\n",
    "# Layer 1- max pool in 2x2 window\n",
    "model_l1.add(MaxPooling2D(pool_size=(2, 2)))\n",
    "\n",
    "# Layer 2- another convolution layer \n",
    "model_l1.add(layers.Conv2D(32, (4, 4), \n",
    "                            activation='relu', \n",
    "                            kernel_regularizer=regularizers.l1(0.005)))\n",
    "\n",
    "# Layer 3- another max pool layer\n",
    "model_l1.add(layers.MaxPooling2D((2, 2)))\n",
    "\n",
    "# Layer 4- connect all nodes with dense layer\n",
    "model_l1.add(Flatten())\n",
    "model_l1.add(Dense(64, \n",
    "                    activation='relu', \n",
    "                    kernel_regularizer=regularizers.l1(0.005)))\n",
    "\n",
    "# Output Layer- softmax activiation for multi-categorical with 10 classes\n",
    "model_l1.add(Dense(10, activation='softmax'))\n",
    "\n",
    "#Compile the sequential CNN model- adam optimizer, \n",
    "# categorical_crossentropy loss, and set our metric to accuracy\n",
    "model_l1.compile(optimizer='adam', \n",
    "                       loss='categorical_crossentropy',  \n",
    "                       metrics=['accuracy'])\n",
    "\n",
    "# print model summary\n",
    "model_l1.summary()"
   ]
  },
  {
   "cell_type": "code",
   "execution_count": 43,
   "metadata": {},
   "outputs": [
    {
     "name": "stdout",
     "output_type": "stream",
     "text": [
      "Epoch 1/20\n",
      "148/148 [==============================] - 542s 4s/step - loss: 13.3760 - accuracy: 0.2088 - val_loss: 7.1874 - val_accuracy: 0.2570\n",
      "Epoch 2/20\n",
      "148/148 [==============================] - 532s 4s/step - loss: 7.0548 - accuracy: 0.2457 - val_loss: 6.8582 - val_accuracy: 0.2189\n",
      "Epoch 3/20\n",
      "148/148 [==============================] - 530s 4s/step - loss: 6.8965 - accuracy: 0.2613 - val_loss: 6.8073 - val_accuracy: 0.2685\n",
      "Epoch 4/20\n",
      "148/148 [==============================] - 531s 4s/step - loss: 6.8014 - accuracy: 0.2686 - val_loss: 6.6862 - val_accuracy: 0.3000\n",
      "Epoch 5/20\n",
      "148/148 [==============================] - 528s 4s/step - loss: 6.7419 - accuracy: 0.2755 - val_loss: 6.8024 - val_accuracy: 0.2541\n",
      "Epoch 6/20\n",
      "148/148 [==============================] - 527s 4s/step - loss: 6.7181 - accuracy: 0.2845 - val_loss: 6.6655 - val_accuracy: 0.2967\n",
      "Epoch 7/20\n",
      "148/148 [==============================] - 528s 4s/step - loss: 6.6928 - accuracy: 0.2844 - val_loss: 6.6423 - val_accuracy: 0.2793\n",
      "Epoch 8/20\n",
      "148/148 [==============================] - 527s 4s/step - loss: 6.6213 - accuracy: 0.2959 - val_loss: 6.5966 - val_accuracy: 0.2911\n",
      "Epoch 9/20\n",
      "148/148 [==============================] - 535s 4s/step - loss: 6.6048 - accuracy: 0.3011 - val_loss: 6.5272 - val_accuracy: 0.3115\n",
      "Epoch 10/20\n",
      "148/148 [==============================] - 527s 4s/step - loss: 6.5823 - accuracy: 0.3016 - val_loss: 6.5718 - val_accuracy: 0.3081\n",
      "Epoch 11/20\n",
      "148/148 [==============================] - 528s 4s/step - loss: 6.5770 - accuracy: 0.3020 - val_loss: 6.5932 - val_accuracy: 0.2944\n",
      "Epoch 00011: early stopping\n"
     ]
    }
   ],
   "source": [
    "# Define Stopping Criteria \n",
    "valcallback = EarlyStopping(monitor='val_loss', mode='min', verbose = 1, patience = 2)\n",
    "\n",
    "\n",
    "# Fit the model\n",
    "model_l1_history = model_l1.fit(train_generator, \n",
    "                                  epochs= 20, \n",
    "                                  validation_data = val_generator, \n",
    "                                  callbacks= valcallback, \n",
    "                                  batch_size=128, \n",
    "                                  verbose = 1)"
   ]
  },
  {
   "cell_type": "code",
   "execution_count": 44,
   "metadata": {},
   "outputs": [
    {
     "name": "stdout",
     "output_type": "stream",
     "text": [
      "43/43 [==============================] - 38s 883ms/step - loss: 6.5853 - accuracy: 0.3015\n",
      "Test loss:  6.585337162017822\n",
      "Test accuracy:  0.3014814853668213\n"
     ]
    }
   ],
   "source": [
    "#Check loss and accuracy on test data\n",
    "test_loss, test_acc = model_l1.evaluate(test_generator, verbose = 1)\n",
    "\n",
    "print('Test loss: ', test_loss)\n",
    "print('Test accuracy: ', test_acc)"
   ]
  },
  {
   "cell_type": "markdown",
   "metadata": {},
   "source": [
    "#### Model 3- L2 Regularization"
   ]
  },
  {
   "cell_type": "code",
   "execution_count": 45,
   "metadata": {},
   "outputs": [
    {
     "name": "stdout",
     "output_type": "stream",
     "text": [
      "Model: \"sequential_10\"\n",
      "_________________________________________________________________\n",
      "Layer (type)                 Output Shape              Param #   \n",
      "=================================================================\n",
      "conv2d_16 (Conv2D)           (None, 254, 254, 32)      896       \n",
      "_________________________________________________________________\n",
      "max_pooling2d_16 (MaxPooling (None, 127, 127, 32)      0         \n",
      "_________________________________________________________________\n",
      "conv2d_17 (Conv2D)           (None, 124, 124, 32)      16416     \n",
      "_________________________________________________________________\n",
      "max_pooling2d_17 (MaxPooling (None, 62, 62, 32)        0         \n",
      "_________________________________________________________________\n",
      "flatten_8 (Flatten)          (None, 123008)            0         \n",
      "_________________________________________________________________\n",
      "dense_14 (Dense)             (None, 64)                7872576   \n",
      "_________________________________________________________________\n",
      "dense_15 (Dense)             (None, 10)                650       \n",
      "=================================================================\n",
      "Total params: 7,890,538\n",
      "Trainable params: 7,890,538\n",
      "Non-trainable params: 0\n",
      "_________________________________________________________________\n"
     ]
    }
   ],
   "source": [
    "#Instantiate a Sequential model\n",
    "model_l2 = Sequential()\n",
    "\n",
    "\n",
    "# Input Layer- Convolution\n",
    "model_l2.add(Conv2D(filters=32,\n",
    "                          kernel_size=(3, 3),\n",
    "                          activation='relu',\n",
    "                          input_shape= (256, 256, 3),\n",
    "                     kernel_regularizer=regularizers.l2(0.005)))\n",
    "\n",
    "\n",
    "# Layer 1- max pool in 2x2 window\n",
    "model_l2.add(MaxPooling2D(pool_size=(2, 2)))\n",
    "\n",
    "# Layer 2- another convolution layer \n",
    "model_l2.add(layers.Conv2D(32, (4, 4), \n",
    "                            activation='relu', \n",
    "                            kernel_regularizer=regularizers.l2(0.005)))\n",
    "\n",
    "# Layer 3- another max pool layer\n",
    "model_l2.add(layers.MaxPooling2D((2, 2)))\n",
    "\n",
    "# Layer 4- connect all nodes with dense layer\n",
    "model_l2.add(Flatten())\n",
    "model_l2.add(Dense(64, \n",
    "                    activation='relu', \n",
    "                    kernel_regularizer=regularizers.l2(0.005)))\n",
    "\n",
    "# Output Layer- softmax activiation for multi-categorical with 10 classes\n",
    "model_l2.add(Dense(10, activation='softmax'))\n",
    "\n",
    "#Compile the sequential CNN model- adam optimizer, \n",
    "# categorical_crossentropy loss, and set our metric to accuracy\n",
    "model_l2.compile(optimizer='adam', \n",
    "                       loss='categorical_crossentropy',  \n",
    "                       metrics=['accuracy'])\n",
    "\n",
    "# print model summary\n",
    "model_l2.summary()"
   ]
  },
  {
   "cell_type": "code",
   "execution_count": 46,
   "metadata": {},
   "outputs": [
    {
     "name": "stdout",
     "output_type": "stream",
     "text": [
      "Epoch 1/20\n",
      "148/148 [==============================] - 529s 4s/step - loss: 2.2535 - accuracy: 0.3123 - val_loss: 1.7472 - val_accuracy: 0.4378\n",
      "Epoch 2/20\n",
      "148/148 [==============================] - 529s 4s/step - loss: 1.7020 - accuracy: 0.4045 - val_loss: 1.6228 - val_accuracy: 0.4256\n",
      "Epoch 3/20\n",
      "148/148 [==============================] - 529s 4s/step - loss: 1.5932 - accuracy: 0.4484 - val_loss: 1.5801 - val_accuracy: 0.4285\n",
      "Epoch 4/20\n",
      "148/148 [==============================] - 529s 4s/step - loss: 1.5286 - accuracy: 0.4637 - val_loss: 1.4975 - val_accuracy: 0.5259\n",
      "Epoch 5/20\n",
      "148/148 [==============================] - 531s 4s/step - loss: 1.4671 - accuracy: 0.4776 - val_loss: 1.4665 - val_accuracy: 0.4781\n",
      "Epoch 6/20\n",
      "148/148 [==============================] - 529s 4s/step - loss: 1.4333 - accuracy: 0.4935 - val_loss: 1.4403 - val_accuracy: 0.4711\n",
      "Epoch 7/20\n",
      "148/148 [==============================] - 530s 4s/step - loss: 1.4069 - accuracy: 0.5130 - val_loss: 1.4653 - val_accuracy: 0.5004\n",
      "Epoch 8/20\n",
      "148/148 [==============================] - 530s 4s/step - loss: 1.3662 - accuracy: 0.5352 - val_loss: 1.3629 - val_accuracy: 0.5404\n",
      "Epoch 9/20\n",
      "148/148 [==============================] - 529s 4s/step - loss: 1.3182 - accuracy: 0.5699 - val_loss: 1.3971 - val_accuracy: 0.5648\n",
      "Epoch 10/20\n",
      "148/148 [==============================] - 531s 4s/step - loss: 1.2755 - accuracy: 0.5864 - val_loss: 1.3527 - val_accuracy: 0.5622\n",
      "Epoch 11/20\n",
      "148/148 [==============================] - 529s 4s/step - loss: 1.2415 - accuracy: 0.6038 - val_loss: 1.3201 - val_accuracy: 0.5259\n",
      "Epoch 12/20\n",
      "148/148 [==============================] - 529s 4s/step - loss: 1.2575 - accuracy: 0.5928 - val_loss: 1.2889 - val_accuracy: 0.5826\n",
      "Epoch 13/20\n",
      "148/148 [==============================] - 530s 4s/step - loss: 1.2065 - accuracy: 0.6232 - val_loss: 1.2411 - val_accuracy: 0.6011\n",
      "Epoch 14/20\n",
      "148/148 [==============================] - 531s 4s/step - loss: 1.1755 - accuracy: 0.6288 - val_loss: 1.2209 - val_accuracy: 0.5967\n",
      "Epoch 15/20\n",
      "148/148 [==============================] - 531s 4s/step - loss: 1.1678 - accuracy: 0.6376 - val_loss: 1.1768 - val_accuracy: 0.6041\n",
      "Epoch 16/20\n",
      "148/148 [==============================] - 530s 4s/step - loss: 1.1393 - accuracy: 0.6425 - val_loss: 1.2560 - val_accuracy: 0.5985\n",
      "Epoch 17/20\n",
      "148/148 [==============================] - 532s 4s/step - loss: 1.1220 - accuracy: 0.6538 - val_loss: 1.1658 - val_accuracy: 0.6407\n",
      "Epoch 18/20\n",
      "148/148 [==============================] - 527s 4s/step - loss: 1.1220 - accuracy: 0.6477 - val_loss: 1.1379 - val_accuracy: 0.6356\n",
      "Epoch 19/20\n",
      "148/148 [==============================] - 527s 4s/step - loss: 1.0813 - accuracy: 0.6653 - val_loss: 1.1368 - val_accuracy: 0.6296\n",
      "Epoch 20/20\n",
      "148/148 [==============================] - 526s 4s/step - loss: 1.1007 - accuracy: 0.6537 - val_loss: 1.1140 - val_accuracy: 0.6563\n"
     ]
    }
   ],
   "source": [
    "# Define Stopping Criteria \n",
    "valcallback = EarlyStopping(monitor='val_loss', mode='min', verbose = 1, patience = 2)\n",
    "\n",
    "\n",
    "# Fit the model\n",
    "model_l2_history = model_l2.fit(train_generator, \n",
    "                                  epochs= 20, \n",
    "                                  validation_data = val_generator, \n",
    "                                  callbacks= valcallback, \n",
    "                                  batch_size=128, \n",
    "                                  verbose = 1)"
   ]
  },
  {
   "cell_type": "code",
   "execution_count": 47,
   "metadata": {},
   "outputs": [
    {
     "name": "stdout",
     "output_type": "stream",
     "text": [
      "43/43 [==============================] - 38s 888ms/step - loss: 1.0962 - accuracy: 0.6648\n",
      "Test loss:  1.0961918830871582\n",
      "Test accuracy:  0.664814829826355\n"
     ]
    }
   ],
   "source": [
    "#Check loss and accuracy on test data\n",
    "test_loss, test_acc = model_l2.evaluate(test_generator, verbose = 1)\n",
    "\n",
    "print('Test loss: ', test_loss)\n",
    "print('Test accuracy: ', test_acc)"
   ]
  },
  {
   "cell_type": "markdown",
   "metadata": {},
   "source": [
    "#### Model 4- Dropout Regularization"
   ]
  },
  {
   "cell_type": "code",
   "execution_count": 48,
   "metadata": {},
   "outputs": [
    {
     "name": "stdout",
     "output_type": "stream",
     "text": [
      "Model: \"sequential_11\"\n",
      "_________________________________________________________________\n",
      "Layer (type)                 Output Shape              Param #   \n",
      "=================================================================\n",
      "dropout_8 (Dropout)          (None, 256, 256, 3)       0         \n",
      "_________________________________________________________________\n",
      "conv2d_18 (Conv2D)           (None, 254, 254, 32)      896       \n",
      "_________________________________________________________________\n",
      "max_pooling2d_18 (MaxPooling (None, 127, 127, 32)      0         \n",
      "_________________________________________________________________\n",
      "dropout_9 (Dropout)          (None, 127, 127, 32)      0         \n",
      "_________________________________________________________________\n",
      "conv2d_19 (Conv2D)           (None, 124, 124, 32)      16416     \n",
      "_________________________________________________________________\n",
      "max_pooling2d_19 (MaxPooling (None, 62, 62, 32)        0         \n",
      "_________________________________________________________________\n",
      "dropout_10 (Dropout)         (None, 62, 62, 32)        0         \n",
      "_________________________________________________________________\n",
      "flatten_9 (Flatten)          (None, 123008)            0         \n",
      "_________________________________________________________________\n",
      "dense_16 (Dense)             (None, 64)                7872576   \n",
      "_________________________________________________________________\n",
      "dropout_11 (Dropout)         (None, 64)                0         \n",
      "_________________________________________________________________\n",
      "dense_17 (Dense)             (None, 10)                650       \n",
      "=================================================================\n",
      "Total params: 7,890,538\n",
      "Trainable params: 7,890,538\n",
      "Non-trainable params: 0\n",
      "_________________________________________________________________\n"
     ]
    }
   ],
   "source": [
    "#Instantiate a Sequential model\n",
    "model_dropout = Sequential()\n",
    "\n",
    "\n",
    "# Input Layer- Dropout\n",
    "model_dropout.add(layers.Dropout(0.3, input_shape= (256, 256, 3)))\n",
    "\n",
    "#Convolution Layer\n",
    "model_dropout.add(Conv2D(filters=32,\n",
    "                          kernel_size=(3, 3),\n",
    "                          activation='relu'))\n",
    "\n",
    "# Layer 1- max pool in 2x2 window\n",
    "model_dropout.add(MaxPooling2D(pool_size=(2, 2)))\n",
    "\n",
    "model_dropout.add(layers.Dropout(0.3, input_shape=(2000,)))\n",
    "\n",
    "# Layer 2- another convolution layer \n",
    "model_dropout.add(layers.Conv2D(32, (4, 4), activation='relu'))\n",
    "\n",
    "# Layer 3- another max pool layer\n",
    "model_dropout.add(layers.MaxPooling2D((2, 2)))\n",
    "\n",
    "model_dropout.add(layers.Dropout(0.3, input_shape=(2000,)))\n",
    "\n",
    "# Layer 4- connect all nodes with dense layer\n",
    "model_dropout.add(Flatten())\n",
    "model_dropout.add(Dense(64, activation='relu'))\n",
    "\n",
    "model_dropout.add(layers.Dropout(0.3, input_shape=(2000,)))\n",
    "\n",
    "# Output Layer- softmax activiation for multi-categorical with 10 classes\n",
    "model_dropout.add(Dense(10, activation='softmax'))\n",
    "\n",
    "#Compile the sequential CNN model- adam optimizer, \n",
    "# categorical_crossentropy loss, and set our metric to accuracy\n",
    "model_dropout.compile(optimizer='adam', \n",
    "                       loss='categorical_crossentropy',  \n",
    "                       metrics=['accuracy'])\n",
    "\n",
    "# print model summary\n",
    "model_dropout.summary()"
   ]
  },
  {
   "cell_type": "code",
   "execution_count": 49,
   "metadata": {},
   "outputs": [
    {
     "name": "stdout",
     "output_type": "stream",
     "text": [
      "Epoch 1/20\n",
      "148/148 [==============================] - 609s 4s/step - loss: 2.6446 - accuracy: 0.1148 - val_loss: 2.2975 - val_accuracy: 0.1111\n",
      "Epoch 2/20\n",
      "148/148 [==============================] - 608s 4s/step - loss: 2.2962 - accuracy: 0.1124 - val_loss: 2.2952 - val_accuracy: 0.1111\n",
      "Epoch 3/20\n",
      "148/148 [==============================] - 611s 4s/step - loss: 2.2955 - accuracy: 0.1103 - val_loss: 2.2949 - val_accuracy: 0.1111\n",
      "Epoch 4/20\n",
      "148/148 [==============================] - 608s 4s/step - loss: 2.2952 - accuracy: 0.1119 - val_loss: 2.2948 - val_accuracy: 0.1111\n",
      "Epoch 5/20\n",
      "148/148 [==============================] - 607s 4s/step - loss: 2.2950 - accuracy: 0.1100 - val_loss: 2.2948 - val_accuracy: 0.1111\n",
      "Epoch 6/20\n",
      "148/148 [==============================] - 608s 4s/step - loss: 2.2952 - accuracy: 0.1113 - val_loss: 2.2948 - val_accuracy: 0.1111\n",
      "Epoch 7/20\n",
      "148/148 [==============================] - 610s 4s/step - loss: 2.2952 - accuracy: 0.1118 - val_loss: 2.2948 - val_accuracy: 0.1111\n",
      "Epoch 00007: early stopping\n"
     ]
    }
   ],
   "source": [
    "# Define Stopping Criteria \n",
    "valcallback = EarlyStopping(monitor='val_loss', mode='min', verbose = 1, patience = 2)\n",
    "\n",
    "\n",
    "# Fit the model\n",
    "model_dropout_history = model_dropout.fit(train_generator, \n",
    "                                  epochs= 20, \n",
    "                                  validation_data = val_generator, \n",
    "                                  callbacks= valcallback, \n",
    "                                  batch_size=128, \n",
    "                                  verbose = 1)"
   ]
  },
  {
   "cell_type": "code",
   "execution_count": 50,
   "metadata": {},
   "outputs": [
    {
     "name": "stdout",
     "output_type": "stream",
     "text": [
      "43/43 [==============================] - 37s 860ms/step - loss: 2.2948 - accuracy: 0.1111\n",
      "Test loss:  2.294809341430664\n",
      "Test accuracy:  0.1111111119389534\n"
     ]
    }
   ],
   "source": [
    "#Check loss and accuracy on test data\n",
    "test_loss, test_acc = model_dropout.evaluate(test_generator, verbose = 1)\n",
    "\n",
    "print('Test loss: ', test_loss)\n",
    "print('Test accuracy: ', test_acc)"
   ]
  },
  {
   "cell_type": "code",
   "execution_count": null,
   "metadata": {},
   "outputs": [],
   "source": []
  },
  {
   "cell_type": "markdown",
   "metadata": {},
   "source": [
    "## Evaluation"
   ]
  },
  {
   "cell_type": "code",
   "execution_count": null,
   "metadata": {},
   "outputs": [],
   "source": []
  },
  {
   "cell_type": "markdown",
   "metadata": {},
   "source": [
    "## Conclusion"
   ]
  },
  {
   "cell_type": "code",
   "execution_count": null,
   "metadata": {},
   "outputs": [],
   "source": []
  },
  {
   "cell_type": "markdown",
   "metadata": {},
   "source": [
    "### Recommendations"
   ]
  },
  {
   "cell_type": "code",
   "execution_count": null,
   "metadata": {},
   "outputs": [],
   "source": []
  },
  {
   "cell_type": "markdown",
   "metadata": {},
   "source": [
    "### Next Steps"
   ]
  },
  {
   "cell_type": "code",
   "execution_count": null,
   "metadata": {},
   "outputs": [],
   "source": []
  },
  {
   "cell_type": "code",
   "execution_count": null,
   "metadata": {},
   "outputs": [],
   "source": []
  }
 ],
 "metadata": {
  "kernelspec": {
   "display_name": "Python (learn-env)",
   "language": "python",
   "name": "learn-env"
  },
  "language_info": {
   "codemirror_mode": {
    "name": "ipython",
    "version": 3
   },
   "file_extension": ".py",
   "mimetype": "text/x-python",
   "name": "python",
   "nbconvert_exporter": "python",
   "pygments_lexer": "ipython3",
   "version": "3.8.5"
  }
 },
 "nbformat": 4,
 "nbformat_minor": 4
}
