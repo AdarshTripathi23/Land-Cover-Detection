{
  "cells": [
    {
      "cell_type": "markdown",
      "metadata": {
        "id": "NlEd9QBXAzFi"
      },
      "source": [
        "# Land Cover Classification of RGB Satellite Images"
      ]
    },
    {
      "cell_type": "markdown",
      "metadata": {
        "id": "--POcu7uAzFo"
      },
      "source": [
        "**Aidan O'Keefe**"
      ]
    },
    {
      "cell_type": "markdown",
      "metadata": {
        "id": "3Dt2o_92AzFo"
      },
      "source": [
        "![LandCoverClasses.png](attachment:LandCoverClasses.png)"
      ]
    },
    {
      "cell_type": "markdown",
      "metadata": {
        "id": "U_F5ia0JAzFp"
      },
      "source": [
        "*Samples of each of the Land Cover Classes; from top left- Annual Crop, Forest, Herbaceous Vegetation, Highway, Industrial, Pasture, Permanent Crop, Residential, River, Sea or Lake*"
      ]
    },
    {
      "cell_type": "markdown",
      "metadata": {
        "id": "b7h36X1GAzFq"
      },
      "source": [
        "## Overview"
      ]
    },
    {
      "cell_type": "markdown",
      "metadata": {
        "id": "VbZu3cpDAzFq"
      },
      "source": [
        "A deep learning (neural network) land cover classification project using RGB satellite images (remote sensing)."
      ]
    },
    {
      "cell_type": "markdown",
      "metadata": {
        "id": "DzPv2DOfAzFr"
      },
      "source": [
        "## Business Understanding"
      ]
    },
    {
      "cell_type": "markdown",
      "metadata": {
        "id": "BBhgPaeLAzFs"
      },
      "source": [
        "The Nature Conservancy (TNC) is looking to help protect wildlife migration corridors from development/deforestation, but they can’t be everywhere at once. "
      ]
    },
    {
      "cell_type": "markdown",
      "metadata": {
        "id": "bUK2l9jpAzFs"
      },
      "source": [
        "In order to help them find where to focus their efforts, we want to build Land Cover Classifier so that TNC can monitor deforestation using satellite images to observe if land starts changing from forest or vegetation to another class.  "
      ]
    },
    {
      "cell_type": "markdown",
      "metadata": {
        "id": "R4W8NxqCAzFt"
      },
      "source": [
        "## Data Understanding"
      ]
    },
    {
      "cell_type": "markdown",
      "metadata": {
        "id": "wMNBPbyVAzFt"
      },
      "source": [
        "For this project, I am using RGB satellite images from [EuroSAT: A Novel Dataset and Deep Learning Benchmark for Land Use and Land Cover Classification](https://zenodo.org/record/7711810#.ZCtEhOzMJQK)."
      ]
    },
    {
      "cell_type": "markdown",
      "metadata": {
        "id": "Rf7DI1OdAzFt"
      },
      "source": [
        "This dataset contains 27,000 RGB Satellite Images across 10 classes: \n",
        "- Annual Crop\n",
        "- Forest\n",
        "- Herbaceous Vegetation\n",
        "- Highway\n",
        "- Industrial\n",
        "- Pasture\n",
        "- Permanent Crop\n",
        "- Residential\n",
        "- River\n",
        "- Sea or Lake <br><br>\n",
        "\n",
        "There are about 2,500 images per class."
      ]
    },
    {
      "cell_type": "code",
      "execution_count": 6,
      "metadata": {
        "id": "eVs2TRVkAzFu"
      },
      "outputs": [],
      "source": [
        "#Import needed libraries\n",
        "import os, shutil\n",
        "from PIL import Image, ImageOps\n",
        "\n",
        "#Standard Libraries\n",
        "import numpy as np\n",
        "import pandas as pd\n",
        "\n",
        "# Visualizations\n",
        "from matplotlib import pyplot as plt\n",
        "import seaborn as sns\n",
        "\n",
        "#TensorFlow\n",
        "import tensorflow as tf\n",
        "from tensorflow.keras.preprocessing.image import ImageDataGenerator, array_to_img\n",
        "from keras import models, layers, optimizers, regularizers\n",
        "from tensorflow.keras import Model\n",
        "from tensorflow.data.experimental import cardinality\n",
        "from tensorflow.keras.utils import to_categorical \n",
        "from tensorflow.keras.models import Sequential\n",
        "from tensorflow.keras.layers import Dense # creates densely connected layer object\n",
        "from tensorflow.keras.layers import Flatten # takes 2D input and turns into 1D array\n",
        "from tensorflow.keras.layers import Conv2D # convolution layer\n",
        "from tensorflow.keras.layers import MaxPooling2D # max pooling layer\n",
        "from tensorflow.keras.callbacks import EarlyStopping, ModelCheckpoint\n",
        "\n",
        "#Transfer Learning\n",
        "from keras.applications import ResNet50, VGG19"
      ]
    },
    {
      "cell_type": "markdown",
      "metadata": {
        "id": "aim-QQSxAzFv"
      },
      "source": [
        "### Import Data and Train/Validation/Test Split"
      ]
    },
    {
      "cell_type": "code",
      "execution_count": null,
      "metadata": {
        "id": "tVWgCGlwAzFv"
      },
      "outputs": [],
      "source": [
        "#Split Images into Train and Test folders using OS and Shutil"
      ]
    },
    {
      "cell_type": "code",
      "execution_count": null,
      "metadata": {
        "id": "keitW2mkAzFw"
      },
      "outputs": [],
      "source": [
        "#List image path for all categories\n",
        "data_AnnualCrop = '/Users/Aidan/Documents/Flatiron/Phase_5/EuroSAT_RGB/AnnualCrop'\n",
        "data_Forest = '/Users/Aidan/Documents/Flatiron/Phase_5/EuroSAT_RGB/Forest'\n",
        "data_HerbaceousVegetation = '/Users/Aidan/Documents/Flatiron/Phase_5/EuroSAT_RGB/HerbaceousVegetation'\n",
        "data_Highway = '/Users/Aidan/Documents/Flatiron/Phase_5/EuroSAT_RGB/Highway'\n",
        "data_Industrial = '/Users/Aidan/Documents/Flatiron/Phase_5/EuroSAT_RGB/Industrial'\n",
        "data_Pasture = '/Users/Aidan/Documents/Flatiron/Phase_5/EuroSAT_RGB/Pasture'\n",
        "data_PermanentCrop = '/Users/Aidan/Documents/Flatiron/Phase_5/EuroSAT_RGB/PermanentCrop'\n",
        "data_Residential = '/Users/Aidan/Documents/Flatiron/Phase_5/EuroSAT_RGB/Residential'\n",
        "data_River = '/Users/Aidan/Documents/Flatiron/Phase_5/EuroSAT_RGB/River'\n",
        "data_SeaLake = '/Users/Aidan/Documents/Flatiron/Phase_5/EuroSAT_RGB/SeaLake'\n",
        "\n",
        "\n",
        "new_dir = 'data/split/'"
      ]
    },
    {
      "cell_type": "code",
      "execution_count": null,
      "metadata": {
        "id": "wKC0YUHUAzFw"
      },
      "outputs": [],
      "source": [
        "#Create objects that store all the relevant image names.\n",
        "imgs_AnnualCrop = [file for file in os.listdir(data_AnnualCrop) if file.endswith('.jpg')]\n",
        "imgs_Forest = [file for file in os.listdir(data_Forest) if file.endswith('.jpg')]\n",
        "imgs_HerbaceousVegetation = [file for file in os.listdir(data_HerbaceousVegetation) if file.endswith('.jpg')]\n",
        "imgs_Highway = [file for file in os.listdir(data_Highway) if file.endswith('.jpg')]\n",
        "imgs_Industrial = [file for file in os.listdir(data_Industrial) if file.endswith('.jpg')]\n",
        "imgs_Pasture = [file for file in os.listdir(data_Pasture) if file.endswith('.jpg')]\n",
        "imgs_PermanentCrop = [file for file in os.listdir(data_PermanentCrop) if file.endswith('.jpg')]\n",
        "imgs_Residential = [file for file in os.listdir(data_Residential) if file.endswith('.jpg')]\n",
        "imgs_River = [file for file in os.listdir(data_River) if file.endswith('.jpg')]\n",
        "imgs_SeaLake = [file for file in os.listdir(data_SeaLake) if file.endswith('.jpg')]"
      ]
    },
    {
      "cell_type": "code",
      "execution_count": null,
      "metadata": {
        "id": "U9-GjhahAzFw"
      },
      "outputs": [],
      "source": [
        "# Make new split folder\n",
        "os.mkdir(new_dir)"
      ]
    },
    {
      "cell_type": "code",
      "execution_count": null,
      "metadata": {
        "id": "oEi_iIG_AzFx"
      },
      "outputs": [],
      "source": [
        "#Set up the Train folder and subfolders\n",
        "train_folder = os.path.join(new_dir, 'train')\n",
        "train_AnnualCrop = os.path.join(train_folder, 'AnnualCrop')\n",
        "train_Forest = os.path.join(train_folder, 'Forest')\n",
        "train_HerbaceousVegetation = os.path.join(train_folder, 'HerbaceousVegetation')\n",
        "train_Highway = os.path.join(train_folder, 'Highway')\n",
        "train_Industrial = os.path.join(train_folder, 'Industrial')\n",
        "train_Pasture = os.path.join(train_folder, 'Pasture')\n",
        "train_PermanentCrop = os.path.join(train_folder, 'PermanentCrop')\n",
        "train_Residential = os.path.join(train_folder, 'Residential')\n",
        "train_River = os.path.join(train_folder, 'River')\n",
        "train_SeaLake = os.path.join(train_folder, 'SeaLake')\n"
      ]
    },
    {
      "cell_type": "code",
      "execution_count": null,
      "metadata": {
        "id": "0DEfz7j5AzFx"
      },
      "outputs": [],
      "source": [
        "#Set up the Test folder and subfolders\n",
        "test_folder = os.path.join(new_dir, 'test')\n",
        "test_AnnualCrop = os.path.join(test_folder, 'AnnualCrop')\n",
        "test_Forest = os.path.join(test_folder, 'Forest')\n",
        "test_HerbaceousVegetation = os.path.join(test_folder, 'HerbaceousVegetation')\n",
        "test_Highway = os.path.join(test_folder, 'Highway')\n",
        "test_Industrial = os.path.join(test_folder, 'Industrial')\n",
        "test_Pasture = os.path.join(test_folder, 'Pasture')\n",
        "test_PermanentCrop = os.path.join(test_folder, 'PermanentCrop')\n",
        "test_Residential = os.path.join(test_folder, 'Residential')\n",
        "test_River = os.path.join(test_folder, 'River')\n",
        "test_SeaLake = os.path.join(test_folder, 'SeaLake')"
      ]
    },
    {
      "cell_type": "code",
      "execution_count": null,
      "metadata": {
        "id": "5NUak31sAzFx"
      },
      "outputs": [],
      "source": [
        "# Make the Train directories(folders)\n",
        "os.mkdir(train_folder)\n",
        "os.mkdir(train_AnnualCrop)\n",
        "os.mkdir(train_Forest)\n",
        "os.mkdir(train_HerbaceousVegetation)\n",
        "os.mkdir(train_Highway)\n",
        "os.mkdir(train_Industrial)\n",
        "os.mkdir(train_Pasture)\n",
        "os.mkdir(train_PermanentCrop)\n",
        "os.mkdir(train_Residential)\n",
        "os.mkdir(train_River)\n",
        "os.mkdir(train_SeaLake)\n",
        "\n",
        "# Make the Test directories(folders)\n",
        "os.mkdir(test_folder)\n",
        "os.mkdir(test_AnnualCrop)\n",
        "os.mkdir(test_Forest)\n",
        "os.mkdir(test_HerbaceousVegetation)\n",
        "os.mkdir(test_Highway)\n",
        "os.mkdir(test_Industrial)\n",
        "os.mkdir(test_Pasture)\n",
        "os.mkdir(test_PermanentCrop)\n",
        "os.mkdir(test_Residential)\n",
        "os.mkdir(test_River)\n",
        "os.mkdir(test_SeaLake)"
      ]
    },
    {
      "cell_type": "code",
      "execution_count": null,
      "metadata": {
        "id": "SDoSqY4OAzFy"
      },
      "outputs": [],
      "source": [
        "# Compile 80% of images into folders- Train\n",
        "imgs = imgs_AnnualCrop[:2400]\n",
        "for img in imgs:\n",
        "    origin = os.path.join(data_AnnualCrop, img)\n",
        "    destination = os.path.join(train_AnnualCrop, img)\n",
        "    shutil.copyfile(origin, destination)\n",
        "    \n",
        "imgs = imgs_Forest[:2400]\n",
        "for img in imgs:\n",
        "    origin = os.path.join(data_Forest, img)\n",
        "    destination = os.path.join(train_Forest, img)\n",
        "    shutil.copyfile(origin, destination)\n",
        "\n",
        "imgs = imgs_HerbaceousVegetation[:2400]\n",
        "for img in imgs:\n",
        "    origin = os.path.join(data_HerbaceousVegetation, img)\n",
        "    destination = os.path.join(train_HerbaceousVegetation, img)\n",
        "    shutil.copyfile(origin, destination)\n",
        "    \n",
        "imgs = imgs_Highway[:2000]\n",
        "for img in imgs:\n",
        "    origin = os.path.join(data_Highway, img)\n",
        "    destination = os.path.join(train_Highway, img)\n",
        "    shutil.copyfile(origin, destination)\n",
        "    \n",
        "imgs = imgs_Industrial[:2000]\n",
        "for img in imgs:\n",
        "    origin = os.path.join(data_Industrial, img)\n",
        "    destination = os.path.join(train_Industrial, img)\n",
        "    shutil.copyfile(origin, destination)\n",
        "    \n",
        "imgs = imgs_Pasture[:1600]\n",
        "for img in imgs:\n",
        "    origin = os.path.join(data_Pasture, img)\n",
        "    destination = os.path.join(train_Pasture, img)\n",
        "    shutil.copyfile(origin, destination)\n",
        "    \n",
        "imgs = imgs_PermanentCrop[:2000]\n",
        "for img in imgs:\n",
        "    origin = os.path.join(data_PermanentCrop, img)\n",
        "    destination = os.path.join(train_PermanentCrop, img)\n",
        "    shutil.copyfile(origin, destination)\n",
        "    \n",
        "imgs = imgs_Residential[:2400]\n",
        "for img in imgs:\n",
        "    origin = os.path.join(data_Residential, img)\n",
        "    destination = os.path.join(train_Residential, img)\n",
        "    shutil.copyfile(origin, destination)\n",
        "    \n",
        "imgs = imgs_River[:2000]\n",
        "for img in imgs:\n",
        "    origin = os.path.join(data_River, img)\n",
        "    destination = os.path.join(train_River, img)\n",
        "    shutil.copyfile(origin, destination)\n",
        "    \n",
        "imgs = imgs_SeaLake[:2400]\n",
        "for img in imgs:\n",
        "    origin = os.path.join(data_SeaLake, img)\n",
        "    destination = os.path.join(train_SeaLake, img)\n",
        "    shutil.copyfile(origin, destination)"
      ]
    },
    {
      "cell_type": "code",
      "execution_count": null,
      "metadata": {
        "id": "6tJmAqS4AzFy"
      },
      "outputs": [],
      "source": [
        "# Compile other 20% of images into folders- Test\n",
        "imgs = imgs_AnnualCrop[2400:] #600\n",
        "for img in imgs:\n",
        "    origin = os.path.join(data_AnnualCrop, img)\n",
        "    destination = os.path.join(test_AnnualCrop, img)\n",
        "    shutil.copyfile(origin, destination)\n",
        "    \n",
        "imgs = imgs_Forest[2400:] #600\n",
        "for img in imgs:\n",
        "    origin = os.path.join(data_Forest, img)\n",
        "    destination = os.path.join(test_Forest, img)\n",
        "    shutil.copyfile(origin, destination)\n",
        "\n",
        "imgs = imgs_HerbaceousVegetation[2400:] #600\n",
        "for img in imgs:\n",
        "    origin = os.path.join(data_HerbaceousVegetation, img)\n",
        "    destination = os.path.join(test_HerbaceousVegetation, img)\n",
        "    shutil.copyfile(origin, destination)\n",
        "    \n",
        "imgs = imgs_Highway[2000:] #500\n",
        "for img in imgs:\n",
        "    origin = os.path.join(data_Highway, img)\n",
        "    destination = os.path.join(test_Highway, img)\n",
        "    shutil.copyfile(origin, destination)\n",
        "    \n",
        "imgs = imgs_Industrial[2000:] #500\n",
        "for img in imgs:\n",
        "    origin = os.path.join(data_Industrial, img)\n",
        "    destination = os.path.join(test_Industrial, img)\n",
        "    shutil.copyfile(origin, destination)\n",
        "    \n",
        "imgs = imgs_Pasture[1600:] #400\n",
        "for img in imgs:\n",
        "    origin = os.path.join(data_Pasture, img)\n",
        "    destination = os.path.join(test_Pasture, img)\n",
        "    shutil.copyfile(origin, destination)\n",
        "    \n",
        "imgs = imgs_PermanentCrop[2000:] #500\n",
        "for img in imgs:\n",
        "    origin = os.path.join(data_PermanentCrop, img)\n",
        "    destination = os.path.join(test_PermanentCrop, img)\n",
        "    shutil.copyfile(origin, destination)\n",
        "    \n",
        "imgs = imgs_Residential[2400:] #600\n",
        "for img in imgs:\n",
        "    origin = os.path.join(data_Residential, img)\n",
        "    destination = os.path.join(test_Residential, img)\n",
        "    shutil.copyfile(origin, destination)\n",
        "    \n",
        "imgs = imgs_River[2000:] #500\n",
        "for img in imgs:\n",
        "    origin = os.path.join(data_River, img)\n",
        "    destination = os.path.join(test_River, img)\n",
        "    shutil.copyfile(origin, destination)\n",
        "    \n",
        "imgs = imgs_SeaLake[2400:] #600\n",
        "for img in imgs:\n",
        "    origin = os.path.join(data_SeaLake, img)\n",
        "    destination = os.path.join(test_SeaLake, img)\n",
        "    shutil.copyfile(origin, destination)"
      ]
    },
    {
      "cell_type": "code",
      "execution_count": null,
      "metadata": {
        "id": "kOkLuiV7AzF0",
        "outputId": "91bf55af-457f-4448-9fd2-a512fa3d037e"
      },
      "outputs": [
        {
          "name": "stdout",
          "output_type": "stream",
          "text": [
            "Found 18900 images belonging to 10 classes.\n",
            "Found 2700 images belonging to 10 classes.\n",
            "Found 5400 images belonging to 10 classes.\n"
          ]
        }
      ],
      "source": [
        "train_folder = 'data/split/train'\n",
        "test_folder = 'data/split/test'\n",
        "\n",
        "# Normalize images\n",
        "train_gen = ImageDataGenerator(rescale=1./255, validation_split = 0.125)\n",
        "test_gen = ImageDataGenerator(rescale=1./255)\n",
        "\n",
        "#Import data as 70% Train (10% Validation of orginal data set) and 20% Test\n",
        "train_generator = train_gen.flow_from_directory(train_folder,\n",
        "                                                class_mode = 'categorical', \n",
        "                                                subset ='training', \n",
        "                                                batch_size=128,\n",
        "                                                shuffle=True,\n",
        "                                                seed=42)\n",
        "                                               \n",
        "val_generator= train_gen.flow_from_directory(train_folder,\n",
        "                                             class_mode= 'categorical',\n",
        "                                             subset = \"validation\",\n",
        "                                             batch_size=128,\n",
        "                                             shuffle=True,\n",
        "                                             seed=42)\n",
        "\n",
        "test_generator= test_gen.flow_from_directory(test_folder,\n",
        "                                              class_mode= 'categorical',\n",
        "                                              batch_size=128,\n",
        "                                              shuffle=False,\n",
        "                                              seed=42)"
      ]
    },
    {
      "cell_type": "code",
      "execution_count": null,
      "metadata": {
        "id": "uyAGupOSAzF1"
      },
      "outputs": [],
      "source": [
        "# create the data sets\n",
        "train_images, train_labels = next(train_generator)\n",
        "test_images, test_labels = next(test_generator)\n",
        "val_images, val_labels = next(val_generator)"
      ]
    },
    {
      "cell_type": "markdown",
      "metadata": {
        "id": "ApQ1qbmuAzF1"
      },
      "source": [
        "### Explore Data"
      ]
    },
    {
      "cell_type": "code",
      "execution_count": null,
      "metadata": {
        "id": "G_xM--0hAzF1",
        "outputId": "2f2ec8f0-8739-4715-b813-5fe0ebd9748d"
      },
      "outputs": [
        {
          "name": "stdout",
          "output_type": "stream",
          "text": [
            "Train ~ [(0, 2100), (1, 2100), (2, 2100), (3, 1750), (4, 1750), (5, 1400), (6, 1750), (7, 2100), (8, 1750), (9, 2100)]\n",
            "Validation ~ [(0, 300), (1, 300), (2, 300), (3, 250), (4, 250), (5, 200), (6, 250), (7, 300), (8, 250), (9, 300)]\n",
            "Test ~ [(0, 600), (1, 600), (2, 600), (3, 500), (4, 500), (5, 400), (6, 500), (7, 600), (8, 500), (9, 600)]\n"
          ]
        }
      ],
      "source": [
        "#Confirm class balance for train and test\n",
        "train_classes = train_generator.classes\n",
        "val_classes = val_generator.classes\n",
        "test_classes = test_generator.classes\n",
        "\n",
        "#Look at image distribution by class across train, test, and validation sets.\n",
        "train_class, train_count = np.unique(train_classes, return_counts=True)\n",
        "val_class, val_count = np.unique(val_classes, return_counts=True)\n",
        "test_class, test_count = np.unique(test_classes, return_counts=True)\n",
        "\n",
        "print('Train ~ {}'.format(list(zip(train_class, train_count))))\n",
        "print('Validation ~ {}'.format(list(zip(val_class, val_count))))\n",
        "print('Test ~ {}'.format(list(zip(test_class, test_count))))"
      ]
    },
    {
      "cell_type": "code",
      "execution_count": null,
      "metadata": {
        "scrolled": false,
        "id": "zF7KS8FIAzF2",
        "outputId": "25fd9b87-d1a8-43e5-86c8-5f224b856d09"
      },
      "outputs": [
        {
          "name": "stdout",
          "output_type": "stream",
          "text": [
            "Train: {'AnnualCrop': 0, 'Forest': 1, 'HerbaceousVegetation': 2, 'Highway': 3, 'Industrial': 4, 'Pasture': 5, 'PermanentCrop': 6, 'Residential': 7, 'River': 8, 'SeaLake': 9}\n",
            "Validation: {'AnnualCrop': 0, 'Forest': 1, 'HerbaceousVegetation': 2, 'Highway': 3, 'Industrial': 4, 'Pasture': 5, 'PermanentCrop': 6, 'Residential': 7, 'River': 8, 'SeaLake': 9}\n",
            "Train: {'AnnualCrop': 0, 'Forest': 1, 'HerbaceousVegetation': 2, 'Highway': 3, 'Industrial': 4, 'Pasture': 5, 'PermanentCrop': 6, 'Residential': 7, 'River': 8, 'SeaLake': 9}\n"
          ]
        }
      ],
      "source": [
        "#Checking the classes in our train data \n",
        "train_class_names = train_generator.class_indices\n",
        "print('Train:', train_class_names)\n",
        "\n",
        "#Checking the classes in our validation data\n",
        "val_class_names = val_generator.class_indices\n",
        "print('Validation:', val_class_names)\n",
        "\n",
        "#Checking the classes in our test data\n",
        "test_class_names = test_generator.class_indices\n",
        "print('Train:', test_class_names)"
      ]
    },
    {
      "cell_type": "code",
      "execution_count": null,
      "metadata": {
        "id": "dukgFJwrAzF2",
        "outputId": "ed55f809-bdef-410e-c3cc-25a159186d18"
      },
      "outputs": [
        {
          "name": "stdout",
          "output_type": "stream",
          "text": [
            "Train\n",
            "(128, 256, 256, 3)\n",
            "(128, 10)\n",
            "Validation\n",
            "(128, 256, 256, 3)\n",
            "(128, 10)\n",
            "Test\n",
            "(128, 256, 256, 3)\n",
            "(128, 10)\n"
          ]
        }
      ],
      "source": [
        "# Preview the shape of both the images and labels for both the train, validation, and test sets (8 objects total)\n",
        "print(\"Train\")\n",
        "print(np.shape(train_images))\n",
        "print(np.shape(train_labels))\n",
        "print(\"Validation\")\n",
        "print(np.shape(val_images))\n",
        "print(np.shape(val_labels))\n",
        "print(\"Test\")\n",
        "print(np.shape(test_images))\n",
        "print(np.shape(test_labels))"
      ]
    },
    {
      "cell_type": "code",
      "execution_count": null,
      "metadata": {
        "id": "Lwc91RwOAzF2",
        "outputId": "6e7cba57-4d1c-41fe-c611-b7dc608b55c4"
      },
      "outputs": [
        {
          "name": "stdout",
          "output_type": "stream",
          "text": [
            "[0. 0. 0. 0. 0. 0. 0. 0. 0. 1.]\n"
          ]
        },
        {
          "data": {
            "image/png": "[encoded data removed]",
            "text/plain": [
              "<PIL.Image.Image image mode=RGB size=256x256 at 0x7FF692526610>"
            ]
          },
          "execution_count": 18,
          "metadata": {},
          "output_type": "execute_result"
        }
      ],
      "source": [
        "# Preview a train data image\n",
        "print(train_labels[0])\n",
        "array_to_img(train_images[0])"
      ]
    },
    {
      "cell_type": "code",
      "execution_count": null,
      "metadata": {
        "id": "_IAaxbXwAzF2",
        "outputId": "67d3dcc8-04ec-4b11-82da-d1806be9b83b"
      },
      "outputs": [
        {
          "name": "stdout",
          "output_type": "stream",
          "text": [
            "[0. 0. 0. 0. 1. 0. 0. 0. 0. 0.]\n"
          ]
        },
        {
          "data": {
            "image/png": "[encoded data removed]",
            "text/plain": [
              "<PIL.Image.Image image mode=RGB size=256x256 at 0x7FF689F5DA00>"
            ]
          },
          "execution_count": 19,
          "metadata": {},
          "output_type": "execute_result"
        }
      ],
      "source": [
        "# Preview a test data image\n",
        "print(test_labels[0])\n",
        "array_to_img(test_images[0])"
      ]
    },
    {
      "cell_type": "code",
      "execution_count": null,
      "metadata": {
        "id": "9rE7bNT8AzF3"
      },
      "outputs": [],
      "source": []
    },
    {
      "cell_type": "markdown",
      "metadata": {
        "id": "bHuwAxNVAzF3"
      },
      "source": [
        "## Modeling"
      ]
    },
    {
      "cell_type": "markdown",
      "metadata": {
        "id": "PwnuxVWZAzF3"
      },
      "source": [
        "### Baseline Model"
      ]
    },
    {
      "cell_type": "markdown",
      "metadata": {
        "id": "BIdfid5hAzF3"
      },
      "source": [
        "For our baseline model, we will create a simple Sequential Neural Network with one Convolutional Layer, one Max Pooling Layer, and one Dense Layer (not including our output layer). "
      ]
    },
    {
      "cell_type": "code",
      "execution_count": null,
      "metadata": {
        "id": "VUFKYIPmAzF3",
        "outputId": "dfffde53-f665-4606-e543-f3c6538683ab"
      },
      "outputs": [
        {
          "name": "stdout",
          "output_type": "stream",
          "text": [
            "Model: \"sequential_3\"\n",
            "_________________________________________________________________\n",
            "Layer (type)                 Output Shape              Param #   \n",
            "=================================================================\n",
            "conv2d_5 (Conv2D)            (None, 254, 254, 32)      896       \n",
            "_________________________________________________________________\n",
            "max_pooling2d_4 (MaxPooling2 (None, 127, 127, 32)      0         \n",
            "_________________________________________________________________\n",
            "flatten_2 (Flatten)          (None, 516128)            0         \n",
            "_________________________________________________________________\n",
            "dense_6 (Dense)              (None, 64)                33032256  \n",
            "_________________________________________________________________\n",
            "dense_7 (Dense)              (None, 10)                650       \n",
            "=================================================================\n",
            "Total params: 33,033,802\n",
            "Trainable params: 33,033,802\n",
            "Non-trainable params: 0\n",
            "_________________________________________________________________\n"
          ]
        }
      ],
      "source": [
        "#Instantiate a Sequential model\n",
        "baseline_model = Sequential()\n",
        "\n",
        "\n",
        "# Input Layer- Convolution\n",
        "baseline_model.add(Conv2D(filters=32,\n",
        "                          kernel_size=(3, 3),\n",
        "                          activation='relu',\n",
        "                          input_shape= (256, 256, 3)))\n",
        "\n",
        "\n",
        "# Layer 1- max pool in 2x2 window\n",
        "baseline_model.add(MaxPooling2D(pool_size=(2, 2)))\n",
        "\n",
        "# Layer 2- connect all nodes with dense layer\n",
        "baseline_model.add(Flatten())\n",
        "baseline_model.add(Dense(64, activation='relu'))\n",
        "\n",
        "# Output Layer- softmax activiation for multi-categorical with 10 classes\n",
        "baseline_model.add(Dense(10, activation='softmax'))\n",
        "\n",
        "#Compile the sequential CNN model- adam optimizer, \n",
        "# categorical_crossentropy loss, and set our metric to accuracy\n",
        "baseline_model.compile(optimizer='adam', \n",
        "                       loss='categorical_crossentropy',  \n",
        "                       metrics=['accuracy'])\n",
        "\n",
        "# print model summary\n",
        "baseline_model.summary()"
      ]
    },
    {
      "cell_type": "code",
      "execution_count": null,
      "metadata": {
        "id": "FB11RqMEAzF3",
        "outputId": "3268cf17-8f4a-4c75-cd95-098475c1c0bf"
      },
      "outputs": [
        {
          "name": "stdout",
          "output_type": "stream",
          "text": [
            "Epoch 1/20\n",
            "148/148 [==============================] - 327s 2s/step - loss: 3.3877 - accuracy: 0.2939 - val_loss: 1.6197 - val_accuracy: 0.3700\n",
            "Epoch 2/20\n",
            "148/148 [==============================] - 353s 2s/step - loss: 1.5218 - accuracy: 0.4223 - val_loss: 1.4075 - val_accuracy: 0.4696\n",
            "Epoch 3/20\n",
            "148/148 [==============================] - 375s 3s/step - loss: 1.2251 - accuracy: 0.5588 - val_loss: 1.0713 - val_accuracy: 0.6007\n",
            "Epoch 4/20\n",
            "148/148 [==============================] - 310s 2s/step - loss: 1.0015 - accuracy: 0.6423 - val_loss: 1.0096 - val_accuracy: 0.6422\n",
            "Epoch 5/20\n",
            "148/148 [==============================] - 296s 2s/step - loss: 0.8978 - accuracy: 0.6808 - val_loss: 0.9568 - val_accuracy: 0.6426\n",
            "Epoch 6/20\n",
            "148/148 [==============================] - 296s 2s/step - loss: 0.8389 - accuracy: 0.7003 - val_loss: 0.9141 - val_accuracy: 0.6644\n",
            "Epoch 7/20\n",
            "148/148 [==============================] - 298s 2s/step - loss: 0.7665 - accuracy: 0.7302 - val_loss: 0.9494 - val_accuracy: 0.6615\n",
            "Epoch 8/20\n",
            "148/148 [==============================] - 296s 2s/step - loss: 0.7125 - accuracy: 0.7523 - val_loss: 0.9027 - val_accuracy: 0.6656\n",
            "Epoch 9/20\n",
            "148/148 [==============================] - 298s 2s/step - loss: 0.6604 - accuracy: 0.7748 - val_loss: 0.8528 - val_accuracy: 0.6907\n",
            "Epoch 10/20\n",
            "148/148 [==============================] - 323s 2s/step - loss: 0.5992 - accuracy: 0.8001 - val_loss: 0.8202 - val_accuracy: 0.7204\n",
            "Epoch 11/20\n",
            "148/148 [==============================] - 306s 2s/step - loss: 0.5203 - accuracy: 0.8258 - val_loss: 0.8082 - val_accuracy: 0.7163\n",
            "Epoch 12/20\n",
            "148/148 [==============================] - 328s 2s/step - loss: 0.4612 - accuracy: 0.8526 - val_loss: 0.8119 - val_accuracy: 0.7174\n",
            "Epoch 13/20\n",
            "148/148 [==============================] - 329s 2s/step - loss: 0.4023 - accuracy: 0.8755 - val_loss: 0.8557 - val_accuracy: 0.7115\n",
            "Epoch 14/20\n",
            "148/148 [==============================] - 309s 2s/step - loss: 0.3558 - accuracy: 0.8920 - val_loss: 0.8262 - val_accuracy: 0.7237\n",
            "Epoch 15/20\n",
            "148/148 [==============================] - 306s 2s/step - loss: 0.3132 - accuracy: 0.9081 - val_loss: 0.8719 - val_accuracy: 0.7167\n",
            "Epoch 16/20\n",
            "148/148 [==============================] - 314s 2s/step - loss: 0.2626 - accuracy: 0.9238 - val_loss: 0.8958 - val_accuracy: 0.7263\n",
            "Epoch 17/20\n",
            "148/148 [==============================] - 316s 2s/step - loss: 0.2401 - accuracy: 0.9327 - val_loss: 0.9385 - val_accuracy: 0.7033\n",
            "Epoch 18/20\n",
            "148/148 [==============================] - 320s 2s/step - loss: 0.1822 - accuracy: 0.9534 - val_loss: 0.9168 - val_accuracy: 0.7281\n",
            "Epoch 19/20\n",
            "148/148 [==============================] - 325s 2s/step - loss: 0.1773 - accuracy: 0.9526 - val_loss: 1.0057 - val_accuracy: 0.7167\n",
            "Epoch 20/20\n",
            "148/148 [==============================] - 317s 2s/step - loss: 0.1472 - accuracy: 0.9641 - val_loss: 1.0582 - val_accuracy: 0.7226\n"
          ]
        }
      ],
      "source": [
        "#Fit the model \n",
        "baseline_history = baseline_model.fit(train_generator, \n",
        "                                      epochs = 20, \n",
        "                                      batch_size= 128, \n",
        "                                      verbose = 1, \n",
        "                                      validation_data = val_generator)"
      ]
    },
    {
      "cell_type": "code",
      "execution_count": null,
      "metadata": {
        "id": "vEkMfN8uAzF4",
        "outputId": "767222a2-164b-4e56-9f57-dff888323d38"
      },
      "outputs": [
        {
          "name": "stdout",
          "output_type": "stream",
          "text": [
            "43/43 [==============================] - 25s 585ms/step - loss: 1.0459 - accuracy: 0.7411\n",
            "Test loss:  1.0459473133087158\n",
            "Test accuracy:  0.7411110997200012\n"
          ]
        }
      ],
      "source": [
        "#Check loss and accuracy on test data\n",
        "test_loss, test_acc = baseline_model.evaluate(test_generator, verbose = 1)\n",
        "\n",
        "print('Test loss: ', test_loss)\n",
        "print('Test accuracy: ', test_acc)"
      ]
    },
    {
      "cell_type": "markdown",
      "metadata": {
        "id": "nY32LY7VAzF4"
      },
      "source": [
        "It looks like after 20 Epochs our baseline model overfit with a 96.4% train accuracy and a 74.1% test accuracy. In the future, we will also want to use Early Stopping to prevent the model from continuing to overfit. "
      ]
    },
    {
      "cell_type": "markdown",
      "metadata": {
        "id": "lEEys1tgAzF4"
      },
      "source": [
        "### First Model"
      ]
    },
    {
      "cell_type": "markdown",
      "metadata": {
        "id": "nHrqIvBAAzF4"
      },
      "source": [
        "Let's make our CNN \"deeper\" and add additonal convolution and max pooling layers."
      ]
    },
    {
      "cell_type": "code",
      "execution_count": null,
      "metadata": {
        "id": "z2s-Cl4jAzF4",
        "outputId": "84846d79-7e08-49bd-afa8-7dde054410ee"
      },
      "outputs": [
        {
          "name": "stdout",
          "output_type": "stream",
          "text": [
            "Model: \"sequential_5\"\n",
            "_________________________________________________________________\n",
            "Layer (type)                 Output Shape              Param #   \n",
            "=================================================================\n",
            "conv2d_6 (Conv2D)            (None, 254, 254, 32)      896       \n",
            "_________________________________________________________________\n",
            "max_pooling2d_5 (MaxPooling2 (None, 127, 127, 32)      0         \n",
            "_________________________________________________________________\n",
            "conv2d_7 (Conv2D)            (None, 125, 125, 32)      9248      \n",
            "_________________________________________________________________\n",
            "max_pooling2d_6 (MaxPooling2 (None, 62, 62, 32)        0         \n",
            "_________________________________________________________________\n",
            "flatten_3 (Flatten)          (None, 123008)            0         \n",
            "_________________________________________________________________\n",
            "dense_8 (Dense)              (None, 64)                7872576   \n",
            "_________________________________________________________________\n",
            "dense_9 (Dense)              (None, 10)                650       \n",
            "=================================================================\n",
            "Total params: 7,883,370\n",
            "Trainable params: 7,883,370\n",
            "Non-trainable params: 0\n",
            "_________________________________________________________________\n"
          ]
        }
      ],
      "source": [
        "#Instantiate a Sequential model\n",
        "model_one = Sequential()\n",
        "\n",
        "\n",
        "# Input Layer- Convolution\n",
        "model_one.add(Conv2D(filters=32,\n",
        "                          kernel_size=(3, 3),\n",
        "                          activation='relu',\n",
        "                          input_shape= (256, 256, 3)))\n",
        "\n",
        "\n",
        "# Layer 1- max pool in 2x2 window\n",
        "model_one.add(MaxPooling2D(pool_size=(2, 2)))\n",
        "\n",
        "# Layer 2- another convolution layer \n",
        "model_one.add(layers.Conv2D(32, (3, 3), activation='relu'))\n",
        "\n",
        "# Layer 3- another max pool layer\n",
        "model_one.add(layers.MaxPooling2D((2, 2)))\n",
        "\n",
        "# Layer 4- connect all nodes with dense layer\n",
        "model_one.add(Flatten())\n",
        "model_one.add(Dense(64, activation='relu'))\n",
        "\n",
        "# Output Layer- softmax activiation for multi-categorical with 10 classes\n",
        "model_one.add(Dense(10, activation='softmax'))\n",
        "\n",
        "#Compile the sequential CNN model- adam optimizer, \n",
        "# categorical_crossentropy loss, and set our metric to accuracy\n",
        "model_one.compile(optimizer='adam', \n",
        "                       loss='categorical_crossentropy',  \n",
        "                       metrics=['accuracy'])\n",
        "\n",
        "# print model summary\n",
        "model_one.summary()"
      ]
    },
    {
      "cell_type": "markdown",
      "metadata": {
        "id": "w4lN_Dk5AzF5"
      },
      "source": [
        "Let's also add a stopping criteria as well."
      ]
    },
    {
      "cell_type": "code",
      "execution_count": null,
      "metadata": {
        "id": "IlsLQQfbAzF5",
        "outputId": "ce69510c-4020-4911-ebf6-2143e446ae58"
      },
      "outputs": [
        {
          "name": "stdout",
          "output_type": "stream",
          "text": [
            "Epoch 1/20\n",
            "148/148 [==============================] - 444s 3s/step - loss: 1.5299 - accuracy: 0.4476 - val_loss: 1.1410 - val_accuracy: 0.5926\n",
            "Epoch 2/20\n",
            "148/148 [==============================] - 452s 3s/step - loss: 1.0054 - accuracy: 0.6348 - val_loss: 0.9596 - val_accuracy: 0.6463\n",
            "Epoch 3/20\n",
            "148/148 [==============================] - 449s 3s/step - loss: 0.8038 - accuracy: 0.7134 - val_loss: 0.8036 - val_accuracy: 0.6993\n",
            "Epoch 4/20\n",
            "148/148 [==============================] - 490s 3s/step - loss: 0.6379 - accuracy: 0.7755 - val_loss: 0.7442 - val_accuracy: 0.7374\n",
            "Epoch 5/20\n",
            "148/148 [==============================] - 553s 4s/step - loss: 0.5075 - accuracy: 0.8248 - val_loss: 0.6600 - val_accuracy: 0.7711\n",
            "Epoch 6/20\n",
            "148/148 [==============================] - 451s 3s/step - loss: 0.4197 - accuracy: 0.8556 - val_loss: 0.7485 - val_accuracy: 0.7367\n",
            "Epoch 7/20\n",
            "148/148 [==============================] - 440s 3s/step - loss: 0.3318 - accuracy: 0.8915 - val_loss: 0.6621 - val_accuracy: 0.7807\n",
            "Epoch 00007: early stopping\n"
          ]
        }
      ],
      "source": [
        "# Define Stopping Criteria \n",
        "valcallback = EarlyStopping(monitor='val_loss', mode='min', verbose = 1, patience = 2)\n",
        "\n",
        "\n",
        "# Fit the model\n",
        "model_one_history = model_one.fit(train_generator, \n",
        "                                  epochs= 20, \n",
        "                                  validation_data = val_generator, \n",
        "                                  callbacks= valcallback, \n",
        "                                  batch_size=128, \n",
        "                                  verbose = 1)"
      ]
    },
    {
      "cell_type": "code",
      "execution_count": null,
      "metadata": {
        "id": "5LzoxWKnAzF5",
        "outputId": "b7465a10-c586-4f02-b852-4bc39a441682"
      },
      "outputs": [
        {
          "name": "stdout",
          "output_type": "stream",
          "text": [
            "43/43 [==============================] - 36s 827ms/step - loss: 0.6744 - accuracy: 0.7857\n",
            "Test loss:  0.6743987798690796\n",
            "Test accuracy:  0.7857407331466675\n"
          ]
        }
      ],
      "source": [
        "#Check loss and accuracy on test data\n",
        "test_loss, test_acc = model_one.evaluate(test_generator, verbose = 1)\n",
        "\n",
        "print('Test loss: ', test_loss)\n",
        "print('Test accuracy: ', test_acc)"
      ]
    },
    {
      "cell_type": "markdown",
      "metadata": {
        "id": "JjPqzWWHAzF5"
      },
      "source": [
        "Making our model deeper and adding early stopping seemed to help; our model stopped after 7 Epochs once validation loss stopped decreasing. Our model is still overfit but less so with a 89.2% Train accuracy and a 78.6% Test accuracy."
      ]
    },
    {
      "cell_type": "code",
      "execution_count": null,
      "metadata": {
        "id": "nMEJjS_3AzF5"
      },
      "outputs": [],
      "source": [
        "# # probability for each class\n",
        "# y_proba = model_images.predict(x_test)\n",
        "# y_proba"
      ]
    },
    {
      "cell_type": "code",
      "execution_count": null,
      "metadata": {
        "id": "lseOTCtkAzF6"
      },
      "outputs": [],
      "source": [
        "# # argmax axis = -1 gets the column index of maximum probability for each row.\n",
        "# # column index corresponds to digit classes (numbers 0 -9)\n",
        "# predicted = np.argmax(y_proba, axis=-1)\n",
        "# predicted"
      ]
    },
    {
      "cell_type": "code",
      "execution_count": null,
      "metadata": {
        "id": "jcJb_X3aAzF6"
      },
      "outputs": [],
      "source": [
        "# #View confusion matrix of test predictions\n",
        "# cm_digits = confusion_matrix(y_test, predicted)\n",
        "# disp = ConfusionMatrixDisplay(\n",
        "#     confusion_matrix=cm_digits)\n",
        "\n",
        "# disp.plot(cmap=plt.cm.Blues)\n",
        "# plt.show()"
      ]
    },
    {
      "cell_type": "code",
      "execution_count": null,
      "metadata": {
        "id": "Iy7olaYrAzF6"
      },
      "outputs": [],
      "source": []
    },
    {
      "cell_type": "markdown",
      "metadata": {
        "id": "5GcPQn-HAzF6"
      },
      "source": [
        "### Adding Regularization"
      ]
    },
    {
      "cell_type": "markdown",
      "metadata": {
        "id": "_C0yAQYzAzF6"
      },
      "source": [
        "To help with the consistent overfitting, let's try out a few regularization techniques: L1, L2, and Dropout Layers."
      ]
    },
    {
      "cell_type": "markdown",
      "metadata": {
        "id": "cgok0pFhAzF6"
      },
      "source": [
        "#### Model 2- L1 Regularization"
      ]
    },
    {
      "cell_type": "code",
      "execution_count": null,
      "metadata": {
        "id": "J54q8WtwAzF7",
        "outputId": "0acff9d5-99ff-46eb-cda3-049be830210e"
      },
      "outputs": [
        {
          "name": "stdout",
          "output_type": "stream",
          "text": [
            "Model: \"sequential_11\"\n",
            "_________________________________________________________________\n",
            "Layer (type)                 Output Shape              Param #   \n",
            "=================================================================\n",
            "conv2d_11 (Conv2D)           (None, 254, 254, 32)      896       \n",
            "_________________________________________________________________\n",
            "max_pooling2d_9 (MaxPooling2 (None, 127, 127, 32)      0         \n",
            "_________________________________________________________________\n",
            "conv2d_12 (Conv2D)           (None, 125, 125, 32)      9248      \n",
            "_________________________________________________________________\n",
            "max_pooling2d_10 (MaxPooling (None, 62, 62, 32)        0         \n",
            "_________________________________________________________________\n",
            "flatten_9 (Flatten)          (None, 123008)            0         \n",
            "_________________________________________________________________\n",
            "dense_18 (Dense)             (None, 64)                7872576   \n",
            "_________________________________________________________________\n",
            "dense_19 (Dense)             (None, 10)                650       \n",
            "=================================================================\n",
            "Total params: 7,883,370\n",
            "Trainable params: 7,883,370\n",
            "Non-trainable params: 0\n",
            "_________________________________________________________________\n"
          ]
        }
      ],
      "source": [
        "#Instantiate a Sequential model\n",
        "model_l1 = Sequential()\n",
        "\n",
        "\n",
        "# Input Layer- Convolution\n",
        "model_l1.add(Conv2D(filters=32,\n",
        "                          kernel_size=(3, 3),\n",
        "                          activation='relu',\n",
        "                          input_shape= (256, 256, 3),\n",
        "                     kernel_regularizer=regularizers.l1(0.005)))\n",
        "\n",
        "\n",
        "# Layer 1- max pool in 2x2 window\n",
        "model_l1.add(MaxPooling2D(pool_size=(2, 2)))\n",
        "\n",
        "# Layer 2- another convolution layer \n",
        "model_l1.add(layers.Conv2D(32, (3, 3), \n",
        "                            activation='relu', \n",
        "                            kernel_regularizer=regularizers.l1(0.005)))\n",
        "\n",
        "# Layer 3- another max pool layer\n",
        "model_l1.add(layers.MaxPooling2D((2, 2)))\n",
        "\n",
        "# Layer 4- connect all nodes with dense layer\n",
        "model_l1.add(Flatten())\n",
        "model_l1.add(Dense(64, \n",
        "                    activation='relu', \n",
        "                    kernel_regularizer=regularizers.l1(0.005)))\n",
        "\n",
        "# Output Layer- softmax activiation for multi-categorical with 10 classes\n",
        "model_l1.add(Dense(10, activation='softmax'))\n",
        "\n",
        "#Compile the sequential CNN model- adam optimizer, \n",
        "# categorical_crossentropy loss, and set our metric to accuracy\n",
        "model_l1.compile(optimizer='adam', \n",
        "                       loss='categorical_crossentropy',  \n",
        "                       metrics=['accuracy'])\n",
        "\n",
        "# print model summary\n",
        "model_l1.summary()"
      ]
    },
    {
      "cell_type": "code",
      "execution_count": null,
      "metadata": {
        "id": "THU1ZdHMAzF7",
        "outputId": "69c2f0c8-f9b8-492f-dcec-dfee4ef5b093"
      },
      "outputs": [
        {
          "name": "stdout",
          "output_type": "stream",
          "text": [
            "Epoch 1/20\n",
            "148/148 [==============================] - 442s 3s/step - loss: 13.5989 - accuracy: 0.1928 - val_loss: 7.3832 - val_accuracy: 0.2019\n",
            "Epoch 2/20\n",
            "148/148 [==============================] - 432s 3s/step - loss: 7.1454 - accuracy: 0.2334 - val_loss: 6.8890 - val_accuracy: 0.2422\n",
            "Epoch 3/20\n",
            "148/148 [==============================] - 433s 3s/step - loss: 6.8911 - accuracy: 0.2394 - val_loss: 6.7559 - val_accuracy: 0.2585\n",
            "Epoch 4/20\n",
            "148/148 [==============================] - 440s 3s/step - loss: 6.7881 - accuracy: 0.2473 - val_loss: 6.7858 - val_accuracy: 0.2333\n",
            "Epoch 5/20\n",
            "148/148 [==============================] - 426s 3s/step - loss: 6.7365 - accuracy: 0.2517 - val_loss: 6.7388 - val_accuracy: 0.2959\n",
            "Epoch 6/20\n",
            "148/148 [==============================] - 431s 3s/step - loss: 6.7060 - accuracy: 0.2513 - val_loss: 6.6780 - val_accuracy: 0.2541\n",
            "Epoch 7/20\n",
            "148/148 [==============================] - 428s 3s/step - loss: 6.6548 - accuracy: 0.2603 - val_loss: 6.6618 - val_accuracy: 0.2311\n",
            "Epoch 8/20\n",
            "148/148 [==============================] - 427s 3s/step - loss: 6.6269 - accuracy: 0.2657 - val_loss: 6.5992 - val_accuracy: 0.2730\n",
            "Epoch 9/20\n",
            "148/148 [==============================] - 429s 3s/step - loss: 6.6214 - accuracy: 0.2676 - val_loss: 6.5711 - val_accuracy: 0.2615\n",
            "Epoch 10/20\n",
            "148/148 [==============================] - 431s 3s/step - loss: 6.5939 - accuracy: 0.2741 - val_loss: 6.7074 - val_accuracy: 0.2441\n",
            "Epoch 11/20\n",
            "148/148 [==============================] - 428s 3s/step - loss: 6.5794 - accuracy: 0.2789 - val_loss: 6.5057 - val_accuracy: 0.2648\n",
            "Epoch 12/20\n",
            "148/148 [==============================] - 436s 3s/step - loss: 6.5395 - accuracy: 0.2841 - val_loss: 6.5433 - val_accuracy: 0.3022\n",
            "Epoch 13/20\n",
            "148/148 [==============================] - 437s 3s/step - loss: 6.5210 - accuracy: 0.2904 - val_loss: 6.6076 - val_accuracy: 0.2556\n",
            "Epoch 00013: early stopping\n"
          ]
        }
      ],
      "source": [
        "# Define Stopping Criteria \n",
        "valcallback = EarlyStopping(monitor='val_loss', mode='min', verbose = 1, patience = 2)\n",
        "\n",
        "\n",
        "# Fit the model\n",
        "model_l1_history = model_l1.fit(train_generator, \n",
        "                                  epochs= 20, \n",
        "                                  validation_data = val_generator, \n",
        "                                  callbacks= valcallback, \n",
        "                                  batch_size=128, \n",
        "                                  verbose = 1)"
      ]
    },
    {
      "cell_type": "code",
      "execution_count": null,
      "metadata": {
        "id": "rAPsNJOuAzF7",
        "outputId": "10a66788-32c8-4dd8-a81a-65b58b9ff0ff"
      },
      "outputs": [
        {
          "name": "stdout",
          "output_type": "stream",
          "text": [
            "43/43 [==============================] - 33s 768ms/step - loss: 6.5977 - accuracy: 0.2669\n",
            "Test loss:  6.597667217254639\n",
            "Test accuracy:  0.26685184240341187\n"
          ]
        }
      ],
      "source": [
        "#Check loss and accuracy on test data\n",
        "test_loss, test_acc = model_l1.evaluate(test_generator, verbose = 1)\n",
        "\n",
        "print('Test loss: ', test_loss)\n",
        "print('Test accuracy: ', test_acc)"
      ]
    },
    {
      "cell_type": "markdown",
      "metadata": {
        "id": "9bVIxnMTAzF7"
      },
      "source": [
        "#### Model 3- L2 Regularization"
      ]
    },
    {
      "cell_type": "code",
      "execution_count": null,
      "metadata": {
        "id": "fgTlZQhOAzF7",
        "outputId": "6bab477a-8fa0-433c-cdcb-26a417b4604a"
      },
      "outputs": [
        {
          "name": "stdout",
          "output_type": "stream",
          "text": [
            "Model: \"sequential_12\"\n",
            "_________________________________________________________________\n",
            "Layer (type)                 Output Shape              Param #   \n",
            "=================================================================\n",
            "conv2d_13 (Conv2D)           (None, 254, 254, 32)      896       \n",
            "_________________________________________________________________\n",
            "max_pooling2d_11 (MaxPooling (None, 127, 127, 32)      0         \n",
            "_________________________________________________________________\n",
            "conv2d_14 (Conv2D)           (None, 125, 125, 32)      9248      \n",
            "_________________________________________________________________\n",
            "max_pooling2d_12 (MaxPooling (None, 62, 62, 32)        0         \n",
            "_________________________________________________________________\n",
            "flatten_10 (Flatten)         (None, 123008)            0         \n",
            "_________________________________________________________________\n",
            "dense_20 (Dense)             (None, 64)                7872576   \n",
            "_________________________________________________________________\n",
            "dense_21 (Dense)             (None, 10)                650       \n",
            "=================================================================\n",
            "Total params: 7,883,370\n",
            "Trainable params: 7,883,370\n",
            "Non-trainable params: 0\n",
            "_________________________________________________________________\n"
          ]
        }
      ],
      "source": [
        "#Instantiate a Sequential model\n",
        "model_l2 = Sequential()\n",
        "\n",
        "\n",
        "# Input Layer- Convolution\n",
        "model_l2.add(Conv2D(filters=32,\n",
        "                          kernel_size=(3, 3),\n",
        "                          activation='relu',\n",
        "                          input_shape= (256, 256, 3),\n",
        "                     kernel_regularizer=regularizers.l2(0.005)))\n",
        "\n",
        "\n",
        "# Layer 1- max pool in 2x2 window\n",
        "model_l2.add(MaxPooling2D(pool_size=(2, 2)))\n",
        "\n",
        "# Layer 2- another convolution layer \n",
        "model_l2.add(layers.Conv2D(32, (3, 3), \n",
        "                            activation='relu', \n",
        "                            kernel_regularizer=regularizers.l2(0.005)))\n",
        "\n",
        "# Layer 3- another max pool layer\n",
        "model_l2.add(layers.MaxPooling2D((2, 2)))\n",
        "\n",
        "# Layer 4- connect all nodes with dense layer\n",
        "model_l2.add(Flatten())\n",
        "model_l2.add(Dense(64, \n",
        "                    activation='relu', \n",
        "                    kernel_regularizer=regularizers.l2(0.005)))\n",
        "\n",
        "# Output Layer- softmax activiation for multi-categorical with 10 classes\n",
        "model_l2.add(Dense(10, activation='softmax'))\n",
        "\n",
        "#Compile the sequential CNN model- adam optimizer, \n",
        "# categorical_crossentropy loss, and set our metric to accuracy\n",
        "model_l2.compile(optimizer='adam', \n",
        "                       loss='categorical_crossentropy',  \n",
        "                       metrics=['accuracy'])\n",
        "\n",
        "# print model summary\n",
        "model_l2.summary()"
      ]
    },
    {
      "cell_type": "code",
      "execution_count": null,
      "metadata": {
        "id": "HSZCxTV1AzF8",
        "outputId": "07979bac-6e35-4474-ad42-1fdda1e8d43d"
      },
      "outputs": [
        {
          "name": "stdout",
          "output_type": "stream",
          "text": [
            "Epoch 1/20\n",
            "148/148 [==============================] - 432s 3s/step - loss: 2.1379 - accuracy: 0.3422 - val_loss: 1.9591 - val_accuracy: 0.3393\n",
            "Epoch 2/20\n",
            "148/148 [==============================] - 430s 3s/step - loss: 1.6320 - accuracy: 0.4792 - val_loss: 1.5435 - val_accuracy: 0.4852\n",
            "Epoch 3/20\n",
            "148/148 [==============================] - 430s 3s/step - loss: 1.4293 - accuracy: 0.5686 - val_loss: 1.3838 - val_accuracy: 0.5859\n",
            "Epoch 4/20\n",
            "148/148 [==============================] - 431s 3s/step - loss: 1.3499 - accuracy: 0.5898 - val_loss: 1.3529 - val_accuracy: 0.5700\n",
            "Epoch 5/20\n",
            "148/148 [==============================] - 437s 3s/step - loss: 1.2759 - accuracy: 0.6182 - val_loss: 1.2808 - val_accuracy: 0.6100\n",
            "Epoch 6/20\n",
            "148/148 [==============================] - 430s 3s/step - loss: 1.2131 - accuracy: 0.6368 - val_loss: 1.1424 - val_accuracy: 0.6789\n",
            "Epoch 7/20\n",
            "148/148 [==============================] - 429s 3s/step - loss: 1.1644 - accuracy: 0.6528 - val_loss: 1.1429 - val_accuracy: 0.6578\n",
            "Epoch 8/20\n",
            "148/148 [==============================] - 432s 3s/step - loss: 1.1263 - accuracy: 0.6613 - val_loss: 1.1465 - val_accuracy: 0.6585\n",
            "Epoch 00008: early stopping\n"
          ]
        }
      ],
      "source": [
        "# Define Stopping Criteria \n",
        "valcallback = EarlyStopping(monitor='val_loss', mode='min', verbose = 1, patience = 2)\n",
        "\n",
        "\n",
        "# Fit the model\n",
        "model_l2_history = model_l2.fit(train_generator, \n",
        "                                  epochs= 20, \n",
        "                                  validation_data = val_generator, \n",
        "                                  callbacks= valcallback, \n",
        "                                  batch_size=128, \n",
        "                                  verbose = 1)"
      ]
    },
    {
      "cell_type": "code",
      "execution_count": null,
      "metadata": {
        "id": "TGslLDKFAzF8",
        "outputId": "d161add8-e0b2-459d-a715-d2179f587ac2"
      },
      "outputs": [
        {
          "name": "stdout",
          "output_type": "stream",
          "text": [
            "43/43 [==============================] - 35s 806ms/step - loss: 1.1507 - accuracy: 0.6563\n",
            "Test loss:  1.150733232498169\n",
            "Test accuracy:  0.6562963128089905\n"
          ]
        }
      ],
      "source": [
        "#Check loss and accuracy on test data\n",
        "test_loss, test_acc = model_l2.evaluate(test_generator, verbose = 1)\n",
        "\n",
        "print('Test loss: ', test_loss)\n",
        "print('Test accuracy: ', test_acc)"
      ]
    },
    {
      "cell_type": "markdown",
      "metadata": {
        "id": "LKZ_oj7EAzF8"
      },
      "source": [
        "#### Model 4- Dropout Regularization"
      ]
    },
    {
      "cell_type": "code",
      "execution_count": null,
      "metadata": {
        "id": "phuuEiQLAzF8",
        "outputId": "d6bc0f1d-30a8-47be-cba7-3b4dc7eca3a9"
      },
      "outputs": [
        {
          "name": "stdout",
          "output_type": "stream",
          "text": [
            "Model: \"sequential_16\"\n",
            "_________________________________________________________________\n",
            "Layer (type)                 Output Shape              Param #   \n",
            "=================================================================\n",
            "dropout_10 (Dropout)         (None, 256, 256, 3)       0         \n",
            "_________________________________________________________________\n",
            "conv2d_19 (Conv2D)           (None, 254, 254, 32)      896       \n",
            "_________________________________________________________________\n",
            "max_pooling2d_17 (MaxPooling (None, 127, 127, 32)      0         \n",
            "_________________________________________________________________\n",
            "dropout_11 (Dropout)         (None, 127, 127, 32)      0         \n",
            "_________________________________________________________________\n",
            "conv2d_20 (Conv2D)           (None, 125, 125, 32)      9248      \n",
            "_________________________________________________________________\n",
            "max_pooling2d_18 (MaxPooling (None, 62, 62, 32)        0         \n",
            "_________________________________________________________________\n",
            "dropout_12 (Dropout)         (None, 62, 62, 32)        0         \n",
            "_________________________________________________________________\n",
            "flatten_14 (Flatten)         (None, 123008)            0         \n",
            "_________________________________________________________________\n",
            "dense_29 (Dense)             (None, 64)                7872576   \n",
            "_________________________________________________________________\n",
            "dropout_13 (Dropout)         (None, 64)                0         \n",
            "_________________________________________________________________\n",
            "dense_30 (Dense)             (None, 10)                650       \n",
            "=================================================================\n",
            "Total params: 7,883,370\n",
            "Trainable params: 7,883,370\n",
            "Non-trainable params: 0\n",
            "_________________________________________________________________\n"
          ]
        }
      ],
      "source": [
        "#Instantiate a Sequential model\n",
        "model_dropout = Sequential()\n",
        "\n",
        "\n",
        "# Input Layer- Dropout\n",
        "model_dropout.add(layers.Dropout(0.2, input_shape= (256, 256, 3)))\n",
        "\n",
        "#Convolution Layer\n",
        "model_dropout.add(Conv2D(filters=32,\n",
        "                          kernel_size=(3, 3),\n",
        "                          activation='relu'))\n",
        "\n",
        "# Layer 1- max pool in 2x2 window\n",
        "model_dropout.add(MaxPooling2D(pool_size=(2, 2)))\n",
        "\n",
        "model_dropout.add(layers.Dropout(0.2))\n",
        "\n",
        "# Layer 2- another convolution layer \n",
        "model_dropout.add(layers.Conv2D(32, (3, 3), activation='relu'))\n",
        "\n",
        "# Layer 3- another max pool layer\n",
        "model_dropout.add(layers.MaxPooling2D((2, 2)))\n",
        "\n",
        "model_dropout.add(layers.Dropout(0.2))\n",
        "\n",
        "# Layer 4- connect all nodes with dense layer\n",
        "model_dropout.add(Flatten())\n",
        "model_dropout.add(Dense(64, activation='relu'))\n",
        "\n",
        "model_dropout.add(layers.Dropout(0.2))\n",
        "\n",
        "# Output Layer- softmax activiation for multi-categorical with 10 classes\n",
        "model_dropout.add(Dense(10, activation='softmax'))\n",
        "\n",
        "#Compile the sequential CNN model- adam optimizer, \n",
        "# categorical_crossentropy loss, and set our metric to accuracy\n",
        "model_dropout.compile(optimizer='adam', \n",
        "                       loss='categorical_crossentropy',  \n",
        "                       metrics=['accuracy'])\n",
        "\n",
        "# print model summary\n",
        "model_dropout.summary()"
      ]
    },
    {
      "cell_type": "code",
      "execution_count": null,
      "metadata": {
        "id": "soMD5CkSAzF8",
        "outputId": "6f9eaf3e-7cab-4ecf-8d18-afc423d7eba3"
      },
      "outputs": [
        {
          "name": "stdout",
          "output_type": "stream",
          "text": [
            "Epoch 1/20\n",
            "148/148 [==============================] - 517s 3s/step - loss: 2.4970 - accuracy: 0.1553 - val_loss: 2.1980 - val_accuracy: 0.1674\n",
            "Epoch 2/20\n",
            "148/148 [==============================] - 514s 3s/step - loss: 1.9059 - accuracy: 0.2441 - val_loss: 2.0253 - val_accuracy: 0.2404\n",
            "Epoch 3/20\n",
            "148/148 [==============================] - 513s 3s/step - loss: 1.7884 - accuracy: 0.2856 - val_loss: 1.8434 - val_accuracy: 0.3511\n",
            "Epoch 4/20\n",
            "148/148 [==============================] - 514s 3s/step - loss: 1.7333 - accuracy: 0.3106 - val_loss: 1.7482 - val_accuracy: 0.3663\n",
            "Epoch 5/20\n",
            "148/148 [==============================] - 512s 3s/step - loss: 1.6867 - accuracy: 0.3358 - val_loss: 1.7402 - val_accuracy: 0.3463\n",
            "Epoch 6/20\n",
            "148/148 [==============================] - 513s 3s/step - loss: 1.6566 - accuracy: 0.3614 - val_loss: 1.6861 - val_accuracy: 0.3889\n",
            "Epoch 7/20\n",
            "148/148 [==============================] - 519s 4s/step - loss: 1.5778 - accuracy: 0.4080 - val_loss: 1.8090 - val_accuracy: 0.3348\n",
            "Epoch 8/20\n",
            "148/148 [==============================] - 512s 3s/step - loss: 1.5274 - accuracy: 0.4299 - val_loss: 1.7019 - val_accuracy: 0.3752\n",
            "Epoch 00008: early stopping\n"
          ]
        }
      ],
      "source": [
        "# Define Stopping Criteria \n",
        "valcallback = EarlyStopping(monitor='val_loss', mode='min', verbose = 1, patience = 2)\n",
        "\n",
        "\n",
        "# Fit the model\n",
        "model_dropout_history = model_dropout.fit(train_generator, \n",
        "                                  epochs= 20, \n",
        "                                  validation_data = val_generator, \n",
        "                                  callbacks= valcallback, \n",
        "                                  batch_size=128, \n",
        "                                  verbose = 1)"
      ]
    },
    {
      "cell_type": "code",
      "execution_count": null,
      "metadata": {
        "id": "HEP2QxsmAzF9",
        "outputId": "d1b03292-bb82-441b-c09d-c35e9e7e46ef"
      },
      "outputs": [
        {
          "name": "stdout",
          "output_type": "stream",
          "text": [
            "43/43 [==============================] - 33s 774ms/step - loss: 1.7064 - accuracy: 0.3637\n",
            "Test loss:  1.7064480781555176\n",
            "Test accuracy:  0.3637036979198456\n"
          ]
        }
      ],
      "source": [
        "#Check loss and accuracy on test data\n",
        "test_loss, test_acc = model_dropout.evaluate(test_generator, verbose = 1)\n",
        "\n",
        "print('Test loss: ', test_loss)\n",
        "print('Test accuracy: ', test_acc)"
      ]
    },
    {
      "cell_type": "code",
      "execution_count": null,
      "metadata": {
        "id": "Y0WBYcvTAzF9"
      },
      "outputs": [],
      "source": []
    },
    {
      "cell_type": "markdown",
      "metadata": {
        "id": "PNMP0TFiAzF9"
      },
      "source": [
        "#### Model 5- Dropout and L2 Regularization"
      ]
    },
    {
      "cell_type": "code",
      "execution_count": null,
      "metadata": {
        "id": "nZuooflMAzF9",
        "outputId": "1d375878-a12b-441c-e3da-1438c685cef3"
      },
      "outputs": [
        {
          "name": "stdout",
          "output_type": "stream",
          "text": [
            "Model: \"sequential_17\"\n",
            "_________________________________________________________________\n",
            "Layer (type)                 Output Shape              Param #   \n",
            "=================================================================\n",
            "conv2d_21 (Conv2D)           (None, 254, 254, 32)      896       \n",
            "_________________________________________________________________\n",
            "max_pooling2d_19 (MaxPooling (None, 127, 127, 32)      0         \n",
            "_________________________________________________________________\n",
            "dropout_14 (Dropout)         (None, 127, 127, 32)      0         \n",
            "_________________________________________________________________\n",
            "conv2d_22 (Conv2D)           (None, 125, 125, 32)      9248      \n",
            "_________________________________________________________________\n",
            "max_pooling2d_20 (MaxPooling (None, 62, 62, 32)        0         \n",
            "_________________________________________________________________\n",
            "dropout_15 (Dropout)         (None, 62, 62, 32)        0         \n",
            "_________________________________________________________________\n",
            "flatten_15 (Flatten)         (None, 123008)            0         \n",
            "_________________________________________________________________\n",
            "dense_31 (Dense)             (None, 32)                3936288   \n",
            "_________________________________________________________________\n",
            "dense_32 (Dense)             (None, 64)                2112      \n",
            "_________________________________________________________________\n",
            "dense_33 (Dense)             (None, 10)                650       \n",
            "=================================================================\n",
            "Total params: 3,949,194\n",
            "Trainable params: 3,949,194\n",
            "Non-trainable params: 0\n",
            "_________________________________________________________________\n"
          ]
        }
      ],
      "source": [
        "#Instantiate a Sequential model\n",
        "model_five = Sequential()\n",
        "\n",
        "# Input Layer- Convolution\n",
        "model_five.add(Conv2D(filters=32,\n",
        "                          kernel_size=(3, 3),\n",
        "                          activation='relu',\n",
        "                          input_shape= (256, 256, 3),\n",
        "                     kernel_regularizer=regularizers.l2(0.005)))\n",
        "\n",
        "# Layer 1- max pool in 2x2 window\n",
        "model_five.add(MaxPooling2D(pool_size=(2, 2)))\n",
        "model_five.add(layers.Dropout(0.2))\n",
        "\n",
        "# Layer 2- another convolution layer \n",
        "model_five.add(layers.Conv2D(32, (3, 3), activation='relu', kernel_regularizer=regularizers.l2(0.005)))\n",
        "\n",
        "# Layer 3- another max pool layer\n",
        "model_five.add(layers.MaxPooling2D((2, 2)))\n",
        "model_five.add(layers.Dropout(0.2))\n",
        "\n",
        "# Layer 4- connect all nodes with dense layer\n",
        "model_five.add(Flatten())\n",
        "model_five.add(Dense(32, activation='relu', kernel_regularizer=regularizers.l2(0.005)))\n",
        "\n",
        "#Layer 5\n",
        "model_five.add(Dense(64, activation='relu', kernel_regularizer=regularizers.l2(0.005)))\n",
        "\n",
        "# Output Layer- softmax activiation for multi-categorical with 10 classes\n",
        "model_five.add(Dense(10, activation='softmax'))\n",
        "\n",
        "#Compile the sequential CNN model- adam optimizer, \n",
        "# categorical_crossentropy loss, and set our metric to accuracy\n",
        "model_five.compile(optimizer='adam', \n",
        "                       loss='categorical_crossentropy',  \n",
        "                       metrics=['accuracy'])\n",
        "\n",
        "# print model summary\n",
        "model_five.summary()"
      ]
    },
    {
      "cell_type": "code",
      "execution_count": null,
      "metadata": {
        "id": "WbUzRiT9AzF9",
        "outputId": "252d7e32-cbc4-475c-a28d-70589f062b61"
      },
      "outputs": [
        {
          "name": "stdout",
          "output_type": "stream",
          "text": [
            "Epoch 1/20\n",
            "148/148 [==============================] - 490s 3s/step - loss: 2.4675 - accuracy: 0.1976 - val_loss: 1.9717 - val_accuracy: 0.3196\n",
            "Epoch 2/20\n",
            "148/148 [==============================] - 490s 3s/step - loss: 1.8828 - accuracy: 0.3471 - val_loss: 1.7990 - val_accuracy: 0.3978\n",
            "Epoch 3/20\n",
            "148/148 [==============================] - 490s 3s/step - loss: 1.7338 - accuracy: 0.4206 - val_loss: 1.6767 - val_accuracy: 0.4407\n",
            "Epoch 4/20\n",
            "148/148 [==============================] - 491s 3s/step - loss: 1.6063 - accuracy: 0.4655 - val_loss: 1.5370 - val_accuracy: 0.5059\n",
            "Epoch 5/20\n",
            "148/148 [==============================] - 490s 3s/step - loss: 1.5095 - accuracy: 0.5031 - val_loss: 1.4821 - val_accuracy: 0.5026\n",
            "Epoch 6/20\n",
            "148/148 [==============================] - 502s 3s/step - loss: 1.4447 - accuracy: 0.5267 - val_loss: 1.4239 - val_accuracy: 0.5456\n",
            "Epoch 7/20\n",
            "148/148 [==============================] - 490s 3s/step - loss: 1.4236 - accuracy: 0.5341 - val_loss: 1.4637 - val_accuracy: 0.5156\n",
            "Epoch 8/20\n",
            "148/148 [==============================] - 490s 3s/step - loss: 1.3587 - accuracy: 0.5542 - val_loss: 1.4379 - val_accuracy: 0.5337\n",
            "Epoch 00008: early stopping\n"
          ]
        }
      ],
      "source": [
        "# Define Stopping Criteria \n",
        "valcallback = EarlyStopping(monitor='val_loss', mode='min', verbose = 1, patience = 2)\n",
        "\n",
        "\n",
        "# Fit the model\n",
        "model_five_history = model_five.fit(train_generator, \n",
        "                                  epochs= 20, \n",
        "                                  validation_data = val_generator, \n",
        "                                  callbacks= valcallback, \n",
        "                                  batch_size=128, \n",
        "                                  verbose = 1)"
      ]
    },
    {
      "cell_type": "code",
      "execution_count": null,
      "metadata": {
        "id": "AdrV3QuaAzF9",
        "outputId": "4d2955b5-8cd5-4afc-84fc-190e430b6d9f"
      },
      "outputs": [
        {
          "name": "stdout",
          "output_type": "stream",
          "text": [
            "43/43 [==============================] - 32s 754ms/step - loss: 1.4017 - accuracy: 0.5459\n",
            "Test loss:  1.4017235040664673\n",
            "Test accuracy:  0.5459259152412415\n"
          ]
        }
      ],
      "source": [
        "#Check loss and accuracy on test data\n",
        "test_loss, test_acc = model_five.evaluate(test_generator, verbose = 1)\n",
        "\n",
        "print('Test loss: ', test_loss)\n",
        "print('Test accuracy: ', test_acc)"
      ]
    },
    {
      "cell_type": "markdown",
      "metadata": {
        "id": "tnc8jps8AzF-"
      },
      "source": [
        "### Model 6- Increasing initial Convolution Layer's Filter and Kernal size."
      ]
    },
    {
      "cell_type": "markdown",
      "metadata": {
        "id": "vt7XW51yAzF-"
      },
      "source": [
        "Also arranged Dense layers in decreasing order."
      ]
    },
    {
      "cell_type": "code",
      "execution_count": null,
      "metadata": {
        "id": "QW6A4r8HAzF-",
        "outputId": "7affe412-da5d-4892-f2b7-fd8b364a7899"
      },
      "outputs": [
        {
          "name": "stdout",
          "output_type": "stream",
          "text": [
            "Model: \"sequential\"\n",
            "_________________________________________________________________\n",
            "Layer (type)                 Output Shape              Param #   \n",
            "=================================================================\n",
            "conv2d (Conv2D)              (None, 252, 252, 64)      4864      \n",
            "_________________________________________________________________\n",
            "max_pooling2d (MaxPooling2D) (None, 126, 126, 64)      0         \n",
            "_________________________________________________________________\n",
            "conv2d_1 (Conv2D)            (None, 124, 124, 32)      18464     \n",
            "_________________________________________________________________\n",
            "max_pooling2d_1 (MaxPooling2 (None, 62, 62, 32)        0         \n",
            "_________________________________________________________________\n",
            "flatten (Flatten)            (None, 123008)            0         \n",
            "_________________________________________________________________\n",
            "dense (Dense)                (None, 64)                7872576   \n",
            "_________________________________________________________________\n",
            "dense_1 (Dense)              (None, 32)                2080      \n",
            "_________________________________________________________________\n",
            "dense_2 (Dense)              (None, 10)                330       \n",
            "=================================================================\n",
            "Total params: 7,898,314\n",
            "Trainable params: 7,898,314\n",
            "Non-trainable params: 0\n",
            "_________________________________________________________________\n"
          ]
        }
      ],
      "source": [
        "#Instantiate a Sequential model\n",
        "model_six = Sequential()\n",
        "\n",
        "# Input Layer- Convolution\n",
        "model_six.add(Conv2D(filters=64,\n",
        "                          kernel_size=(5, 5),\n",
        "                          activation='relu',\n",
        "                          input_shape= (256, 256, 3)))\n",
        "\n",
        "# Layer 1- max pool in 2x2 window\n",
        "model_six.add(MaxPooling2D(pool_size=(2, 2)))\n",
        "\n",
        "# Layer 2- another convolution layer \n",
        "model_six.add(layers.Conv2D(32, (3, 3), activation='relu'))\n",
        "\n",
        "# Layer 3- another max pool layer\n",
        "model_six.add(layers.MaxPooling2D((2, 2)))\n",
        "\n",
        "# Layer 4- connect all nodes with dense layer\n",
        "model_six.add(Flatten())\n",
        "model_six.add(Dense(64, activation='relu'))\n",
        "\n",
        "#Layer 5\n",
        "model_six.add(Dense(32, activation='relu'))\n",
        "\n",
        "# Output Layer- softmax activiation for multi-categorical with 10 classes\n",
        "model_six.add(Dense(10, activation='softmax'))\n",
        "\n",
        "#Compile the sequential CNN model- adam optimizer, \n",
        "# categorical_crossentropy loss, and set our metric to accuracy\n",
        "model_six.compile(optimizer='adam', \n",
        "                       loss='categorical_crossentropy',  \n",
        "                       metrics=['accuracy'])\n",
        "\n",
        "# print model summary\n",
        "model_six.summary()"
      ]
    },
    {
      "cell_type": "code",
      "execution_count": null,
      "metadata": {
        "id": "v-B_kyOaAzF-",
        "outputId": "1692e907-81ed-4ddb-e337-d7a4136efb29"
      },
      "outputs": [
        {
          "name": "stdout",
          "output_type": "stream",
          "text": [
            "Epoch 1/20\n",
            "148/148 [==============================] - 1051s 7s/step - loss: 2.0885 - accuracy: 0.2260 - val_loss: 1.8681 - val_accuracy: 0.2626\n",
            "Epoch 2/20\n",
            "148/148 [==============================] - 1014s 7s/step - loss: 1.7389 - accuracy: 0.3028 - val_loss: 1.6575 - val_accuracy: 0.3219\n",
            "Epoch 3/20\n",
            "148/148 [==============================] - 996s 7s/step - loss: 1.5863 - accuracy: 0.3687 - val_loss: 1.5469 - val_accuracy: 0.4181\n",
            "Epoch 4/20\n",
            "148/148 [==============================] - 974s 7s/step - loss: 1.5005 - accuracy: 0.4251 - val_loss: 1.4903 - val_accuracy: 0.4241\n",
            "Epoch 5/20\n",
            "148/148 [==============================] - 955s 6s/step - loss: 1.4163 - accuracy: 0.4676 - val_loss: 1.4474 - val_accuracy: 0.4526\n",
            "Epoch 6/20\n",
            "148/148 [==============================] - 957s 6s/step - loss: 1.3258 - accuracy: 0.5107 - val_loss: 1.4705 - val_accuracy: 0.4389\n",
            "Epoch 7/20\n",
            "148/148 [==============================] - 945s 6s/step - loss: 1.2367 - accuracy: 0.5442 - val_loss: 1.3537 - val_accuracy: 0.4919\n",
            "Epoch 8/20\n",
            "148/148 [==============================] - 963s 7s/step - loss: 1.1416 - accuracy: 0.5841 - val_loss: 1.3715 - val_accuracy: 0.5048\n",
            "Epoch 9/20\n",
            "148/148 [==============================] - 956s 6s/step - loss: 1.0401 - accuracy: 0.6261 - val_loss: 1.2836 - val_accuracy: 0.5393\n",
            "Epoch 10/20\n",
            "148/148 [==============================] - 949s 6s/step - loss: 0.9935 - accuracy: 0.6438 - val_loss: 1.3660 - val_accuracy: 0.5148\n",
            "Epoch 11/20\n",
            "148/148 [==============================] - 960s 6s/step - loss: 0.9111 - accuracy: 0.6721 - val_loss: 1.4051 - val_accuracy: 0.5300\n",
            "Epoch 00011: early stopping\n"
          ]
        }
      ],
      "source": [
        "# Define Stopping Criteria \n",
        "valcallback = EarlyStopping(monitor='val_loss', mode='min', verbose = 1, patience = 2)\n",
        "\n",
        "\n",
        "# Fit the model\n",
        "model_six_history = model_six.fit(train_generator, \n",
        "                                  epochs= 20, \n",
        "                                  validation_data = val_generator, \n",
        "                                  callbacks= valcallback, \n",
        "                                  batch_size=128, \n",
        "                                  verbose = 1)"
      ]
    },
    {
      "cell_type": "code",
      "execution_count": null,
      "metadata": {
        "id": "taXwk4xNAzF-",
        "outputId": "7b2addba-80c5-4686-ed5a-04378cf57d4e"
      },
      "outputs": [
        {
          "name": "stdout",
          "output_type": "stream",
          "text": [
            "43/43 [==============================] - 59s 1s/step - loss: 1.3475 - accuracy: 0.5319\n",
            "Test loss:  1.3474699258804321\n",
            "Test accuracy:  0.5318518280982971\n"
          ]
        }
      ],
      "source": [
        "#Check loss and accuracy on test data\n",
        "test_loss, test_acc = model_six.evaluate(test_generator, verbose = 1)\n",
        "\n",
        "print('Test loss: ', test_loss)\n",
        "print('Test accuracy: ', test_acc)"
      ]
    },
    {
      "cell_type": "code",
      "execution_count": null,
      "metadata": {
        "id": "h8YBxfCnAzF-"
      },
      "outputs": [],
      "source": []
    },
    {
      "cell_type": "markdown",
      "metadata": {
        "id": "oWLDU44_AzF-"
      },
      "source": [
        "### Model 7- Add Dense(128) Layer "
      ]
    },
    {
      "cell_type": "code",
      "execution_count": null,
      "metadata": {
        "id": "3T2C5Go9AzF_",
        "outputId": "370250be-a404-4188-c8b3-47af16996c0e"
      },
      "outputs": [
        {
          "name": "stdout",
          "output_type": "stream",
          "text": [
            "Model: \"sequential_1\"\n",
            "_________________________________________________________________\n",
            "Layer (type)                 Output Shape              Param #   \n",
            "=================================================================\n",
            "conv2d_2 (Conv2D)            (None, 254, 254, 32)      896       \n",
            "_________________________________________________________________\n",
            "max_pooling2d_2 (MaxPooling2 (None, 127, 127, 32)      0         \n",
            "_________________________________________________________________\n",
            "conv2d_3 (Conv2D)            (None, 125, 125, 32)      9248      \n",
            "_________________________________________________________________\n",
            "max_pooling2d_3 (MaxPooling2 (None, 62, 62, 32)        0         \n",
            "_________________________________________________________________\n",
            "flatten_1 (Flatten)          (None, 123008)            0         \n",
            "_________________________________________________________________\n",
            "dense_3 (Dense)              (None, 128)               15745152  \n",
            "_________________________________________________________________\n",
            "dense_4 (Dense)              (None, 64)                8256      \n",
            "_________________________________________________________________\n",
            "dense_5 (Dense)              (None, 32)                2080      \n",
            "_________________________________________________________________\n",
            "dense_6 (Dense)              (None, 10)                330       \n",
            "=================================================================\n",
            "Total params: 15,765,962\n",
            "Trainable params: 15,765,962\n",
            "Non-trainable params: 0\n",
            "_________________________________________________________________\n"
          ]
        }
      ],
      "source": [
        "#Instantiate a Sequential model\n",
        "model_seven = Sequential()\n",
        "\n",
        "# Input Layer- Convolution\n",
        "model_seven.add(Conv2D(filters=32,\n",
        "                          kernel_size=(3, 3),\n",
        "                          activation='relu',\n",
        "                          input_shape= (256, 256, 3)))\n",
        "\n",
        "# Layer 1- max pool in 2x2 window\n",
        "model_seven.add(MaxPooling2D(pool_size=(2, 2)))\n",
        "\n",
        "# Layer 2- another convolution layer \n",
        "model_seven.add(layers.Conv2D(32, (3, 3), activation='relu'))\n",
        "\n",
        "# Layer 3- another max pool layer\n",
        "model_seven.add(layers.MaxPooling2D((2, 2)))\n",
        "\n",
        "# Layer 4- connect all nodes with dense layer\n",
        "model_seven.add(Flatten())\n",
        "model_seven.add(Dense(128, activation='relu'))                \n",
        "                \n",
        "# Layer 5- dense layer                \n",
        "model_seven.add(Dense(64, activation='relu'))\n",
        "                \n",
        "# Layer 6- dense layer  \n",
        "model_seven.add(Dense(32, activation='relu'))\n",
        "\n",
        "# Output Layer- softmax activiation for multi-categorical with 10 classes\n",
        "model_seven.add(Dense(10, activation='softmax'))\n",
        "\n",
        "#Compile the sequential CNN model- adam optimizer, \n",
        "# categorical_crossentropy loss, and set our metric to accuracy\n",
        "model_seven.compile(optimizer='adam', \n",
        "                       loss='categorical_crossentropy',  \n",
        "                       metrics=['accuracy'])\n",
        "\n",
        "# print model summary\n",
        "model_seven.summary()"
      ]
    },
    {
      "cell_type": "code",
      "execution_count": null,
      "metadata": {
        "id": "bnA0ed59AzF_",
        "outputId": "9ec7e7ae-8432-4fe4-f60a-b4a3a878369f"
      },
      "outputs": [
        {
          "name": "stdout",
          "output_type": "stream",
          "text": [
            "Epoch 1/20\n",
            "148/148 [==============================] - 431s 3s/step - loss: 1.7042 - accuracy: 0.3772 - val_loss: 1.3390 - val_accuracy: 0.5141\n",
            "Epoch 2/20\n",
            "148/148 [==============================] - 429s 3s/step - loss: 1.2923 - accuracy: 0.5213 - val_loss: 1.2157 - val_accuracy: 0.5633\n",
            "Epoch 3/20\n",
            "148/148 [==============================] - 429s 3s/step - loss: 1.1309 - accuracy: 0.5794 - val_loss: 1.1131 - val_accuracy: 0.5915\n",
            "Epoch 4/20\n",
            "148/148 [==============================] - 427s 3s/step - loss: 1.0286 - accuracy: 0.6232 - val_loss: 1.0793 - val_accuracy: 0.6115\n",
            "Epoch 5/20\n",
            "148/148 [==============================] - 429s 3s/step - loss: 0.9325 - accuracy: 0.6661 - val_loss: 0.9119 - val_accuracy: 0.6815\n",
            "Epoch 6/20\n",
            "148/148 [==============================] - 429s 3s/step - loss: 0.7214 - accuracy: 0.7420 - val_loss: 0.7592 - val_accuracy: 0.7244\n",
            "Epoch 7/20\n",
            "148/148 [==============================] - 433s 3s/step - loss: 0.5805 - accuracy: 0.7905 - val_loss: 0.7856 - val_accuracy: 0.7289\n",
            "Epoch 8/20\n",
            "148/148 [==============================] - 429s 3s/step - loss: 0.4392 - accuracy: 0.8489 - val_loss: 0.7429 - val_accuracy: 0.7504\n",
            "Epoch 9/20\n",
            "148/148 [==============================] - 429s 3s/step - loss: 0.3402 - accuracy: 0.8849 - val_loss: 0.8058 - val_accuracy: 0.7430\n",
            "Epoch 10/20\n",
            "148/148 [==============================] - 431s 3s/step - loss: 0.2509 - accuracy: 0.9196 - val_loss: 0.7860 - val_accuracy: 0.7596\n",
            "Epoch 00010: early stopping\n"
          ]
        }
      ],
      "source": [
        "# Define Stopping Criteria \n",
        "valcallback = EarlyStopping(monitor='val_loss', mode='min', verbose = 1, patience = 2)\n",
        "\n",
        "\n",
        "# Fit the model\n",
        "model_seven_history = model_seven.fit(train_generator, \n",
        "                                  epochs= 20, \n",
        "                                  validation_data = val_generator, \n",
        "                                  callbacks= valcallback, \n",
        "                                  batch_size=128, \n",
        "                                  verbose = 1)"
      ]
    },
    {
      "cell_type": "code",
      "execution_count": null,
      "metadata": {
        "id": "OZasdjbdAzF_",
        "outputId": "c8a061e0-de8b-478a-9e5a-6be2cd6503e1"
      },
      "outputs": [
        {
          "name": "stdout",
          "output_type": "stream",
          "text": [
            "43/43 [==============================] - 33s 758ms/step - loss: 0.7563 - accuracy: 0.7769\n",
            "Test loss:  0.7563361525535583\n",
            "Test accuracy:  0.7768518328666687\n"
          ]
        }
      ],
      "source": [
        "#Check loss and accuracy on test data\n",
        "test_loss, test_acc = model_seven.evaluate(test_generator, verbose = 1)\n",
        "\n",
        "print('Test loss: ', test_loss)\n",
        "print('Test accuracy: ', test_acc)"
      ]
    },
    {
      "cell_type": "code",
      "execution_count": null,
      "metadata": {
        "id": "oyMrfSq9AzGA"
      },
      "outputs": [],
      "source": []
    },
    {
      "cell_type": "markdown",
      "metadata": {
        "id": "Ja3QvzByAzGA"
      },
      "source": [
        "### Model 8- Deeper CNN"
      ]
    },
    {
      "cell_type": "markdown",
      "metadata": {
        "id": "PrjvgQJEAzGA"
      },
      "source": [
        "Adding another Convolutional with Max Pooling Layer.  Also changing our EarlyStopping callback to monitor validation accuracy instead of validation loss. "
      ]
    },
    {
      "cell_type": "code",
      "execution_count": null,
      "metadata": {
        "id": "W03EaByCAzGA",
        "outputId": "df52b576-bd20-433b-ca0b-d31919b51a15"
      },
      "outputs": [
        {
          "name": "stdout",
          "output_type": "stream",
          "text": [
            "Model: \"sequential_3\"\n",
            "_________________________________________________________________\n",
            "Layer (type)                 Output Shape              Param #   \n",
            "=================================================================\n",
            "conv2d_3 (Conv2D)            (None, 254, 254, 32)      896       \n",
            "_________________________________________________________________\n",
            "max_pooling2d_3 (MaxPooling2 (None, 127, 127, 32)      0         \n",
            "_________________________________________________________________\n",
            "conv2d_4 (Conv2D)            (None, 125, 125, 32)      9248      \n",
            "_________________________________________________________________\n",
            "max_pooling2d_4 (MaxPooling2 (None, 62, 62, 32)        0         \n",
            "_________________________________________________________________\n",
            "conv2d_5 (Conv2D)            (None, 60, 60, 32)        9248      \n",
            "_________________________________________________________________\n",
            "max_pooling2d_5 (MaxPooling2 (None, 30, 30, 32)        0         \n",
            "_________________________________________________________________\n",
            "flatten_3 (Flatten)          (None, 28800)             0         \n",
            "_________________________________________________________________\n",
            "dense_7 (Dense)              (None, 64)                1843264   \n",
            "_________________________________________________________________\n",
            "dense_8 (Dense)              (None, 64)                4160      \n",
            "_________________________________________________________________\n",
            "dense_9 (Dense)              (None, 10)                650       \n",
            "=================================================================\n",
            "Total params: 1,867,466\n",
            "Trainable params: 1,867,466\n",
            "Non-trainable params: 0\n",
            "_________________________________________________________________\n"
          ]
        }
      ],
      "source": [
        "#Instantiate a Sequential model\n",
        "model_eight = Sequential()\n",
        "\n",
        "\n",
        "# Input Layer- Convolution\n",
        "model_eight.add(Conv2D(filters=32,\n",
        "                          kernel_size=(3, 3),\n",
        "                          activation='relu',\n",
        "                          input_shape= (256, 256, 3)))\n",
        "\n",
        "\n",
        "# Layer 1- max pool in 2x2 window\n",
        "model_eight.add(MaxPooling2D(pool_size=(2, 2)))\n",
        "\n",
        "# Layer 2- another convolution layer \n",
        "model_eight.add(layers.Conv2D(32, (3, 3), activation='relu'))\n",
        "\n",
        "# Layer 3- another max pool layer\n",
        "model_eight.add(layers.MaxPooling2D((2, 2)))\n",
        "\n",
        "# Layer 4- another convolution layer \n",
        "model_eight.add(layers.Conv2D(32, (3, 3), activation='relu'))\n",
        "\n",
        "# Layer 5- another max pool layer\n",
        "model_eight.add(layers.MaxPooling2D((2, 2)))\n",
        "\n",
        "# Layer 6- connect all nodes with dense layer\n",
        "model_eight.add(Flatten())\n",
        "model_eight.add(Dense(64, activation='relu'))\n",
        "\n",
        "# Layer 7- dense layer\n",
        "model_eight.add(Dense(64, activation='relu'))\n",
        "\n",
        "# Output Layer- softmax activiation for multi-categorical with 10 classes\n",
        "model_eight.add(Dense(10, activation='softmax'))\n",
        "\n",
        "#Compile the sequential CNN model- adam optimizer, \n",
        "# categorical_crossentropy loss, and set our metric to accuracy\n",
        "model_eight.compile(optimizer='adam', \n",
        "                       loss='categorical_crossentropy',  \n",
        "                       metrics=['accuracy'])\n",
        "\n",
        "# print model summary\n",
        "model_eight.summary()"
      ]
    },
    {
      "cell_type": "code",
      "execution_count": null,
      "metadata": {
        "id": "N-_f1rzHAzGA",
        "outputId": "d7f2d6db-d4a8-46e2-fcdb-6b5e839ef4f5"
      },
      "outputs": [
        {
          "name": "stdout",
          "output_type": "stream",
          "text": [
            "Epoch 1/20\n",
            "148/148 [==============================] - 527s 4s/step - loss: 1.6420 - accuracy: 0.3805 - val_loss: 1.2893 - val_accuracy: 0.5274\n",
            "Epoch 2/20\n",
            "148/148 [==============================] - 574s 4s/step - loss: 1.1483 - accuracy: 0.5761 - val_loss: 1.0552 - val_accuracy: 0.6193\n",
            "Epoch 3/20\n",
            "148/148 [==============================] - 586s 4s/step - loss: 0.9700 - accuracy: 0.6397 - val_loss: 0.8785 - val_accuracy: 0.6837\n",
            "Epoch 4/20\n",
            "148/148 [==============================] - 501s 3s/step - loss: 0.7638 - accuracy: 0.7220 - val_loss: 0.8687 - val_accuracy: 0.6863\n",
            "Epoch 5/20\n",
            "148/148 [==============================] - 478s 3s/step - loss: 0.6472 - accuracy: 0.7644 - val_loss: 0.7288 - val_accuracy: 0.7363\n",
            "Epoch 6/20\n",
            "148/148 [==============================] - 568s 4s/step - loss: 0.5564 - accuracy: 0.7957 - val_loss: 0.6097 - val_accuracy: 0.7800\n",
            "Epoch 7/20\n",
            "148/148 [==============================] - 547s 4s/step - loss: 0.4814 - accuracy: 0.8262 - val_loss: 0.6907 - val_accuracy: 0.7600\n",
            "Epoch 8/20\n",
            "148/148 [==============================] - 508s 3s/step - loss: 0.4337 - accuracy: 0.8431 - val_loss: 0.5844 - val_accuracy: 0.7889\n",
            "Epoch 9/20\n",
            "148/148 [==============================] - 548s 4s/step - loss: 0.3971 - accuracy: 0.8590 - val_loss: 0.6085 - val_accuracy: 0.7859\n",
            "Epoch 10/20\n",
            "148/148 [==============================] - 503s 3s/step - loss: 0.3338 - accuracy: 0.8838 - val_loss: 0.6405 - val_accuracy: 0.7837\n",
            "Epoch 00010: early stopping\n"
          ]
        }
      ],
      "source": [
        "# Define Stopping Criteria \n",
        "valcallback = EarlyStopping(monitor='val_accuracy', mode='max', verbose = 1, patience = 2)\n",
        "\n",
        "\n",
        "# Fit the model\n",
        "model_eight_history = model_eight.fit(train_generator, \n",
        "                                  epochs= 20, \n",
        "                                  validation_data = val_generator, \n",
        "                                  callbacks= valcallback, \n",
        "                                  batch_size=128, \n",
        "                                  verbose = 1)"
      ]
    },
    {
      "cell_type": "code",
      "execution_count": null,
      "metadata": {
        "id": "wveApKWIAzGA",
        "outputId": "86ad5322-70a1-461a-9b22-527fc93059a3"
      },
      "outputs": [
        {
          "name": "stdout",
          "output_type": "stream",
          "text": [
            "43/43 [==============================] - 36s 846ms/step - loss: 0.6190 - accuracy: 0.7902\n",
            "Test loss:  0.619040846824646\n",
            "Test accuracy:  0.7901852130889893\n"
          ]
        }
      ],
      "source": [
        "#Check loss and accuracy on test data\n",
        "test_loss, test_acc = model_eight.evaluate(test_generator, verbose = 1)\n",
        "\n",
        "print('Test loss: ', test_loss)\n",
        "print('Test accuracy: ', test_acc)"
      ]
    },
    {
      "cell_type": "markdown",
      "metadata": {
        "id": "HZ8sT6SrAzGB"
      },
      "source": [
        "### Model 9- Deeper CNN with 0.5 Dropout"
      ]
    },
    {
      "cell_type": "markdown",
      "metadata": {
        "id": "l9iEv6d0AzGB"
      },
      "source": [
        "Adding two 0.5 Dropout Layers after two Dense layers to help address overfitting."
      ]
    },
    {
      "cell_type": "code",
      "execution_count": null,
      "metadata": {
        "id": "WYnaZOQ_AzGB",
        "outputId": "ce0f275a-7631-46af-bd0d-def4734becd3"
      },
      "outputs": [
        {
          "name": "stdout",
          "output_type": "stream",
          "text": [
            "Model: \"sequential_4\"\n",
            "_________________________________________________________________\n",
            "Layer (type)                 Output Shape              Param #   \n",
            "=================================================================\n",
            "conv2d_6 (Conv2D)            (None, 254, 254, 32)      896       \n",
            "_________________________________________________________________\n",
            "max_pooling2d_6 (MaxPooling2 (None, 127, 127, 32)      0         \n",
            "_________________________________________________________________\n",
            "conv2d_7 (Conv2D)            (None, 125, 125, 32)      9248      \n",
            "_________________________________________________________________\n",
            "max_pooling2d_7 (MaxPooling2 (None, 62, 62, 32)        0         \n",
            "_________________________________________________________________\n",
            "conv2d_8 (Conv2D)            (None, 60, 60, 32)        9248      \n",
            "_________________________________________________________________\n",
            "max_pooling2d_8 (MaxPooling2 (None, 30, 30, 32)        0         \n",
            "_________________________________________________________________\n",
            "flatten_4 (Flatten)          (None, 28800)             0         \n",
            "_________________________________________________________________\n",
            "dense_10 (Dense)             (None, 64)                1843264   \n",
            "_________________________________________________________________\n",
            "dropout (Dropout)            (None, 64)                0         \n",
            "_________________________________________________________________\n",
            "dense_11 (Dense)             (None, 32)                2080      \n",
            "_________________________________________________________________\n",
            "dropout_1 (Dropout)          (None, 32)                0         \n",
            "_________________________________________________________________\n",
            "dense_12 (Dense)             (None, 10)                330       \n",
            "=================================================================\n",
            "Total params: 1,865,066\n",
            "Trainable params: 1,865,066\n",
            "Non-trainable params: 0\n",
            "_________________________________________________________________\n"
          ]
        }
      ],
      "source": [
        "#Instantiate a Sequential model\n",
        "model_nine = Sequential()\n",
        "\n",
        "\n",
        "# Input Layer- Convolution\n",
        "model_nine.add(Conv2D(filters=32,\n",
        "                          kernel_size=(3, 3),\n",
        "                          activation='relu',\n",
        "                          input_shape= (256, 256, 3)))\n",
        "\n",
        "\n",
        "# Layer 1- max pool in 2x2 window\n",
        "model_nine.add(MaxPooling2D(pool_size=(2, 2)))\n",
        "\n",
        "# Layer 2- another convolution layer \n",
        "model_nine.add(layers.Conv2D(32, (3, 3), activation='relu'))\n",
        "\n",
        "# Layer 3- another max pool layer\n",
        "model_nine.add(layers.MaxPooling2D((2, 2)))\n",
        "\n",
        "# Layer 4- another convolution layer \n",
        "model_nine.add(layers.Conv2D(32, (3, 3), activation='relu'))\n",
        "\n",
        "# Layer 5- another max pool layer\n",
        "model_nine.add(layers.MaxPooling2D((2, 2)))\n",
        "\n",
        "# Layer 6- connect all nodes with dense layer\n",
        "model_nine.add(Flatten())\n",
        "model_nine.add(Dense(64, activation='relu'))\n",
        "model_nine.add(layers.Dropout(0.5))\n",
        "\n",
        "# Layer 7- dense layer\n",
        "model_nine.add(Dense(32, activation='relu'))\n",
        "model_nine.add(layers.Dropout(0.5))\n",
        "\n",
        "# Output Layer- softmax activiation for multi-categorical with 10 classes\n",
        "model_nine.add(Dense(10, activation='softmax'))\n",
        "\n",
        "#Compile the sequential CNN model- adam optimizer, \n",
        "# categorical_crossentropy loss, and set our metric to accuracy\n",
        "model_nine.compile(optimizer='adam', \n",
        "                       loss='categorical_crossentropy',  \n",
        "                       metrics=['accuracy'])\n",
        "\n",
        "# print model summary\n",
        "model_nine.summary()"
      ]
    },
    {
      "cell_type": "code",
      "execution_count": null,
      "metadata": {
        "id": "EAHmuIuMAzGB",
        "outputId": "3e975c93-539d-4bd7-fd51-3be3a8a3474d"
      },
      "outputs": [
        {
          "name": "stdout",
          "output_type": "stream",
          "text": [
            "Epoch 1/20\n",
            "148/148 [==============================] - 515s 3s/step - loss: 2.0381 - accuracy: 0.2160 - val_loss: 1.6584 - val_accuracy: 0.3137\n",
            "Epoch 2/20\n",
            "148/148 [==============================] - 539s 4s/step - loss: 1.7128 - accuracy: 0.3208 - val_loss: 1.4542 - val_accuracy: 0.4937\n",
            "Epoch 3/20\n",
            "148/148 [==============================] - 482s 3s/step - loss: 1.5734 - accuracy: 0.3838 - val_loss: 1.3543 - val_accuracy: 0.5067\n",
            "Epoch 4/20\n",
            "148/148 [==============================] - 475s 3s/step - loss: 1.4843 - accuracy: 0.4311 - val_loss: 1.2336 - val_accuracy: 0.5541\n",
            "Epoch 5/20\n",
            "148/148 [==============================] - 475s 3s/step - loss: 1.4023 - accuracy: 0.4672 - val_loss: 1.1401 - val_accuracy: 0.5885\n",
            "Epoch 6/20\n",
            "148/148 [==============================] - 477s 3s/step - loss: 1.3401 - accuracy: 0.4953 - val_loss: 1.0915 - val_accuracy: 0.6515\n",
            "Epoch 7/20\n",
            "148/148 [==============================] - 538s 4s/step - loss: 1.2818 - accuracy: 0.5334 - val_loss: 1.0660 - val_accuracy: 0.6463\n",
            "Epoch 8/20\n",
            "148/148 [==============================] - 536s 4s/step - loss: 1.2300 - accuracy: 0.5551 - val_loss: 0.9922 - val_accuracy: 0.6741\n",
            "Epoch 9/20\n",
            "148/148 [==============================] - 503s 3s/step - loss: 1.1809 - accuracy: 0.5719 - val_loss: 0.9365 - val_accuracy: 0.6841\n",
            "Epoch 10/20\n",
            "148/148 [==============================] - 507s 3s/step - loss: 1.1222 - accuracy: 0.5968 - val_loss: 0.8946 - val_accuracy: 0.7174\n",
            "Epoch 11/20\n",
            "148/148 [==============================] - 554s 4s/step - loss: 1.0781 - accuracy: 0.6135 - val_loss: 0.9728 - val_accuracy: 0.6652\n",
            "Epoch 12/20\n",
            "148/148 [==============================] - 606s 4s/step - loss: 1.0273 - accuracy: 0.6298 - val_loss: 0.8342 - val_accuracy: 0.7185\n",
            "Epoch 13/20\n",
            "148/148 [==============================] - 572s 4s/step - loss: 0.9910 - accuracy: 0.6461 - val_loss: 0.8403 - val_accuracy: 0.7022\n",
            "Epoch 14/20\n",
            "148/148 [==============================] - 496s 3s/step - loss: 0.9381 - accuracy: 0.6638 - val_loss: 0.7685 - val_accuracy: 0.7493\n",
            "Epoch 15/20\n",
            "148/148 [==============================] - 505s 3s/step - loss: 0.9261 - accuracy: 0.6722 - val_loss: 0.7644 - val_accuracy: 0.7448\n",
            "Epoch 16/20\n",
            "148/148 [==============================] - 481s 3s/step - loss: 0.8680 - accuracy: 0.6907 - val_loss: 0.7356 - val_accuracy: 0.7611\n",
            "Epoch 17/20\n",
            "148/148 [==============================] - 496s 3s/step - loss: 0.8666 - accuracy: 0.6947 - val_loss: 0.7464 - val_accuracy: 0.7556\n",
            "Epoch 18/20\n",
            "148/148 [==============================] - 475s 3s/step - loss: 0.8222 - accuracy: 0.7078 - val_loss: 0.7817 - val_accuracy: 0.7344\n",
            "Epoch 00018: early stopping\n"
          ]
        }
      ],
      "source": [
        "# Define Stopping Criteria \n",
        "valcallback = EarlyStopping(monitor='val_accuracy', mode='max', verbose = 1, patience = 2)\n",
        "\n",
        "\n",
        "# Fit the model\n",
        "model_nine_history = model_nine.fit(train_generator, \n",
        "                                  epochs= 20, \n",
        "                                  validation_data = val_generator, \n",
        "                                  callbacks= valcallback, \n",
        "                                  batch_size=128, \n",
        "                                  verbose = 1)"
      ]
    },
    {
      "cell_type": "code",
      "execution_count": null,
      "metadata": {
        "id": "xAkqgCw_AzGB",
        "outputId": "c8116956-2c74-456c-eda7-c0c3d0639cb0"
      },
      "outputs": [
        {
          "name": "stdout",
          "output_type": "stream",
          "text": [
            "43/43 [==============================] - 41s 961ms/step - loss: 0.7606 - accuracy: 0.7452\n",
            "Test loss:  0.760615348815918\n",
            "Test accuracy:  0.7451851963996887\n"
          ]
        }
      ],
      "source": [
        "#Check loss and accuracy on test data\n",
        "test_loss, test_acc = model_nine.evaluate(test_generator, verbose = 1)\n",
        "\n",
        "print('Test loss: ', test_loss)\n",
        "print('Test accuracy: ', test_acc)"
      ]
    },
    {
      "cell_type": "markdown",
      "metadata": {
        "id": "DABtFT_oAzGB"
      },
      "source": [
        "### Model 10- Add Dense (16) and 0.2 Dropout Layers"
      ]
    },
    {
      "cell_type": "markdown",
      "metadata": {
        "id": "kTs6jFD-AzGC"
      },
      "source": [
        "Also increased number of Epochs to 50"
      ]
    },
    {
      "cell_type": "code",
      "execution_count": null,
      "metadata": {
        "id": "wtcrN6XiAzGC",
        "outputId": "fbd4583d-7677-44e1-ecb7-68f62508fb69"
      },
      "outputs": [
        {
          "name": "stdout",
          "output_type": "stream",
          "text": [
            "Model: \"sequential_7\"\n",
            "_________________________________________________________________\n",
            "Layer (type)                 Output Shape              Param #   \n",
            "=================================================================\n",
            "conv2d_9 (Conv2D)            (None, 254, 254, 32)      896       \n",
            "_________________________________________________________________\n",
            "max_pooling2d_9 (MaxPooling2 (None, 127, 127, 32)      0         \n",
            "_________________________________________________________________\n",
            "conv2d_10 (Conv2D)           (None, 125, 125, 32)      9248      \n",
            "_________________________________________________________________\n",
            "max_pooling2d_10 (MaxPooling (None, 62, 62, 32)        0         \n",
            "_________________________________________________________________\n",
            "conv2d_11 (Conv2D)           (None, 60, 60, 32)        9248      \n",
            "_________________________________________________________________\n",
            "max_pooling2d_11 (MaxPooling (None, 30, 30, 32)        0         \n",
            "_________________________________________________________________\n",
            "flatten_8 (Flatten)          (None, 28800)             0         \n",
            "_________________________________________________________________\n",
            "dense_15 (Dense)             (None, 64)                1843264   \n",
            "_________________________________________________________________\n",
            "dropout_2 (Dropout)          (None, 64)                0         \n",
            "_________________________________________________________________\n",
            "dense_16 (Dense)             (None, 32)                2080      \n",
            "_________________________________________________________________\n",
            "dropout_3 (Dropout)          (None, 32)                0         \n",
            "_________________________________________________________________\n",
            "dense_17 (Dense)             (None, 16)                528       \n",
            "_________________________________________________________________\n",
            "dropout_4 (Dropout)          (None, 16)                0         \n",
            "_________________________________________________________________\n",
            "dense_18 (Dense)             (None, 10)                170       \n",
            "=================================================================\n",
            "Total params: 1,865,434\n",
            "Trainable params: 1,865,434\n",
            "Non-trainable params: 0\n",
            "_________________________________________________________________\n"
          ]
        }
      ],
      "source": [
        "#Instantiate a Sequential model\n",
        "model_ten = Sequential()\n",
        "\n",
        "\n",
        "# Input Layer- Convolution\n",
        "model_ten.add(Conv2D(filters=32,\n",
        "                          kernel_size=(3, 3),\n",
        "                          activation='relu',\n",
        "                          input_shape= (256, 256, 3)))\n",
        "\n",
        "\n",
        "# Layer 1- max pool in 2x2 window\n",
        "model_ten.add(MaxPooling2D(pool_size=(2, 2)))\n",
        "\n",
        "# Layer 2- another convolution layer \n",
        "model_ten.add(layers.Conv2D(32, (3, 3), activation='relu'))\n",
        "\n",
        "# Layer 3- another max pool layer\n",
        "model_ten.add(layers.MaxPooling2D((2, 2)))\n",
        "\n",
        "# Layer 4- another convolution layer \n",
        "model_ten.add(layers.Conv2D(32, (3, 3), activation='relu'))\n",
        "\n",
        "# Layer 5- another max pool layer\n",
        "model_ten.add(layers.MaxPooling2D((2, 2)))\n",
        "\n",
        "# Layer 6- connect all nodes with dense layer\n",
        "model_ten.add(Flatten())\n",
        "model_ten.add(Dense(64, activation='relu'))\n",
        "model_ten.add(layers.Dropout(0.2))\n",
        "\n",
        "# Layer 7- dense layer\n",
        "model_ten.add(Dense(32, activation='relu'))\n",
        "model_ten.add(layers.Dropout(0.2))\n",
        "\n",
        "# Layer 7- dense layer\n",
        "model_ten.add(Dense(16, activation='relu'))\n",
        "model_ten.add(layers.Dropout(0.2))\n",
        "\n",
        "# Output Layer- softmax activiation for multi-categorical with 10 classes\n",
        "model_ten.add(Dense(10, activation='softmax'))\n",
        "\n",
        "#Compile the sequential CNN model- adam optimizer, \n",
        "# categorical_crossentropy loss, and set our metric to accuracy\n",
        "model_ten.compile(optimizer='adam', \n",
        "                       loss='categorical_crossentropy',  \n",
        "                       metrics=['accuracy'])\n",
        "\n",
        "# print model summary\n",
        "model_ten.summary()"
      ]
    },
    {
      "cell_type": "code",
      "execution_count": null,
      "metadata": {
        "id": "MEnJDx4kAzGC",
        "outputId": "652a50b2-2afd-4b0c-bfbc-784dca6f1eb8"
      },
      "outputs": [
        {
          "name": "stdout",
          "output_type": "stream",
          "text": [
            "Epoch 1/50\n",
            "148/148 [==============================] - 622s 4s/step - loss: 2.0001 - accuracy: 0.2441 - val_loss: 1.4877 - val_accuracy: 0.4644\n",
            "Epoch 2/50\n",
            "148/148 [==============================] - 544s 4s/step - loss: 1.5896 - accuracy: 0.3908 - val_loss: 1.2697 - val_accuracy: 0.5296\n",
            "Epoch 3/50\n",
            "148/148 [==============================] - 521s 4s/step - loss: 1.4313 - accuracy: 0.4567 - val_loss: 1.2073 - val_accuracy: 0.5552\n",
            "Epoch 4/50\n",
            "148/148 [==============================] - 520s 4s/step - loss: 1.3009 - accuracy: 0.5120 - val_loss: 1.0292 - val_accuracy: 0.6367\n",
            "Epoch 5/50\n",
            "148/148 [==============================] - 519s 4s/step - loss: 1.1568 - accuracy: 0.5681 - val_loss: 0.9088 - val_accuracy: 0.6719\n",
            "Epoch 6/50\n",
            "148/148 [==============================] - 528s 4s/step - loss: 1.0614 - accuracy: 0.6100 - val_loss: 0.8606 - val_accuracy: 0.7063\n",
            "Epoch 7/50\n",
            "148/148 [==============================] - 522s 4s/step - loss: 0.9663 - accuracy: 0.6494 - val_loss: 0.8364 - val_accuracy: 0.6933\n",
            "Epoch 8/50\n",
            "148/148 [==============================] - 487s 3s/step - loss: 0.9072 - accuracy: 0.6733 - val_loss: 0.8075 - val_accuracy: 0.7385\n",
            "Epoch 9/50\n",
            "148/148 [==============================] - 498s 3s/step - loss: 0.8207 - accuracy: 0.7096 - val_loss: 0.7680 - val_accuracy: 0.7463\n",
            "Epoch 10/50\n",
            "148/148 [==============================] - 509s 3s/step - loss: 0.7634 - accuracy: 0.7321 - val_loss: 0.7371 - val_accuracy: 0.7604\n",
            "Epoch 11/50\n",
            "148/148 [==============================] - 456s 3s/step - loss: 0.7232 - accuracy: 0.7505 - val_loss: 0.7084 - val_accuracy: 0.7767\n",
            "Epoch 12/50\n",
            "148/148 [==============================] - 485s 3s/step - loss: 0.6728 - accuracy: 0.7715 - val_loss: 0.7213 - val_accuracy: 0.7663\n",
            "Epoch 13/50\n",
            "148/148 [==============================] - 577s 4s/step - loss: 0.6131 - accuracy: 0.7892 - val_loss: 0.7271 - val_accuracy: 0.7567\n",
            "Epoch 00013: early stopping\n"
          ]
        }
      ],
      "source": [
        "# Define Stopping Criteria \n",
        "valcallback = EarlyStopping(monitor='val_accuracy', mode='max', verbose = 1, patience = 2)\n",
        "\n",
        "\n",
        "# Fit the model\n",
        "model_ten_history = model_ten.fit(train_generator, \n",
        "                                  epochs= 50, \n",
        "                                  validation_data = val_generator, \n",
        "                                  callbacks= valcallback, \n",
        "                                  batch_size=128, \n",
        "                                  verbose = 1)"
      ]
    },
    {
      "cell_type": "code",
      "execution_count": null,
      "metadata": {
        "id": "0dEuaRbqAzGC",
        "outputId": "acd702e1-dafa-4418-ad4f-dc488e5ff6e7"
      },
      "outputs": [
        {
          "name": "stdout",
          "output_type": "stream",
          "text": [
            "43/43 [==============================] - 36s 839ms/step - loss: 0.7133 - accuracy: 0.7635\n",
            "Test loss:  0.7133249044418335\n",
            "Test accuracy:  0.7635185122489929\n"
          ]
        }
      ],
      "source": [
        "#Check loss and accuracy on test data\n",
        "test_loss, test_acc = model_ten.evaluate(test_generator, verbose = 1)\n",
        "\n",
        "print('Test loss: ', test_loss)\n",
        "print('Test accuracy: ', test_acc)"
      ]
    },
    {
      "cell_type": "markdown",
      "metadata": {
        "id": "AkECx578AzGC"
      },
      "source": [
        "### Model 11- Wider CNN with 0.2 Dropout"
      ]
    },
    {
      "cell_type": "code",
      "execution_count": null,
      "metadata": {
        "id": "EB1G-XD7AzGD",
        "outputId": "9d27ef5a-b327-4829-a694-943eeb270d86"
      },
      "outputs": [
        {
          "name": "stdout",
          "output_type": "stream",
          "text": [
            "Model: \"sequential\"\n",
            "_________________________________________________________________\n",
            "Layer (type)                 Output Shape              Param #   \n",
            "=================================================================\n",
            "conv2d (Conv2D)              (None, 254, 254, 32)      896       \n",
            "_________________________________________________________________\n",
            "max_pooling2d (MaxPooling2D) (None, 127, 127, 32)      0         \n",
            "_________________________________________________________________\n",
            "conv2d_1 (Conv2D)            (None, 125, 125, 32)      9248      \n",
            "_________________________________________________________________\n",
            "max_pooling2d_1 (MaxPooling2 (None, 62, 62, 32)        0         \n",
            "_________________________________________________________________\n",
            "conv2d_2 (Conv2D)            (None, 60, 60, 32)        9248      \n",
            "_________________________________________________________________\n",
            "max_pooling2d_2 (MaxPooling2 (None, 30, 30, 32)        0         \n",
            "_________________________________________________________________\n",
            "flatten (Flatten)            (None, 28800)             0         \n",
            "_________________________________________________________________\n",
            "dense (Dense)                (None, 512)               14746112  \n",
            "_________________________________________________________________\n",
            "dropout (Dropout)            (None, 512)               0         \n",
            "_________________________________________________________________\n",
            "dense_1 (Dense)              (None, 256)               131328    \n",
            "_________________________________________________________________\n",
            "dropout_1 (Dropout)          (None, 256)               0         \n",
            "_________________________________________________________________\n",
            "dense_2 (Dense)              (None, 32)                8224      \n",
            "_________________________________________________________________\n",
            "dropout_2 (Dropout)          (None, 32)                0         \n",
            "_________________________________________________________________\n",
            "dense_3 (Dense)              (None, 10)                330       \n",
            "=================================================================\n",
            "Total params: 14,905,386\n",
            "Trainable params: 14,905,386\n",
            "Non-trainable params: 0\n",
            "_________________________________________________________________\n"
          ]
        }
      ],
      "source": [
        "#Instantiate a Sequential model\n",
        "model_eleven = Sequential()\n",
        "\n",
        "\n",
        "# Input Layer- Convolution\n",
        "model_eleven.add(Conv2D(filters=32,\n",
        "                          kernel_size=(3, 3),\n",
        "                          activation='relu',\n",
        "                          input_shape= (256, 256, 3)))\n",
        "\n",
        "\n",
        "# Layer 1- max pool in 2x2 window\n",
        "model_eleven.add(MaxPooling2D(pool_size=(2, 2)))\n",
        "\n",
        "# Layer 2- another convolution layer \n",
        "model_eleven.add(layers.Conv2D(32, (3, 3), activation='relu'))\n",
        "\n",
        "# Layer 3- another max pool layer\n",
        "model_eleven.add(layers.MaxPooling2D((2, 2)))\n",
        "\n",
        "# Layer 4- another convolution layer \n",
        "model_eleven.add(layers.Conv2D(32, (3, 3), activation='relu'))\n",
        "\n",
        "# Layer 5- another max pool layer\n",
        "model_eleven.add(layers.MaxPooling2D((2, 2)))\n",
        "\n",
        "# Layer 6- connect all nodes with dense layer\n",
        "model_eleven.add(Flatten())\n",
        "model_eleven.add(Dense(512, activation='relu'))\n",
        "model_eleven.add(layers.Dropout(0.2))\n",
        "\n",
        "# Layer 7- dense layer\n",
        "model_eleven.add(Dense(256, activation='relu'))\n",
        "model_eleven.add(layers.Dropout(0.2))\n",
        "\n",
        "# Layer 7- dense layer\n",
        "model_eleven.add(Dense(32, activation='relu'))\n",
        "model_eleven.add(layers.Dropout(0.2))\n",
        "\n",
        "# Output Layer- softmax activiation for multi-categorical with 10 classes\n",
        "model_eleven.add(Dense(10, activation='softmax'))\n",
        "\n",
        "#Compile the sequential CNN model- adam optimizer, \n",
        "# categorical_crossentropy loss, and set our metric to accuracy\n",
        "model_eleven.compile(optimizer='adam', \n",
        "                       loss='categorical_crossentropy',  \n",
        "                       metrics=['accuracy'])\n",
        "\n",
        "# print model summary\n",
        "model_eleven.summary()"
      ]
    },
    {
      "cell_type": "code",
      "execution_count": null,
      "metadata": {
        "id": "-s8QFs45AzGD",
        "outputId": "ffc9ad88-29a0-4188-b890-4c04f9c047d0"
      },
      "outputs": [
        {
          "name": "stdout",
          "output_type": "stream",
          "text": [
            "Epoch 1/50\n",
            "148/148 [==============================] - 481s 3s/step - loss: 1.8579 - accuracy: 0.2936 - val_loss: 1.3696 - val_accuracy: 0.5048\n",
            "Epoch 2/50\n",
            "148/148 [==============================] - 473s 3s/step - loss: 1.3091 - accuracy: 0.5207 - val_loss: 0.9868 - val_accuracy: 0.6448\n",
            "Epoch 3/50\n",
            "148/148 [==============================] - 472s 3s/step - loss: 1.0152 - accuracy: 0.6411 - val_loss: 0.7357 - val_accuracy: 0.7396\n",
            "Epoch 4/50\n",
            "148/148 [==============================] - 473s 3s/step - loss: 0.8238 - accuracy: 0.7134 - val_loss: 0.7913 - val_accuracy: 0.7152\n",
            "Epoch 5/50\n",
            "148/148 [==============================] - 474s 3s/step - loss: 0.7157 - accuracy: 0.7537 - val_loss: 0.6792 - val_accuracy: 0.7663\n",
            "Epoch 6/50\n",
            "148/148 [==============================] - 474s 3s/step - loss: 0.5819 - accuracy: 0.8019 - val_loss: 0.6211 - val_accuracy: 0.7774\n",
            "Epoch 7/50\n",
            "148/148 [==============================] - 473s 3s/step - loss: 0.4969 - accuracy: 0.8327 - val_loss: 0.5706 - val_accuracy: 0.8015\n",
            "Epoch 8/50\n",
            "148/148 [==============================] - 476s 3s/step - loss: 0.4347 - accuracy: 0.8554 - val_loss: 0.6551 - val_accuracy: 0.7941\n",
            "Epoch 9/50\n",
            "148/148 [==============================] - 476s 3s/step - loss: 0.3379 - accuracy: 0.8905 - val_loss: 0.7957 - val_accuracy: 0.7400\n",
            "Epoch 00009: early stopping\n"
          ]
        }
      ],
      "source": [
        "# Define Stopping Criteria \n",
        "valcallback = EarlyStopping(monitor='val_accuracy', mode='max', verbose = 1, patience = 2)\n",
        "\n",
        "\n",
        "# Fit the model\n",
        "model_eleven_history = model_eleven.fit(train_generator, \n",
        "                                  epochs= 50, \n",
        "                                  validation_data = val_generator, \n",
        "                                  callbacks= valcallback, \n",
        "                                  batch_size=128, \n",
        "                                  verbose = 1)"
      ]
    },
    {
      "cell_type": "code",
      "execution_count": null,
      "metadata": {
        "id": "xosvYvU7AzGD",
        "outputId": "fcb2671d-bf78-479d-990b-8f61188e4050"
      },
      "outputs": [
        {
          "name": "stdout",
          "output_type": "stream",
          "text": [
            "43/43 [==============================] - 35s 810ms/step - loss: 0.7885 - accuracy: 0.7443\n",
            "Test loss:  0.7884544134140015\n",
            "Test accuracy:  0.744259238243103\n"
          ]
        }
      ],
      "source": [
        "#Check loss and accuracy on test data\n",
        "test_loss, test_acc = model_eleven.evaluate(test_generator, verbose = 1)\n",
        "\n",
        "print('Test loss: ', test_loss)\n",
        "print('Test accuracy: ', test_acc)"
      ]
    },
    {
      "cell_type": "markdown",
      "source": [
        "### Larger Models in Google Colab"
      ],
      "metadata": {
        "id": "lpz05K2IBTHY"
      }
    },
    {
      "cell_type": "markdown",
      "source": [
        "Our next few models are quite large so we may be best served opening and running them in Google Colab."
      ],
      "metadata": {
        "id": "ZzaB4iO5BOi1"
      }
    },
    {
      "cell_type": "markdown",
      "metadata": {
        "id": "Ut1t7hp9AzFp"
      },
      "source": [
        "[![Open In Colab](https://colab.research.google.com/assets/colab-badge.svg)](https://colab.research.google.com/github//aokdata/Land_Cover_Classification/blob/main/Land_Cover_Classification_Notebook.ipynb)"
      ]
    },
    {
      "cell_type": "code",
      "source": [
        "#Mount Google Drive to access data\n",
        "from google.colab import drive\n",
        "drive.mount('/content/drive')"
      ],
      "metadata": {
        "colab": {
          "base_uri": "https://localhost:8080/"
        },
        "id": "-aq_S-xdBjIz",
        "outputId": "b3c3d443-0933-4d64-bb2c-bbea5de61882"
      },
      "execution_count": 7,
      "outputs": [
        {
          "output_type": "stream",
          "name": "stdout",
          "text": [
            "Drive already mounted at /content/drive; to attempt to forcibly remount, call drive.mount(\"/content/drive\", force_remount=True).\n"
          ]
        }
      ]
    },
    {
      "cell_type": "markdown",
      "metadata": {
        "id": "zlfsBAa8AzGD"
      },
      "source": [
        "### Model 12- Decreasing filter size over 4 Conv2D Layers and 5 Dense Layers"
      ]
    },
    {
      "cell_type": "code",
      "source": [
        "#Import Data from Google Drive to use in Google Colab\n",
        "train_folder = '/content/drive/MyDrive/Data/Land_Cover_Classification_Project/data/split/train'\n",
        "test_folder = '/content/drive/MyDrive/Data/Land_Cover_Classification_Project/data/split/test'\n",
        "\n",
        "# Normalize images\n",
        "train_gen = ImageDataGenerator(rescale=1./255, validation_split = 0.125)\n",
        "test_gen = ImageDataGenerator(rescale=1./255)\n",
        "\n",
        "#Import data as 70% Train (10% Validation of orginal data set) and 20% Test\n",
        "train_generator = train_gen.flow_from_directory(train_folder,\n",
        "                                                class_mode = 'categorical', \n",
        "                                                subset ='training', \n",
        "                                                batch_size=128,\n",
        "                                                shuffle=True,\n",
        "                                                seed=42)\n",
        "                                               \n",
        "val_generator= train_gen.flow_from_directory(train_folder,\n",
        "                                             class_mode= 'categorical',\n",
        "                                             subset = \"validation\",\n",
        "                                             batch_size=128,\n",
        "                                             shuffle=True,\n",
        "                                             seed=42)\n",
        "\n",
        "test_generator= test_gen.flow_from_directory(test_folder,\n",
        "                                              class_mode= 'categorical',\n",
        "                                              batch_size=128,\n",
        "                                              shuffle=False,\n",
        "                                              seed=42)"
      ],
      "metadata": {
        "colab": {
          "base_uri": "https://localhost:8080/"
        },
        "id": "KWXCLV6zC0P3",
        "outputId": "8ee1ecd1-d0d6-4044-f82e-846f92a553ad"
      },
      "execution_count": 9,
      "outputs": [
        {
          "output_type": "stream",
          "name": "stdout",
          "text": [
            "Found 18909 images belonging to 10 classes.\n",
            "Found 2701 images belonging to 10 classes.\n",
            "Found 5400 images belonging to 10 classes.\n"
          ]
        }
      ]
    },
    {
      "cell_type": "code",
      "execution_count": 4,
      "metadata": {
        "colab": {
          "base_uri": "https://localhost:8080/",
          "height": 240
        },
        "id": "JnkiQSqlAzGE",
        "outputId": "b3c2cbc2-c3b7-4e40-e586-1959bfb60054"
      },
      "outputs": [
        {
          "output_type": "error",
          "ename": "NameError",
          "evalue": "ignored",
          "traceback": [
            "\u001b[0;31m---------------------------------------------------------------------------\u001b[0m",
            "\u001b[0;31mNameError\u001b[0m                                 Traceback (most recent call last)",
            "\u001b[0;32m<ipython-input-4-15fdf1d4e807>\u001b[0m in \u001b[0;36m<cell line: 2>\u001b[0;34m()\u001b[0m\n\u001b[1;32m      1\u001b[0m \u001b[0;31m#Instantiate a Sequential model\u001b[0m\u001b[0;34m\u001b[0m\u001b[0;34m\u001b[0m\u001b[0m\n\u001b[0;32m----> 2\u001b[0;31m \u001b[0mmodel_twelve\u001b[0m \u001b[0;34m=\u001b[0m \u001b[0mSequential\u001b[0m\u001b[0;34m(\u001b[0m\u001b[0;34m)\u001b[0m\u001b[0;34m\u001b[0m\u001b[0;34m\u001b[0m\u001b[0m\n\u001b[0m\u001b[1;32m      3\u001b[0m \u001b[0;34m\u001b[0m\u001b[0m\n\u001b[1;32m      4\u001b[0m \u001b[0;34m\u001b[0m\u001b[0m\n\u001b[1;32m      5\u001b[0m \u001b[0;31m# Input Layer- Convolution\u001b[0m\u001b[0;34m\u001b[0m\u001b[0;34m\u001b[0m\u001b[0m\n",
            "\u001b[0;31mNameError\u001b[0m: name 'Sequential' is not defined"
          ]
        }
      ],
      "source": [
        "#Instantiate a Sequential model\n",
        "model_twelve = Sequential()\n",
        "\n",
        "\n",
        "# Input Layer- Convolution\n",
        "model_twelve.add(Conv2D(filters=128,\n",
        "                          kernel_size=(3, 3),\n",
        "                          activation='relu',\n",
        "                          input_shape= (256, 256, 3)))\n",
        "\n",
        "\n",
        "# Layer 1- max pool in 2x2 window\n",
        "model_twelve.add(MaxPooling2D(pool_size=(2, 2)))\n",
        "\n",
        "# Layer 2- another convolution layer \n",
        "model_twelve.add(layers.Conv2D(64, (3, 3), activation='relu'))\n",
        "\n",
        "# Layer 3- another max pool layer\n",
        "model_twelve.add(layers.MaxPooling2D((2, 2)))\n",
        "\n",
        "# Layer 4- another convolution layer \n",
        "model_twelve.add(layers.Conv2D(32, (3, 3), activation='relu'))\n",
        "\n",
        "# Layer 5- another max pool layer\n",
        "model_twelve.add(layers.MaxPooling2D((2, 2)))\n",
        "\n",
        "# Layer 6- another convolution layer \n",
        "model_twelve.add(layers.Conv2D(16, (3, 3), activation='relu'))\n",
        "\n",
        "# Layer 7- another max pool layer\n",
        "model_twelve.add(layers.MaxPooling2D((2, 2)))\n",
        "\n",
        "# Layer 8- connect all nodes with dense layer\n",
        "model_twelve.add(Flatten())\n",
        "model_twelve.add(Dense(512, activation='relu'))\n",
        "model_twelve.add(layers.Dropout(0.2))\n",
        "\n",
        "# Layer 9- dense layer\n",
        "model_twelve.add(Dense(256, activation='relu'))\n",
        "model_twelve.add(layers.Dropout(0.2))\n",
        "\n",
        "# Layer 10- dense layer\n",
        "model_twelve.add(Dense(128, activation='relu'))\n",
        "model_twelve.add(layers.Dropout(0.2))\n",
        "\n",
        "# Layer 11- dense layer\n",
        "model_twelve.add(Dense(32, activation='relu'))\n",
        "model_twelve.add(layers.Dropout(0.2))\n",
        "\n",
        "# Layer 12- dense layer\n",
        "model_twelve.add(Dense(16, activation='relu'))\n",
        "model_twelve.add(layers.Dropout(0.2))\n",
        "\n",
        "# Output Layer- softmax activiation for multi-categorical with 10 classes\n",
        "model_twelve.add(Dense(10, activation='softmax'))\n",
        "\n",
        "#Compile the sequential CNN model- adam optimizer, \n",
        "# categorical_crossentropy loss, and set our metric to accuracy\n",
        "model_twelve.compile(optimizer='adam', \n",
        "                       loss='categorical_crossentropy',  \n",
        "                       metrics=['accuracy'])\n",
        "\n",
        "# print model summary\n",
        "model_twelve.summary()"
      ]
    },
    {
      "cell_type": "code",
      "execution_count": null,
      "metadata": {
        "id": "j2qfUYAAAzGE"
      },
      "outputs": [],
      "source": [
        "# Define Stopping Criteria \n",
        "valcallback = EarlyStopping(monitor='val_accuracy', mode='max', verbose = 1, patience = 2)\n",
        "\n",
        "\n",
        "# Fit the model\n",
        "model_twelve_history = model_twelve.fit(train_generator, \n",
        "                                  epochs= 50, \n",
        "                                  validation_data = val_generator, \n",
        "                                  callbacks= valcallback, \n",
        "                                  batch_size=128, \n",
        "                                  verbose = 1)"
      ]
    },
    {
      "cell_type": "code",
      "execution_count": null,
      "metadata": {
        "id": "Ku1QqDIdAzGE"
      },
      "outputs": [],
      "source": [
        "#Check loss and accuracy on test data\n",
        "test_loss, test_acc = model_twelve.evaluate(test_generator, verbose = 1)\n",
        "\n",
        "print('Test loss: ', test_loss)\n",
        "print('Test accuracy: ', test_acc)"
      ]
    },
    {
      "cell_type": "code",
      "execution_count": null,
      "metadata": {
        "id": "sD9MvD2MAzGF"
      },
      "outputs": [],
      "source": []
    },
    {
      "cell_type": "markdown",
      "metadata": {
        "id": "2uvv7y-xAzGF"
      },
      "source": [
        "### Model 13- Transfer Learning: ResNet50"
      ]
    },
    {
      "cell_type": "code",
      "execution_count": null,
      "metadata": {
        "id": "B0kvNWH-AzGF"
      },
      "outputs": [],
      "source": [
        "train_folder = '/content/drive/MyDrive/Data/Land_Cover_Classification_Project/data/split/train'\n",
        "test_folder = '/content/drive/MyDrive/Data/Land_Cover_Classification_Project/data/split/test'\n",
        "\n",
        "# Normalize images\n",
        "train_gen = ImageDataGenerator(rescale=1./255, \n",
        "                               preprocessing_function = tf.keras.applications.resnet50.preprocess_input,\n",
        "                               validation_split = 0.125)\n",
        "test_gen = ImageDataGenerator(rescale=1./255, \n",
        "                              preprocessing_function = tf.keras.applications.resnet50.preprocess_input)\n",
        "\n",
        "#Import data as 70% Train (10% Validation of orginal data set) and 20% Test\n",
        "rn_train_generator = train_gen.flow_from_directory(train_folder,\n",
        "                                                class_mode = 'categorical', \n",
        "                                                subset ='training', \n",
        "                                                batch_size=128,\n",
        "                                                shuffle=True,\n",
        "                                                seed=42)\n",
        "                                               \n",
        "rn_val_generator= train_gen.flow_from_directory(train_folder,\n",
        "                                             class_mode= 'categorical',\n",
        "                                             subset = \"validation\",\n",
        "                                             batch_size=128,\n",
        "                                             shuffle=True,\n",
        "                                             seed=42)\n",
        "\n",
        "rn_test_generator= test_gen.flow_from_directory(test_folder,\n",
        "                                              class_mode= 'categorical',\n",
        "                                              batch_size=128,\n",
        "                                              shuffle=False,\n",
        "                                              seed=42)"
      ]
    },
    {
      "cell_type": "code",
      "execution_count": null,
      "metadata": {
        "id": "6plgek1jAzGF"
      },
      "outputs": [],
      "source": [
        "# Instantiate our Transfer Model Input Layer\n",
        "rn50 = ResNet50(weights='imagenet', \n",
        "                 include_top=False,\n",
        "                input_shape=(256, 256, 3))"
      ]
    },
    {
      "cell_type": "code",
      "execution_count": null,
      "metadata": {
        "id": "HoOw-QUuAzGG"
      },
      "outputs": [],
      "source": [
        "#Check to ensure there is no prediction layer\n",
        "rn50.summary()"
      ]
    },
    {
      "cell_type": "code",
      "execution_count": null,
      "metadata": {
        "id": "aNhh3jmfAzGG"
      },
      "outputs": [],
      "source": [
        "#Instantiate a Sequential model\n",
        "rn50_model = Sequential()\n",
        "\n",
        "#Input Layer\n",
        "rn50_model.add(rn50)\n",
        "\n",
        "rn50_model.add(layers.Flatten())\n",
        "\n",
        "#Add Dense Layer\n",
        "rn50_model.add(layers.Dense(64, activation='relu'))\n",
        "\n",
        "#Output Layer\n",
        "rn50_model.add(layers.Dense(10, activation='softmax'))"
      ]
    },
    {
      "cell_type": "code",
      "execution_count": null,
      "metadata": {
        "id": "2VYCAwzwAzGG"
      },
      "outputs": [],
      "source": [
        "# Check whether a layer is trainable (or alter its setting) through the layer.trainable attribute\n",
        "for layer in rn50_model.layers:\n",
        "    print(layer.name, layer.trainable)\n",
        "    \n",
        "# Similarly, you can check how many trainable weights are in the model\n",
        "print(len(rn50_model.trainable_weights))"
      ]
    },
    {
      "cell_type": "code",
      "execution_count": null,
      "metadata": {
        "id": "j-re4Tc-AzGG"
      },
      "outputs": [],
      "source": [
        "# Freeze our RN50 Layer\n",
        "rn50.trainable = False\n",
        "\n",
        "# Sanity Check that RN50 layer is frozen\n",
        "for layer in rn50_model.layers:\n",
        "    print(layer.name, layer.trainable)"
      ]
    },
    {
      "cell_type": "code",
      "execution_count": null,
      "metadata": {
        "id": "gbHcmiwYAzGG"
      },
      "outputs": [],
      "source": [
        "#Compile the model- adam optimizer, categorical_crossentropy loss, and set our metric to accuracy\n",
        "rn50_model.compile(optimizer='adam', \n",
        "                       loss='categorical_crossentropy',  \n",
        "                       metrics=['accuracy'])\n",
        "\n",
        "# print model summary\n",
        "rn50_model.summary()"
      ]
    },
    {
      "cell_type": "code",
      "execution_count": null,
      "metadata": {
        "id": "7EhGd-7bAzGH"
      },
      "outputs": [],
      "source": [
        "# Define Stopping Criteria \n",
        "valcallback = [EarlyStopping(monitor='val_accuracy', mode='max', verbose = 1, patience = 2), \n",
        "               ModelCheckpoint(filepath='rn50_model.h5', monitor='val_accuracy', save_best_only=True)]\n",
        "\n",
        "\n",
        "# Fit the model\n",
        "rn50_model_history = rn50_model.fit(rn_train_generator, \n",
        "                                  epochs= 50, \n",
        "                                  validation_data = rn_val_generator, \n",
        "                                  callbacks= valcallback, \n",
        "                                  batch_size=128, \n",
        "                                  verbose = 1)"
      ]
    },
    {
      "cell_type": "code",
      "execution_count": null,
      "metadata": {
        "id": "-yBPiHb-AzGR"
      },
      "outputs": [],
      "source": [
        "#Check loss and accuracy on test data\n",
        "test_loss, test_acc = rn50_model.evaluate(rn_test_generator, verbose = 1)\n",
        "\n",
        "print('Test loss: ', test_loss)\n",
        "print('Test accuracy: ', test_acc)"
      ]
    },
    {
      "cell_type": "code",
      "execution_count": null,
      "metadata": {
        "id": "ti_w0xD2AzGR"
      },
      "outputs": [],
      "source": []
    },
    {
      "cell_type": "markdown",
      "metadata": {
        "id": "8mrRj_ZHAzGR"
      },
      "source": [
        "### Model 14- Transfer Learning: VGG19"
      ]
    },
    {
      "cell_type": "code",
      "execution_count": null,
      "metadata": {
        "id": "4P5nH1fNAzGS"
      },
      "outputs": [],
      "source": [
        "train_folder = '/content/drive/MyDrive/Data/Land_Cover_Classification_Project/data/split/train'\n",
        "test_folder = '/content/drive/MyDrive/Data/Land_Cover_Classification_Project/data/split/test'\n",
        "\n",
        "# Normalize images\n",
        "train_gen = ImageDataGenerator(rescale=1./255, \n",
        "                               preprocessing_function = tf.keras.applications.vgg19.preprocess_input,\n",
        "                               validation_split = 0.125)\n",
        "test_gen = ImageDataGenerator(rescale=1./255, \n",
        "                              preprocessing_function = tf.keras.applications.vgg19.preprocess_input)\n",
        "\n",
        "#Import data as 70% Train (10% Validation of orginal data set) and 20% Test\n",
        "vgg_train_generator = train_gen.flow_from_directory(train_folder,\n",
        "                                                class_mode = 'categorical', \n",
        "                                                subset ='training', \n",
        "                                                batch_size=128,\n",
        "                                                shuffle=True,\n",
        "                                                seed=42)\n",
        "                                               \n",
        "vgg_val_generator= train_gen.flow_from_directory(train_folder,\n",
        "                                             class_mode= 'categorical',\n",
        "                                             subset = \"validation\",\n",
        "                                             batch_size=128,\n",
        "                                             shuffle=True,\n",
        "                                             seed=42)\n",
        "\n",
        "vgg_test_generator= test_gen.flow_from_directory(test_folder,\n",
        "                                              class_mode= 'categorical',\n",
        "                                              batch_size=128,\n",
        "                                              shuffle=False,\n",
        "                                              seed=42)"
      ]
    },
    {
      "cell_type": "code",
      "execution_count": null,
      "metadata": {
        "id": "Aw5iBRHIAzGS"
      },
      "outputs": [],
      "source": [
        "#Reshape our input\n",
        "vgg19 = VGG19(weights='imagenet', \n",
        "              include_top=False, \n",
        "              input_shape=(256, 256, 3))"
      ]
    },
    {
      "cell_type": "code",
      "execution_count": null,
      "metadata": {
        "id": "bSpv7I9_AzGS"
      },
      "outputs": [],
      "source": [
        "#Check to ensure there is no prediction layer\n",
        "vgg19.summary()"
      ]
    },
    {
      "cell_type": "code",
      "execution_count": null,
      "metadata": {
        "id": "m8ckXMWXAzGS"
      },
      "outputs": [],
      "source": [
        "#Instantiate a Sequential model\n",
        "vgg_model = Sequential()\n",
        "\n",
        "#Input Layer\n",
        "# vgg_model.add(vgg)\n",
        "vgg_model.add(vgg19)\n",
        "\n",
        "vgg_model.add(layers.Flatten())\n",
        "\n",
        "#Add Dense Layer\n",
        "vgg_model.add(layers.Dense(64, activation='relu'))\n",
        "\n",
        "#Output Layer\n",
        "vgg_model.add(layers.Dense(10, activation='softmax'))"
      ]
    },
    {
      "cell_type": "code",
      "execution_count": null,
      "metadata": {
        "id": "Q9AodJqpAzGW"
      },
      "outputs": [],
      "source": [
        "# Check whether a layer is trainable (or alter its setting) through the layer.trainable attribute\n",
        "for layer in vgg_model.layers:\n",
        "    print(layer.name, layer.trainable)\n",
        "    \n",
        "# Similarly, you can check how many trainable weights are in the model\n",
        "print(len(vgg_model.trainable_weights))"
      ]
    },
    {
      "cell_type": "code",
      "execution_count": null,
      "metadata": {
        "id": "6f47SHT_AzGW"
      },
      "outputs": [],
      "source": [
        "#Freeze our VGG19 Layer\n",
        "vgg19.trainable = False\n",
        "\n",
        "#Sanity check that VGG19 Layer is frozen\n",
        "for layer in vgg_model.layers:\n",
        "    print(layer.name, layer.trainable)"
      ]
    },
    {
      "cell_type": "code",
      "execution_count": null,
      "metadata": {
        "id": "Gu-RT8bkAzGW"
      },
      "outputs": [],
      "source": [
        "#Compile the model- adam optimizer, categorical_crossentropy loss, and set our metric to accuracy\n",
        "vgg_model.compile(optimizer='adam', \n",
        "                       loss='categorical_crossentropy',  \n",
        "                       metrics=['accuracy'])\n",
        "\n",
        "# print model summary\n",
        "vgg_model.summary()"
      ]
    },
    {
      "cell_type": "code",
      "execution_count": null,
      "metadata": {
        "id": "KDvg4dSOAzGW"
      },
      "outputs": [],
      "source": [
        "# Define Stopping Criteria \n",
        "valcallback = [EarlyStopping(monitor='val_accuracy', mode='max', verbose = 1, patience = 2), \n",
        "               ModelCheckpoint(filepath='vgg19_model.h5', monitor='val_accuracy', save_best_only=True)]\n",
        "\n",
        "\n",
        "# Fit the model\n",
        "vgg_model_history = vgg_model.fit(vgg_train_generator, \n",
        "                                  epochs= 50, \n",
        "                                  validation_data = vgg_val_generator, \n",
        "                                  callbacks= valcallback, \n",
        "                                  batch_size=128, \n",
        "                                  verbose = 1)"
      ]
    },
    {
      "cell_type": "code",
      "execution_count": null,
      "metadata": {
        "id": "Ee2jpdBPAzGa"
      },
      "outputs": [],
      "source": [
        "# Check loss and accuracy on test data\n",
        "test_loss, test_acc = vgg_model.evaluate(vgg_test_generator, verbose = 1)\n",
        "\n",
        "print('Test loss: ', test_loss)\n",
        "print('Test accuracy: ', test_acc)"
      ]
    },
    {
      "cell_type": "code",
      "execution_count": null,
      "metadata": {
        "id": "K25_JB9MAzGb"
      },
      "outputs": [],
      "source": []
    },
    {
      "cell_type": "code",
      "execution_count": null,
      "metadata": {
        "id": "AIMO5epEAzGb"
      },
      "outputs": [],
      "source": []
    },
    {
      "cell_type": "code",
      "execution_count": null,
      "metadata": {
        "id": "QimTGtyCAzGb"
      },
      "outputs": [],
      "source": []
    },
    {
      "cell_type": "code",
      "execution_count": null,
      "metadata": {
        "id": "d8sP-WjzAzGb"
      },
      "outputs": [],
      "source": [
        "# Add augmentation (horizontal flip) to training data but not validation data.\n",
        "\n",
        "# train_folder = 'data/split/train'\n",
        "\n",
        "# # Normalize images and Augment with Horizontal Flip\n",
        "# aug_train_gen = ImageDataGenerator(rescale=1./255, \n",
        "#                                horizontal_flip=True,\n",
        "#                                validation_split = 0.125)\n",
        "\n",
        "# #Augment the train data\n",
        "# aug_train_generator = aug_train_gen.flow_from_directory(train_folder,\n",
        "#                                                 class_mode = 'categorical', \n",
        "#                                                 subset ='training', \n",
        "#                                                 batch_size=128,\n",
        "#                                                 shuffle=False,\n",
        "#                                                 seed=42)\n",
        "                                               \n",
        "# aug_val_generator= ImageDataGenerator(rescale=1./255,\n",
        "#                                validation_split = 0.125).flow_from_directory(train_folder,\n",
        "#                                              class_mode= 'categorical',\n",
        "#                                              subset = \"validation\",\n",
        "#                                              batch_size=128,\n",
        "#                                              shuffle=False,\n",
        "#                                              seed=42)"
      ]
    },
    {
      "cell_type": "markdown",
      "metadata": {
        "id": "Xt2sANR5AzGb"
      },
      "source": [
        "## Evaluation"
      ]
    },
    {
      "cell_type": "markdown",
      "metadata": {
        "id": "EltIRwLAAzGb"
      },
      "source": [
        "Compared to my Baseline Model's performance of 74.1% Test accuracy, my final model was Model 8 with a 78.01% Test accuracy."
      ]
    },
    {
      "cell_type": "markdown",
      "metadata": {
        "id": "R2iIoxXrAzGb"
      },
      "source": [
        "## Conclusion"
      ]
    },
    {
      "cell_type": "markdown",
      "metadata": {
        "id": "KptBbdkcAzGb"
      },
      "source": [
        "### Recommendations"
      ]
    },
    {
      "cell_type": "markdown",
      "metadata": {
        "id": "eisyP48jAzGb"
      },
      "source": [
        "- Use this land cover classifier tool on images of the same land area over time.\n",
        "- Focus deforestation prevention efforts on known wildlife corridor areas where an image’s class has changed over time. "
      ]
    },
    {
      "cell_type": "markdown",
      "metadata": {
        "id": "OI_-biIrAzGc"
      },
      "source": [
        "### Next Steps"
      ]
    },
    {
      "cell_type": "markdown",
      "metadata": {
        "id": "pf1nBjxCAzGc"
      },
      "source": [
        "Create object detection to help classify multiple areas of land cover within an image. "
      ]
    },
    {
      "cell_type": "markdown",
      "metadata": {
        "id": "32ZvJbltAzGc"
      },
      "source": [
        "### References"
      ]
    },
    {
      "cell_type": "markdown",
      "metadata": {
        "id": "vOPDOPMEAzGc"
      },
      "source": [
        "[1] Eurosat: A novel dataset and deep learning benchmark for land use and land cover classification. Patrick Helber, Benjamin Bischke, Andreas Dengel, Damian Borth. IEEE Journal of Selected Topics in Applied Earth Observations and Remote Sensing, 2019."
      ]
    },
    {
      "cell_type": "markdown",
      "metadata": {
        "id": "26AxyM_xAzGc"
      },
      "source": [
        "[2] Introducing EuroSAT: A Novel Dataset and Deep Learning Benchmark for Land Use and Land Cover Classification. Patrick Helber, Benjamin Bischke, Andreas Dengel. 2018 IEEE International Geoscience and Remote Sensing Symposium, 2018."
      ]
    },
    {
      "cell_type": "code",
      "execution_count": null,
      "metadata": {
        "id": "XEuxSFHMAzGc"
      },
      "outputs": [],
      "source": []
    }
  ],
  "metadata": {
    "kernelspec": {
      "display_name": "Python (learn-env)",
      "language": "python",
      "name": "learn-env"
    },
    "language_info": {
      "codemirror_mode": {
        "name": "ipython",
        "version": 3
      },
      "file_extension": ".py",
      "mimetype": "text/x-python",
      "name": "python",
      "nbconvert_exporter": "python",
      "pygments_lexer": "ipython3",
      "version": "3.8.5"
    },
    "colab": {
      "provenance": []
    }
  },
  "nbformat": 4,
  "nbformat_minor": 0
}